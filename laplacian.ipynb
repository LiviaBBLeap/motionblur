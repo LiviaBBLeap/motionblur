{
  "nbformat": 4,
  "nbformat_minor": 0,
  "metadata": {
    "colab": {
      "provenance": [],
      "mount_file_id": "1kX3Dn2nSMfTMKBQVHwAnVn_Xjznz9vch",
      "authorship_tag": "ABX9TyNCMAW1Z7XAUBvULCI+4oq6",
      "include_colab_link": true
    },
    "kernelspec": {
      "name": "python3",
      "display_name": "Python 3"
    },
    "language_info": {
      "name": "python"
    }
  },
  "cells": [
    {
      "cell_type": "markdown",
      "metadata": {
        "id": "view-in-github",
        "colab_type": "text"
      },
      "source": [
        "<a href=\"https://colab.research.google.com/github/LiviaBBLeap/motionblur/blob/main/laplacian.ipynb\" target=\"_parent\"><img src=\"https://colab.research.google.com/assets/colab-badge.svg\" alt=\"Open In Colab\"/></a>"
      ]
    },
    {
      "cell_type": "code",
      "execution_count": null,
      "metadata": {
        "id": "fJTwpXPHPXHI"
      },
      "outputs": [],
      "source": [
        "#imports \n",
        "import cv2\n",
        "import numpy as np\n",
        "import os"
      ]
    },
    {
      "cell_type": "code",
      "source": [
        "#variables\n",
        "lap_threshold = 900\n"
      ],
      "metadata": {
        "id": "PnRAywzRPZs1"
      },
      "execution_count": null,
      "outputs": []
    },
    {
      "cell_type": "code",
      "source": [
        "#returns a number\n",
        "def varianceOfLaplacian(imagePath=\"\", gray=[]):\n",
        "  if imagePath != \"\":\n",
        "    gray = cv2.imread(imagePath,0)\n",
        "  return cv2.Laplacian(gray, cv2.CV_64F).var()"
      ],
      "metadata": {
        "id": "liCsCOgDPZ73"
      },
      "execution_count": null,
      "outputs": []
    },
    {
      "cell_type": "code",
      "source": [
        "#splits given image into grids\n",
        "def imageGridSplit(imagePath =\"\",gray=[], amount_width = 4, amount_height = 2):\n",
        "  if imagePath!= \"\":\n",
        "    image = cv2.imread(imagePath)\n",
        "    gray = cv2.cvtColor(image, cv2.COLOR_BGR2GRAY)\n",
        "  height, width, channels = gray.shape #if we keep colour\n",
        "  #height, width = gray.shape\n",
        "  increment_height= height//amount_height#270\n",
        "  increment_width = width//amount_width#460\n",
        "  grid_collection = []\n",
        "  for h in range(amount_height):  \n",
        "    for w in range(amount_width):\n",
        "      im = gray[h*increment_height:h*increment_height+increment_height,w*increment_width:w*increment_width+increment_width]\n",
        "      grid_collection.append(im)\n",
        "\n",
        "  #returns a collection of cut images\n",
        "  return grid_collection"
      ],
      "metadata": {
        "id": "fHY4Ne_dPaDJ"
      },
      "execution_count": null,
      "outputs": []
    },
    {
      "cell_type": "code",
      "source": [
        "#returns a part of the image wee actually care for, currently one third\n",
        "def focusedPart(imagePath=\"\", gray=[]):\n",
        "  if imagePath!=\"\":\n",
        "    gray = cv2.imread(imagePath,0)\n",
        "  #l, w = gray.shape\n",
        "  l, w, c = gray.shape\n",
        "  length = l//3\n",
        "  return gray[length:length*2]"
      ],
      "metadata": {
        "id": "rjvjmljBPaOD"
      },
      "execution_count": null,
      "outputs": []
    },
    {
      "cell_type": "code",
      "source": [
        "#action to take place\n",
        "\n",
        "def actionClean(ac):\n",
        "  if ac == \"n\":\n",
        "    '''\n",
        "    return 1\n",
        "  else:\n",
        "     return 0\n",
        "     '''\n",
        "  print(\"clean\")\n",
        "def actionBlurry(ac):\n",
        "  '''\n",
        "  if ac == \"y\":\n",
        "    \n",
        "    return 1\n",
        "  else:\n",
        "    return 0\n",
        "  '''\n",
        "  print(\"dirty\")"
      ],
      "metadata": {
        "id": "MTj7BSdIPahh"
      },
      "execution_count": null,
      "outputs": []
    },
    {
      "cell_type": "code",
      "source": [
        "#function that takes an image and splits, calculates\n",
        "def variancesOnImage(imagePath=\"\", gray=[],amount_height=2,amount_width=4):\n",
        "  if imagePath !=\"\":\n",
        "    #gray = cv2.imread(imagePath,0)\n",
        "    gray = cv2.imread(imagePath)\n",
        "\n",
        "\n",
        "  f = focusedPart(gray =gray)\n",
        "\n",
        "  c = imageGridSplit(gray=f, amount_width= amount_width, amount_height = amount_height)\n",
        "  \n",
        "  #keep the variance for all grids\n",
        "  list_stat=[]\n",
        "  \n",
        "  for i in c:\n",
        "    list_stat.append(varianceOfLaplacian(gray=i))\n",
        "\n",
        "  #statistics\n",
        "  m = np.median(list_stat)\n",
        "\n",
        "  l,w,c = gray.shape\n",
        "  half = w//2\n",
        "\n",
        "\n",
        "  actual = imagePath[-5]\n",
        "  if m < lap_threshold:\n",
        "    return actionBlurry(actual)\n",
        "    \n",
        "  elif m> lap_threshold:\n",
        "    return actionClean(actual)"
      ],
      "metadata": {
        "id": "iUxyE_nuPaW-"
      },
      "execution_count": null,
      "outputs": []
    },
    {
      "cell_type": "code",
      "source": [
        "#loop for a folder\n",
        "def laplacianLoop(folder_path):\n",
        "  choice = []\n",
        "  paths = [f for f in os.listdir(folder_path) if os.path.isfile(os.path.join(folder_path, f))]\n",
        "\n",
        "  all = len(paths)\n",
        "  correct =0\n",
        "\n",
        "  for p in paths:\n",
        "    i = variancesOnImage(imagePath=os.path.join(folder_path,p))\n",
        "    correct +=i\n",
        "  return (all, correct)\n",
        "\n",
        "\n"
      ],
      "metadata": {
        "id": "eaX51OdSPaoZ"
      },
      "execution_count": null,
      "outputs": []
    },
    {
      "cell_type": "code",
      "source": [
        "#laplacianLoop(\"/content/drive/MyDrive/testmix\")"
      ],
      "metadata": {
        "colab": {
          "base_uri": "https://localhost:8080/"
        },
        "id": "jlqmGJJ5n3em",
        "outputId": "29d0977d-d049-4f58-f9d6-a5e1fe6fd0fb"
      },
      "execution_count": null,
      "outputs": [
        {
          "output_type": "stream",
          "name": "stdout",
          "text": [
            "106 99\n"
          ]
        }
      ]
    },
    {
      "cell_type": "code",
      "source": [
        "variancesOnImage(\"/content/drive/Shareddrives/System descriptions/LeapEye/DataImage/bbleap/date=2022-08-01/21668014/00df9244-2d1f-4349-80cc-095bc22b3865.png\")"
      ],
      "metadata": {
        "id": "gKvoRN3tgswm",
        "colab": {
          "base_uri": "https://localhost:8080/"
        },
        "outputId": "63083090-75b6-4f48-abc1-92845ba7f7aa"
      },
      "execution_count": null,
      "outputs": [
        {
          "output_type": "stream",
          "name": "stdout",
          "text": [
            "clean\n"
          ]
        }
      ]
    },
    {
      "cell_type": "code",
      "source": [],
      "metadata": {
        "id": "dguKd4pav6xT"
      },
      "execution_count": null,
      "outputs": []
    }
  ]
}
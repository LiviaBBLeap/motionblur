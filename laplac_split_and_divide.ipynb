{
  "nbformat": 4,
  "nbformat_minor": 0,
  "metadata": {
    "colab": {
      "provenance": [],
      "mount_file_id": "1cdB3HF2MkbAqcc1ykkEN46-VJQn-9r_I",
      "authorship_tag": "ABX9TyMiGpDDSYSPqLtP9n6/aPk9",
      "include_colab_link": true
    },
    "kernelspec": {
      "name": "python3",
      "display_name": "Python 3"
    },
    "language_info": {
      "name": "python"
    }
  },
  "cells": [
    {
      "cell_type": "markdown",
      "metadata": {
        "id": "view-in-github",
        "colab_type": "text"
      },
      "source": [
        "<a href=\"https://colab.research.google.com/github/LiviaBBLeap/motionblur/blob/main/laplac_split_and_divide.ipynb\" target=\"_parent\"><img src=\"https://colab.research.google.com/assets/colab-badge.svg\" alt=\"Open In Colab\"/></a>"
      ]
    },
    {
      "cell_type": "code",
      "execution_count": null,
      "metadata": {
        "id": "fJTwpXPHPXHI"
      },
      "outputs": [],
      "source": [
        "#imports \n",
        "import cv2\n",
        "import numpy as np\n",
        "import os"
      ]
    },
    {
      "cell_type": "code",
      "source": [
        "#variables\n",
        "lap_threshold = 900\n",
        "#folder_path = \"/content/drive/MyDrive/clean\"\n",
        "#folder_path = \"/content/drive/Shareddrives/System descriptions/LeapEye/DataImage/bbleap/date=2022-06-11/21668014\"\n",
        "folder_path = \"/content/drive/Shareddrives/System descriptions/LeapEye/DataImage/bbleap/date=2022-07-27/21668014\"\n",
        "image_path = \"/content/drive/MyDrive/00ad9c99-b81c-4c48-82e7-14ed1c3c07dc.png\"\n",
        "\n",
        "folder_path = \"/content/drive/MyDrive/clean\"\n",
        "#/content/drive/MyDrive/mix\n",
        "#/content/drive/MyDrive/clean"
      ],
      "metadata": {
        "id": "PnRAywzRPZs1"
      },
      "execution_count": null,
      "outputs": []
    },
    {
      "cell_type": "code",
      "source": [
        "#returns a number\n",
        "def variance_of_laplacian(imagePath=\"\", gray=[]):\n",
        "  if imagePath != \"\":\n",
        "    gray = cv2.imread(imagePath,0)\n",
        "  return cv2.Laplacian(gray, cv2.CV_64F).var()"
      ],
      "metadata": {
        "id": "liCsCOgDPZ73"
      },
      "execution_count": null,
      "outputs": []
    },
    {
      "cell_type": "code",
      "source": [
        "#splits given image into grids\n",
        "def image_grid_split(imagePath =\"\",gray=[], amount_width = 4, amount_height = 2):\n",
        "  if imagePath!= \"\":\n",
        "    image = cv2.imread(imagePath)\n",
        "    gray = cv2.cvtColor(image, cv2.COLOR_BGR2GRAY)\n",
        "  height, width, channels = gray.shape #if we keep colour\n",
        "  #height, width = gray.shape\n",
        "  increment_height= height//amount_height#270\n",
        "  increment_width = width//amount_width#460\n",
        "  grid_collection = []\n",
        "  for h in range(amount_height):  \n",
        "    for w in range(amount_width):\n",
        "      im = gray[h*increment_height:h*increment_height+increment_height,w*increment_width:w*increment_width+increment_width]\n",
        "      grid_collection.append(im)\n",
        "\n",
        "  #returns a collection of cut images\n",
        "  return grid_collection"
      ],
      "metadata": {
        "id": "fHY4Ne_dPaDJ"
      },
      "execution_count": null,
      "outputs": []
    },
    {
      "cell_type": "code",
      "source": [
        "#returns a part of the image wee actually care for, currently one third\n",
        "def focused_part(imagePath=\"\", gray=[]):\n",
        "  if imagePath!=\"\":\n",
        "    gray = cv2.imread(imagePath,0)\n",
        "  #l, w = gray.shape\n",
        "  l, w, c = gray.shape\n",
        "  length = l//3\n",
        "  return gray[length:length*2]"
      ],
      "metadata": {
        "id": "rjvjmljBPaOD"
      },
      "execution_count": null,
      "outputs": []
    },
    {
      "cell_type": "code",
      "source": [
        "#action to take place\n",
        "import shutil\n",
        "\n",
        "clean_path = \"/content/drive/MyDrive/test/clean/\"\n",
        "blurry_path = \"/content/drive/MyDrive/test/blurry/\"\n",
        "def action_clean( counter,im):\n",
        "  cv2.imwrite(clean_path+str(counter)+'clean.png',im)\n",
        "\n",
        "  print(\"clean\")\n",
        "def action_blurry( counter,im):\n",
        "  cv2.imwrite(blurry_path+str(counter)+'blurry.png',im)\n",
        "\n",
        "  print(\"dirty\")"
      ],
      "metadata": {
        "id": "MTj7BSdIPahh"
      },
      "execution_count": null,
      "outputs": []
    },
    {
      "cell_type": "code",
      "source": [
        "#function that takes an image and splits, calculates\n",
        "def variances_on_image(imagePath=\"\", gray=[],amount_height=2,amount_width=4,counter=0):\n",
        "  if imagePath !=\"\":\n",
        "    #gray = cv2.imread(imagePath,0)\n",
        "    gray = cv2.imread(imagePath)\n",
        "\n",
        "  f = focused_part(gray =gray)\n",
        "\n",
        "  c = image_grid_split(gray=f, amount_width= amount_width, amount_height = amount_height)\n",
        "  \n",
        "  #keep the variance for all grids\n",
        "  list_stat=[]\n",
        "  \n",
        "  for i in c:\n",
        "    list_stat.append(variance_of_laplacian(gray=i))\n",
        "\n",
        "  #statistics\n",
        "  m = np.median(list_stat)\n",
        "\n",
        "  l,w,c = gray.shape\n",
        "  half = w//2\n",
        "\n",
        "\n",
        "\n",
        "  if m < lap_threshold:\n",
        "    action_blurry( counter,gray[:,:half])\n",
        "    counter+=1\n",
        "    action_blurry( counter,gray[:,half:])\n",
        "    \n",
        "  elif m> lap_threshold:\n",
        "    action_clean( counter,gray[:,:half])\n",
        "    counter+=1\n",
        "    action_clean( counter,gray[:,half:])"
      ],
      "metadata": {
        "id": "iUxyE_nuPaW-"
      },
      "execution_count": null,
      "outputs": []
    },
    {
      "cell_type": "code",
      "source": [
        "#loop for a folder\n",
        "paths = [f for f in os.listdir(folder_path) if os.path.isfile(os.path.join(folder_path, f))]\n",
        "counter = 63\n",
        "for p in paths:\n",
        "  variances_on_image(imagePath=os.path.join(folder_path,p), counter=counter)\n",
        "  counter += 2\n",
        "\n",
        "print(counter)"
      ],
      "metadata": {
        "colab": {
          "base_uri": "https://localhost:8080/"
        },
        "id": "eaX51OdSPaoZ",
        "outputId": "2590dfab-6e0b-4f03-dd57-f3ea3acc64bb"
      },
      "execution_count": null,
      "outputs": [
        {
          "output_type": "stream",
          "name": "stdout",
          "text": [
            "clean\n",
            "clean\n",
            "clean\n",
            "clean\n",
            "clean\n",
            "clean\n",
            "clean\n",
            "clean\n",
            "clean\n",
            "clean\n",
            "clean\n",
            "clean\n",
            "dirty\n",
            "dirty\n",
            "clean\n",
            "clean\n",
            "clean\n",
            "clean\n",
            "clean\n",
            "clean\n",
            "clean\n",
            "clean\n",
            "clean\n",
            "clean\n",
            "clean\n",
            "clean\n",
            "dirty\n",
            "dirty\n",
            "clean\n",
            "clean\n",
            "clean\n",
            "clean\n",
            "clean\n",
            "clean\n",
            "clean\n",
            "clean\n",
            "clean\n",
            "clean\n",
            "clean\n"
          ]
        }
      ]
    },
    {
      "cell_type": "code",
      "source": [],
      "metadata": {
        "id": "gKvoRN3tgswm"
      },
      "execution_count": null,
      "outputs": []
    }
  ]
}
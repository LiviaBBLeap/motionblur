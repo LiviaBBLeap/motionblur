{
  "nbformat": 4,
  "nbformat_minor": 0,
  "metadata": {
    "colab": {
      "provenance": []
    },
    "kernelspec": {
      "name": "python3",
      "display_name": "Python 3"
    },
    "language_info": {
      "name": "python"
    }
  },
  "cells": [
    {
      "cell_type": "markdown",
      "source": [
        "This notebook imports all the models and necessary imports, then uses all of them one by one and measures their performance one by one.\n",
        "CNN and SVM need the data to be pre-loaded. Laplacian and Wavelet have written function for themselves."
      ],
      "metadata": {
        "id": "ou266hmLG_qg"
      }
    },
    {
      "cell_type": "code",
      "source": [
        "#imports to be able to import created functions\n",
        "!pip install kora -q\n",
        "from kora import drive\n",
        "drive.link_nbs()"
      ],
      "metadata": {
        "id": "GD_PcBcJyr5i"
      },
      "execution_count": 1,
      "outputs": []
    },
    {
      "cell_type": "code",
      "source": [
        "!pip install import-ipynb\n",
        "import import_ipynb"
      ],
      "metadata": {
        "colab": {
          "base_uri": "https://localhost:8080/"
        },
        "id": "CrvObBAn0mGM",
        "outputId": "276fe15f-8743-4f2a-e725-92a4194a6d10"
      },
      "execution_count": 2,
      "outputs": [
        {
          "output_type": "stream",
          "name": "stdout",
          "text": [
            "Looking in indexes: https://pypi.org/simple, https://us-python.pkg.dev/colab-wheels/public/simple/\n",
            "Requirement already satisfied: import-ipynb in /usr/local/lib/python3.7/dist-packages (0.1.4)\n",
            "Requirement already satisfied: nbformat in /usr/local/lib/python3.7/dist-packages (from import-ipynb) (5.7.0)\n",
            "Requirement already satisfied: IPython in /usr/local/lib/python3.7/dist-packages (from import-ipynb) (7.9.0)\n",
            "Requirement already satisfied: traitlets>=4.2 in /usr/local/lib/python3.7/dist-packages (from IPython->import-ipynb) (5.1.1)\n",
            "Requirement already satisfied: pickleshare in /usr/local/lib/python3.7/dist-packages (from IPython->import-ipynb) (0.7.5)\n",
            "Requirement already satisfied: pexpect in /usr/local/lib/python3.7/dist-packages (from IPython->import-ipynb) (4.8.0)\n",
            "Requirement already satisfied: prompt-toolkit<2.1.0,>=2.0.0 in /usr/local/lib/python3.7/dist-packages (from IPython->import-ipynb) (2.0.10)\n",
            "Requirement already satisfied: pygments in /usr/local/lib/python3.7/dist-packages (from IPython->import-ipynb) (2.6.1)\n",
            "Requirement already satisfied: decorator in /usr/local/lib/python3.7/dist-packages (from IPython->import-ipynb) (4.4.2)\n",
            "Requirement already satisfied: jedi>=0.10 in /usr/local/lib/python3.7/dist-packages (from IPython->import-ipynb) (0.18.2)\n",
            "Requirement already satisfied: backcall in /usr/local/lib/python3.7/dist-packages (from IPython->import-ipynb) (0.2.0)\n",
            "Requirement already satisfied: setuptools>=18.5 in /usr/local/lib/python3.7/dist-packages (from IPython->import-ipynb) (57.4.0)\n",
            "Requirement already satisfied: parso<0.9.0,>=0.8.0 in /usr/local/lib/python3.7/dist-packages (from jedi>=0.10->IPython->import-ipynb) (0.8.3)\n",
            "Requirement already satisfied: six>=1.9.0 in /usr/local/lib/python3.7/dist-packages (from prompt-toolkit<2.1.0,>=2.0.0->IPython->import-ipynb) (1.15.0)\n",
            "Requirement already satisfied: wcwidth in /usr/local/lib/python3.7/dist-packages (from prompt-toolkit<2.1.0,>=2.0.0->IPython->import-ipynb) (0.2.5)\n",
            "Requirement already satisfied: jupyter-core in /usr/local/lib/python3.7/dist-packages (from nbformat->import-ipynb) (4.11.2)\n",
            "Requirement already satisfied: importlib-metadata>=3.6 in /usr/local/lib/python3.7/dist-packages (from nbformat->import-ipynb) (4.13.0)\n",
            "Requirement already satisfied: fastjsonschema in /usr/local/lib/python3.7/dist-packages (from nbformat->import-ipynb) (2.16.2)\n",
            "Requirement already satisfied: jsonschema>=2.6 in /usr/local/lib/python3.7/dist-packages (from nbformat->import-ipynb) (4.3.3)\n",
            "Requirement already satisfied: zipp>=0.5 in /usr/local/lib/python3.7/dist-packages (from importlib-metadata>=3.6->nbformat->import-ipynb) (3.10.0)\n",
            "Requirement already satisfied: typing-extensions>=3.6.4 in /usr/local/lib/python3.7/dist-packages (from importlib-metadata>=3.6->nbformat->import-ipynb) (4.1.1)\n",
            "Requirement already satisfied: attrs>=17.4.0 in /usr/local/lib/python3.7/dist-packages (from jsonschema>=2.6->nbformat->import-ipynb) (22.1.0)\n",
            "Requirement already satisfied: importlib-resources>=1.4.0 in /usr/local/lib/python3.7/dist-packages (from jsonschema>=2.6->nbformat->import-ipynb) (5.10.0)\n",
            "Requirement already satisfied: pyrsistent!=0.17.0,!=0.17.1,!=0.17.2,>=0.14.0 in /usr/local/lib/python3.7/dist-packages (from jsonschema>=2.6->nbformat->import-ipynb) (0.19.2)\n",
            "Requirement already satisfied: ptyprocess>=0.5 in /usr/local/lib/python3.7/dist-packages (from pexpect->IPython->import-ipynb) (0.7.0)\n"
          ]
        }
      ]
    },
    {
      "cell_type": "code",
      "execution_count": 3,
      "metadata": {
        "id": "eWSJPfgnpJKF"
      },
      "outputs": [],
      "source": [
        "#imports for evaluation\n",
        "from time import process_time\n",
        "import tracemalloc\n"
      ]
    },
    {
      "cell_type": "code",
      "source": [
        "#test\n",
        "folder = \"/content/drive/MyDrive/test\"\n",
        "folderClean = \"/content/drive/MyDrive/test/clean\"\n",
        "folderBlurry = \"/content/drive/MyDrive/test/blurry\"\n",
        "mixedFolder = \"/content/drive/MyDrive/testmix\"\n"
      ],
      "metadata": {
        "id": "zz0rL9Zxp5eW"
      },
      "execution_count": 4,
      "outputs": []
    },
    {
      "cell_type": "code",
      "source": [
        "\n",
        "def measure(modelName,mem, start, end):\n",
        "  print(modelName)\n",
        "  print(\"Prediction time \",end-start)\n",
        "  print(\"Current memory \", mem[0])\n",
        "  print(\"Maximum memory \", mem[1])"
      ],
      "metadata": {
        "id": "Pb_sVvIPBAaS"
      },
      "execution_count": 5,
      "outputs": []
    },
    {
      "cell_type": "markdown",
      "source": [
        "#CNN"
      ],
      "metadata": {
        "id": "X3ye5V6I5tbw"
      }
    },
    {
      "cell_type": "code",
      "source": [
        "from keras import models\n",
        "from keras.preprocessing.image import ImageDataGenerator\n",
        "#the two metrics returned are loss and accuracy"
      ],
      "metadata": {
        "id": "v6MLBsaMZDpV"
      },
      "execution_count": 5,
      "outputs": []
    },
    {
      "cell_type": "code",
      "source": [
        "tracemalloc.start()\n",
        "st= process_time()\n",
        "\n",
        "datagen = ImageDataGenerator()\n",
        "test_datagen = datagen.flow_from_directory(folder, class_mode=\"binary\",target_size =( 1080,1920))\n",
        "\n",
        "end = process_time()\n",
        "mem = tracemalloc.get_traced_memory()\n",
        "tracemalloc.stop()\n",
        "measure(\"CNN data loading \",mem, st, end)"
      ],
      "metadata": {
        "colab": {
          "base_uri": "https://localhost:8080/"
        },
        "id": "mM0D38MkbUfi",
        "outputId": "59231ad7-76d9-4f95-cc26-4e2578b9ed14"
      },
      "execution_count": 6,
      "outputs": [
        {
          "output_type": "stream",
          "name": "stdout",
          "text": [
            "Found 106 images belonging to 2 classes.\n",
            "CNN data loading \n",
            "Prediction time  0.025001591000000545\n",
            "Current memory  157596\n",
            "Maximum memory  215088\n"
          ]
        }
      ]
    },
    {
      "cell_type": "code",
      "source": [
        "#3 epochs\n",
        "tracemalloc.start()\n",
        "st= process_time()\n",
        "\n",
        "model = models.load_model(\"/content/drive/MyDrive/models/cnn_saved_3\")\n",
        "model.evaluate(test_datagen)\n",
        "\n",
        "end = process_time()\n",
        "mem = tracemalloc.get_traced_memory()\n",
        "tracemalloc.stop()"
      ],
      "metadata": {
        "colab": {
          "base_uri": "https://localhost:8080/"
        },
        "id": "i4G0eXqBufU6",
        "outputId": "53630d4c-5193-4f2b-95bd-6c9eeaa4851f"
      },
      "execution_count": 7,
      "outputs": [
        {
          "output_type": "stream",
          "name": "stdout",
          "text": [
            "4/4 [==============================] - 62s 19s/step - loss: 1.3320 - accuracy: 0.4717\n"
          ]
        }
      ]
    },
    {
      "cell_type": "code",
      "source": [
        "measure(\"CNN trained on 3 epochs\",mem, st, end)"
      ],
      "metadata": {
        "colab": {
          "base_uri": "https://localhost:8080/"
        },
        "id": "MrhyGh02A72K",
        "outputId": "3beed9e0-6142-4451-91d1-4e2ca3a69f57"
      },
      "execution_count": 8,
      "outputs": [
        {
          "output_type": "stream",
          "name": "stdout",
          "text": [
            "CNN trained on 3 epochs\n",
            "Prediction time  26.669830514\n",
            "Current memory  9117301\n",
            "Maximum memory  2402969755\n"
          ]
        }
      ]
    },
    {
      "cell_type": "code",
      "source": [
        "#50 epochs\n",
        "tracemalloc.start()\n",
        "st= process_time()\n",
        "\n",
        "model = models.load_model(\"/content/drive/MyDrive/models/cnn_50_epoch\")\n",
        "model.evaluate(test_datagen)\n",
        "\n",
        "end = process_time()\n",
        "mem = tracemalloc.get_traced_memory()\n",
        "tracemalloc.stop()"
      ],
      "metadata": {
        "id": "36Vf26crDNEL",
        "colab": {
          "base_uri": "https://localhost:8080/"
        },
        "outputId": "ddb21cb0-dff2-49aa-8d51-8f9851efa29f"
      },
      "execution_count": 9,
      "outputs": [
        {
          "output_type": "stream",
          "name": "stdout",
          "text": [
            "4/4 [==============================] - 17s 3s/step - loss: 0.2819 - accuracy: 0.8868\n"
          ]
        }
      ]
    },
    {
      "cell_type": "code",
      "source": [
        "measure(\"CNN trained on 50 epochs\",mem, st, end)"
      ],
      "metadata": {
        "id": "Y3DRyX0ZD4zZ",
        "colab": {
          "base_uri": "https://localhost:8080/"
        },
        "outputId": "c605bff6-6ba1-49d0-b038-3dc6bf624d97"
      },
      "execution_count": 10,
      "outputs": [
        {
          "output_type": "stream",
          "name": "stdout",
          "text": [
            "CNN trained on 50 epochs\n",
            "Prediction time  26.452229937000002\n",
            "Current memory  4228649\n",
            "Maximum memory  2453644880\n"
          ]
        }
      ]
    },
    {
      "cell_type": "markdown",
      "source": [
        "#SVM"
      ],
      "metadata": {
        "id": "DsfuHQvo5vPy"
      }
    },
    {
      "cell_type": "code",
      "source": [
        "import pickle\n",
        "import numpy as np\n",
        "from sklearn.metrics import accuracy_score\n",
        "from os import listdir\n",
        "from os.path import isfile, join\n",
        "from skimage.io import imread"
      ],
      "metadata": {
        "id": "wwxbklF0aH_q"
      },
      "execution_count": 4,
      "outputs": []
    },
    {
      "cell_type": "code",
      "source": [
        "tracemalloc.start()\n",
        "st= process_time()\n",
        "\n",
        "mypath = folderClean\n",
        "files = [f for f in listdir(mypath) if isfile(join(mypath, f))]\n",
        "\n",
        "x = []\n",
        "y = []\n",
        "\n",
        "for file in files:\n",
        "    y.append(0)\n",
        "    img = imread(mypath +'/' +file)#.astype('int8')\n",
        "    x.append(img.flatten())\n",
        "\n",
        "\n",
        "\n",
        "mypath = folderBlurry \n",
        "files = [f for f in listdir(mypath) if isfile(join(mypath, f))]\n",
        "\n",
        "for file in files:\n",
        "    label = \"blurry\"\n",
        "    y.append(1)\n",
        "    img = imread(mypath+'/'+file)#.astype('int8')\n",
        "    x.append(img.flatten())\n",
        "\n",
        "x = np.array(x)\n",
        "y = np.array(y)\n",
        "\n",
        "end = process_time()\n",
        "mem = tracemalloc.get_traced_memory()\n",
        "tracemalloc.stop()"
      ],
      "metadata": {
        "id": "eDw8MfE6J3Wd"
      },
      "execution_count": 5,
      "outputs": []
    },
    {
      "cell_type": "code",
      "source": [
        "measure(\"SVM data reading\",mem, st, end)"
      ],
      "metadata": {
        "id": "WrphBD2dMT6t",
        "colab": {
          "base_uri": "https://localhost:8080/"
        },
        "outputId": "aad62b18-3916-4599-c7cd-c72db3178ea7"
      },
      "execution_count": 6,
      "outputs": [
        {
          "output_type": "stream",
          "name": "stdout",
          "text": [
            "SVM data reading\n",
            "Prediction time  9.183447258\n",
            "Current memory  1325780633\n",
            "Maximum memory  1332003516\n"
          ]
        }
      ]
    },
    {
      "cell_type": "code",
      "source": [
        "#100 imgs, int8\n",
        "tracemalloc.start()\n",
        "st= process_time()\n",
        "\n",
        "svc = pickle.load(open(\"/content/drive/MyDrive/models/svm_100img_int8.sav\", 'rb'))\n",
        "\n",
        "y_pred=svc.predict(x)\n",
        "\n",
        "end = process_time()\n",
        "mem = tracemalloc.get_traced_memory()\n",
        "tracemalloc.stop()\n",
        "\n",
        "print(\"The predicted Data is :\")\n",
        "print(y_pred)\n",
        "print(\"The actual data is:\")\n",
        "print(np.array(y))\n",
        "print(f\"The model is {accuracy_score(y_pred,y)*100}% accurate\")\n"
      ],
      "metadata": {
        "colab": {
          "base_uri": "https://localhost:8080/"
        },
        "id": "xTy-qchwugdh",
        "outputId": "824b7198-abf9-4f72-fbc1-88f606098a6f"
      },
      "execution_count": 7,
      "outputs": [
        {
          "output_type": "stream",
          "name": "stdout",
          "text": [
            "The predicted Data is :\n",
            "[1 1 1 1 1 1 1 1 1 1 1 1 1 1 1 1 1 1 1 1 1 1 1 1 1 1 1 1 1 1 1 1 1 1 1 1 1\n",
            " 1 1 1 1 1 1 1 1 1 1 1 1 1 1 1 1 1 1 1 1 1 1 1 1 1 1 1 1 1 1 1 1 1 1 1 1 1\n",
            " 1 1 1 1 1 1 1 1 1 1 1 1 1 1 1 1 1 1 1 1 1 1 1 1 1 1 1 1 1 1 1 1]\n",
            "The actual data is:\n",
            "[0 0 0 0 0 0 0 0 0 0 0 0 0 0 0 0 0 0 0 0 0 0 0 0 0 0 0 0 0 0 0 0 0 0 0 0 0\n",
            " 0 0 0 0 0 0 0 0 0 0 0 0 0 1 1 1 1 1 1 1 1 1 1 1 1 1 1 1 1 1 1 1 1 1 1 1 1\n",
            " 1 1 1 1 1 1 1 1 1 1 1 1 1 1 1 1 1 1 1 1 1 1 1 1 1 1 1 1 1 1 1 1]\n",
            "The model is 52.83018867924528% accurate\n"
          ]
        }
      ]
    },
    {
      "cell_type": "code",
      "source": [
        "measure(\"SVM trained on 100 images with the type int8\",mem, st, end)"
      ],
      "metadata": {
        "colab": {
          "base_uri": "https://localhost:8080/"
        },
        "id": "EKMl0pyWD5-A",
        "outputId": "a9adccb0-8ada-4c0b-8fe0-b9cc6b2481f3"
      },
      "execution_count": 8,
      "outputs": [
        {
          "output_type": "stream",
          "name": "stdout",
          "text": [
            "SVM trained on 100 images with the type int8\n",
            "Prediction time  393.149457295\n",
            "Current memory  4033258995\n",
            "Maximum memory  9308624001\n"
          ]
        }
      ]
    },
    {
      "cell_type": "code",
      "source": [
        "#100 img, float 64\n",
        "tracemalloc.start()\n",
        "st= process_time()\n",
        "\n",
        "svc = pickle.load(open(\"/content/drive/MyDrive/models/svm_100img_float64.sav\", 'rb'))\n",
        "\n",
        "y_pred=svc.predict(x)\n",
        "\n",
        "end = process_time()\n",
        "mem = tracemalloc.get_traced_memory()\n",
        "tracemalloc.stop()\n",
        "\n",
        "print(\"The predicted Data is :\")\n",
        "print(y_pred)\n",
        "print(\"The actual data is:\")\n",
        "print(np.array(y))\n",
        "print(f\"The model is {accuracy_score(y_pred,y)*100}% accurate\")"
      ],
      "metadata": {
        "id": "0ZXA1tqPDWq0",
        "colab": {
          "base_uri": "https://localhost:8080/"
        },
        "outputId": "46e8425f-d212-403e-843d-b9c329c1d4af"
      },
      "execution_count": 6,
      "outputs": [
        {
          "output_type": "stream",
          "name": "stderr",
          "text": [
            "/usr/local/lib/python3.7/dist-packages/sklearn/base.py:338: UserWarning: Trying to unpickle estimator SVC from version 1.0 when using version 1.0.2. This might lead to breaking code or invalid results. Use at your own risk. For more info please refer to:\n",
            "https://scikit-learn.org/stable/modules/model_persistence.html#security-maintainability-limitations\n",
            "  UserWarning,\n"
          ]
        },
        {
          "output_type": "stream",
          "name": "stdout",
          "text": [
            "The predicted Data is :\n",
            "[0 0 1 1 1 1 0 0 0 0 1 1 0 0 0 0 0 0 0 0 0 0 0 0 1 1 1 1 0 0 0 0 0 0 0 0 0\n",
            " 0 0 0 0 0 0 0 0 0 0 0 0 0 1 1 1 1 0 0 0 0 1 1 1 1 1 1 1 1 1 1 1 1 1 1 1 1\n",
            " 0 0 1 1 1 1 1 1 1 1 1 1 1 1 1 1 0 0 1 1 1 1 1 1 0 0 1 1 1 1 0 0]\n",
            "The actual data is:\n",
            "[0 0 0 0 0 0 0 0 0 0 0 0 0 0 0 0 0 0 0 0 0 0 0 0 0 0 0 0 0 0 0 0 0 0 0 0 0\n",
            " 0 0 0 0 0 0 0 0 0 0 0 0 0 1 1 1 1 1 1 1 1 1 1 1 1 1 1 1 1 1 1 1 1 1 1 1 1\n",
            " 1 1 1 1 1 1 1 1 1 1 1 1 1 1 1 1 1 1 1 1 1 1 1 1 1 1 1 1 1 1 1 1]\n",
            "The model is 79.24528301886792% accurate\n"
          ]
        }
      ]
    },
    {
      "cell_type": "code",
      "source": [
        "measure(\"SVM trained on 100 images with the type float64\",mem, st, end)"
      ],
      "metadata": {
        "id": "tENNdoDCD6m2",
        "colab": {
          "base_uri": "https://localhost:8080/"
        },
        "outputId": "d36ff3f0-5033-4054-a75c-74d7c1446b93"
      },
      "execution_count": 7,
      "outputs": [
        {
          "output_type": "stream",
          "name": "stdout",
          "text": [
            "SVM trained on 100 images with the type float64\n",
            "Prediction time  582.650562886\n",
            "Current memory  5476585684\n",
            "Maximum memory  10950825306\n"
          ]
        }
      ]
    },
    {
      "cell_type": "code",
      "source": [
        "#100 img grid search\n",
        "tracemalloc.start()\n",
        "st= process_time()\n",
        "\n",
        "loaded_model = pickle.load(open(\"/content/drive/MyDrive/models/svm_100img_float64_gridsearch.sav\", 'rb'))\n",
        "\n",
        "y_pred=svc.predict(x)\n",
        "\n",
        "end = process_time()\n",
        "mem = tracemalloc.get_traced_memory()\n",
        "tracemalloc.stop()\n",
        "\n",
        "print(\"The predicted Data is :\")\n",
        "print(y_pred)\n",
        "print(\"The actual data is:\")\n",
        "print(np.array(y))\n",
        "print(f\"The model is {accuracy_score(y_pred,y)*100}% accurate\")"
      ],
      "metadata": {
        "id": "ncRMq04mDY8_",
        "colab": {
          "base_uri": "https://localhost:8080/"
        },
        "outputId": "e39c055c-8d8f-45d2-f413-8846c864f49b"
      },
      "execution_count": 8,
      "outputs": [
        {
          "output_type": "stream",
          "name": "stderr",
          "text": [
            "/usr/local/lib/python3.7/dist-packages/sklearn/base.py:338: UserWarning: Trying to unpickle estimator SVC from version 1.0 when using version 1.0.2. This might lead to breaking code or invalid results. Use at your own risk. For more info please refer to:\n",
            "https://scikit-learn.org/stable/modules/model_persistence.html#security-maintainability-limitations\n",
            "  UserWarning,\n"
          ]
        },
        {
          "output_type": "stream",
          "name": "stdout",
          "text": [
            "The predicted Data is :\n",
            "[0 0 1 1 1 1 0 0 0 0 1 1 0 0 0 0 0 0 0 0 0 0 0 0 1 1 1 1 0 0 0 0 0 0 0 0 0\n",
            " 0 0 0 0 0 0 0 0 0 0 0 0 0 1 1 1 1 0 0 0 0 1 1 1 1 1 1 1 1 1 1 1 1 1 1 1 1\n",
            " 0 0 1 1 1 1 1 1 1 1 1 1 1 1 1 1 0 0 1 1 1 1 1 1 0 0 1 1 1 1 0 0]\n",
            "The actual data is:\n",
            "[0 0 0 0 0 0 0 0 0 0 0 0 0 0 0 0 0 0 0 0 0 0 0 0 0 0 0 0 0 0 0 0 0 0 0 0 0\n",
            " 0 0 0 0 0 0 0 0 0 0 0 0 0 1 1 1 1 1 1 1 1 1 1 1 1 1 1 1 1 1 1 1 1 1 1 1 1\n",
            " 1 1 1 1 1 1 1 1 1 1 1 1 1 1 1 1 1 1 1 1 1 1 1 1 1 1 1 1 1 1 1 1]\n",
            "The model is 79.24528301886792% accurate\n"
          ]
        }
      ]
    },
    {
      "cell_type": "code",
      "source": [
        "measure(\"SVM trained on 100 images with the type float64 with gridsearch\",mem, st, end)"
      ],
      "metadata": {
        "id": "R2A1wZWJD7L4",
        "colab": {
          "base_uri": "https://localhost:8080/"
        },
        "outputId": "c4360688-51d7-4ff8-c140-58df43aebea8"
      },
      "execution_count": 9,
      "outputs": [
        {
          "output_type": "stream",
          "name": "stdout",
          "text": [
            "SVM trained on 100 images with the type float64 with gridsearch\n",
            "Prediction time  572.3917808410001\n",
            "Current memory  53616\n",
            "Maximum memory  5275347544\n"
          ]
        }
      ]
    },
    {
      "cell_type": "markdown",
      "source": [
        "#Wavelet"
      ],
      "metadata": {
        "id": "TvAx6-Ar5xBw"
      }
    },
    {
      "cell_type": "code",
      "source": [
        "import wavelet"
      ],
      "metadata": {
        "id": "zlo3EKvd7zj8",
        "colab": {
          "base_uri": "https://localhost:8080/"
        },
        "outputId": "39b2bef9-d819-4dcd-b46a-bcf8c0f710fd"
      },
      "execution_count": 8,
      "outputs": [
        {
          "output_type": "stream",
          "name": "stdout",
          "text": [
            "importing Jupyter notebook from /nbs/wavelet.ipynb\n"
          ]
        }
      ]
    },
    {
      "cell_type": "code",
      "source": [
        "tracemalloc.start()\n",
        "st= process_time()\n",
        "\n",
        "a,c = wavelet.waveletLoopPer(mixedFolder)\n",
        "print(a, c)\n",
        "\n",
        "end = process_time()\n",
        "mem = tracemalloc.get_traced_memory()\n",
        "tracemalloc.stop()\n",
        "print(a,c)\n",
        "print(c/a*100)"
      ],
      "metadata": {
        "id": "E9dG4SFdugZX",
        "colab": {
          "base_uri": "https://localhost:8080/"
        },
        "outputId": "44d03847-8b8d-4558-9646-165d7d2636ce"
      },
      "execution_count": 10,
      "outputs": [
        {
          "output_type": "stream",
          "name": "stdout",
          "text": [
            "106 56\n",
            "106 56\n",
            "52.83018867924528\n"
          ]
        }
      ]
    },
    {
      "cell_type": "code",
      "source": [
        "measure(\"Wavelet deciding on Per\",mem, st, end)"
      ],
      "metadata": {
        "id": "PBVKf_aCD8DY",
        "colab": {
          "base_uri": "https://localhost:8080/"
        },
        "outputId": "36ea4049-d119-4243-fbfa-0d69367ad3e7"
      },
      "execution_count": 11,
      "outputs": [
        {
          "output_type": "stream",
          "name": "stdout",
          "text": [
            "Wavelet deciding on Per\n",
            "Prediction time  48.535598838000006\n",
            "Current memory  6421000\n",
            "Maximum memory  47714304\n"
          ]
        }
      ]
    },
    {
      "cell_type": "code",
      "source": [
        "tracemalloc.start()\n",
        "st= process_time()\n",
        "\n",
        "a,c = wavelet.waveletLoopExtent(mixedFolder)\n",
        "\n",
        "end = process_time()\n",
        "mem = tracemalloc.get_traced_memory()\n",
        "tracemalloc.stop()\n",
        "\n",
        "print(a,c)\n",
        "print(c/a*100)"
      ],
      "metadata": {
        "id": "nDzq1mNBCKmS",
        "colab": {
          "base_uri": "https://localhost:8080/"
        },
        "outputId": "780a7a7b-d930-426d-ba55-672d908bd9e5"
      },
      "execution_count": 12,
      "outputs": [
        {
          "output_type": "stream",
          "name": "stdout",
          "text": [
            "106 56\n",
            "52.83018867924528\n"
          ]
        }
      ]
    },
    {
      "cell_type": "code",
      "source": [
        "measure(\"Wavelet deciding on blur extent\",mem, st, end)"
      ],
      "metadata": {
        "id": "6YvafFLeD8kl",
        "colab": {
          "base_uri": "https://localhost:8080/"
        },
        "outputId": "10b1b054-c905-410a-f90d-88aa2736f060"
      },
      "execution_count": 13,
      "outputs": [
        {
          "output_type": "stream",
          "name": "stdout",
          "text": [
            "Wavelet deciding on blur extent\n",
            "Prediction time  49.880525846\n",
            "Current memory  31193\n",
            "Maximum memory  41319072\n"
          ]
        }
      ]
    },
    {
      "cell_type": "markdown",
      "source": [
        "#Laplacian"
      ],
      "metadata": {
        "id": "WrU63QtL5yup"
      }
    },
    {
      "cell_type": "code",
      "source": [
        "import laplacian"
      ],
      "metadata": {
        "id": "jxr9Lm0f51ed",
        "colab": {
          "base_uri": "https://localhost:8080/"
        },
        "outputId": "07b1df47-abf2-4966-f6ac-52e3ee2887a2"
      },
      "execution_count": 6,
      "outputs": [
        {
          "output_type": "stream",
          "name": "stdout",
          "text": [
            "importing Jupyter notebook from /nbs/laplacian.ipynb\n"
          ]
        }
      ]
    },
    {
      "cell_type": "code",
      "source": [
        "tracemalloc.start()\n",
        "st= process_time()\n",
        "\n",
        "a, c =laplacian.laplacianLoop(mixedFolder)\n",
        "\n",
        "end = process_time()\n",
        "mem = tracemalloc.get_traced_memory()\n",
        "tracemalloc.stop()\n",
        "\n",
        "print(a,c)\n",
        "print(c/a*100)"
      ],
      "metadata": {
        "id": "p6-N-DJZugWs",
        "colab": {
          "base_uri": "https://localhost:8080/"
        },
        "outputId": "03b24898-b2d6-4fed-c5b1-99c2bb131be0"
      },
      "execution_count": 8,
      "outputs": [
        {
          "output_type": "stream",
          "name": "stdout",
          "text": [
            "106 99\n",
            "93.39622641509435\n"
          ]
        }
      ]
    },
    {
      "cell_type": "code",
      "source": [
        "measure(\"Laplacian with threshold 900\",mem, st, end)"
      ],
      "metadata": {
        "id": "iC-aI3q2D9aE",
        "colab": {
          "base_uri": "https://localhost:8080/"
        },
        "outputId": "4d1014a6-904f-4e67-90df-6bddfd5fedc3"
      },
      "execution_count": 9,
      "outputs": [
        {
          "output_type": "stream",
          "name": "stdout",
          "text": [
            "Laplacian with threshold 900\n",
            "Prediction time  8.755929972\n",
            "Current memory  40223\n",
            "Maximum memory  10485784\n"
          ]
        }
      ]
    }
  ]
}
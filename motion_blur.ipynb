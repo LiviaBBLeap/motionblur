{
  "cells": [
    {
      "cell_type": "markdown",
      "metadata": {
        "id": "view-in-github",
        "colab_type": "text"
      },
      "source": [
        "<a href=\"https://colab.research.google.com/github/LiviaBBLeap/motionblur/blob/main/motion_blur.ipynb\" target=\"_parent\"><img src=\"https://colab.research.google.com/assets/colab-badge.svg\" alt=\"Open In Colab\"/></a>"
      ]
    },
    {
      "cell_type": "code",
      "execution_count": null,
      "id": "f3b20586",
      "metadata": {
        "id": "f3b20586"
      },
      "outputs": [],
      "source": [
        "import cv2\n",
        "import numpy as np\n",
        "import shutil\n",
        "import os\n",
        "from imutils import paths"
      ]
    },
    {
      "cell_type": "code",
      "execution_count": null,
      "id": "8abc58f0",
      "metadata": {
        "id": "8abc58f0"
      },
      "outputs": [],
      "source": [
        "#local paths\n",
        "blurry_path = r\"C:\\Users\\livin\\Desktop\\bbleap\\blurry\"\n",
        "imagePath = r\"C:\\Users\\livin\\Desktop\\bbleap\\mix\\f82a6337-e751-4042-b5e8-6b9fd5e40d66.png\"\n",
        "clean_path = r\"C:\\Users\\livin\\Desktop\\bbleap\\clean\"\n",
        "mix_path = r\"C:\\Users\\livin\\Desktop\\bbleap\\mix\""
      ]
    },
    {
      "cell_type": "code",
      "execution_count": null,
      "id": "7e655c20",
      "metadata": {
        "id": "7e655c20"
      },
      "outputs": [],
      "source": [
        "def variance_of_laplacian(imagePath):\n",
        "    image = cv2.imread(imagePath)\n",
        "    gray = cv2.cvtColor(image, cv2.COLOR_BGR2GRAY)\n",
        "    return cv2.Laplacian(gray, cv2.CV_64F).var()\n",
        "\n",
        "def variance_of_gray(imagePath):\n",
        "    image = cv2.imread(imagePath)\n",
        "    gray = cv2.cvtColor(image, cv2.COLOR_BGR2GRAY)\n",
        "    return np.var(image)"
      ]
    },
    {
      "cell_type": "code",
      "execution_count": null,
      "id": "4b004c17",
      "metadata": {
        "id": "4b004c17",
        "outputId": "2f4b62b9-83ce-4152-99dc-e2f436b0e81a"
      },
      "outputs": [
        {
          "data": {
            "text/plain": [
              "1059.80148677501"
            ]
          },
          "execution_count": 11,
          "metadata": {},
          "output_type": "execute_result"
        }
      ],
      "source": [
        "\n",
        "fm = variance_of_laplacian(imagePath)\n",
        "fm"
      ]
    },
    {
      "cell_type": "markdown",
      "id": "0507c081",
      "metadata": {
        "id": "0507c081"
      },
      "source": [
        "# laplace"
      ]
    },
    {
      "cell_type": "code",
      "execution_count": null,
      "id": "c3b2515a",
      "metadata": {
        "id": "c3b2515a",
        "outputId": "ab7a2308-4750-4ce0-c07f-ba068d43fcf9"
      },
      "outputs": [
        {
          "name": "stdout",
          "output_type": "stream",
          "text": [
            "0b52ae12-abc6-42bb-94c1-85393d87d8e6.png 1564.7429681463557\n",
            "1b727e80-8d23-41a6-bf96-7a613169502c.png 176.91257161017342\n",
            "27119b12-cfbe-46ba-a0e4-81f835850d4d.png 373.85239193772514\n",
            "a73a2c3c-5a4e-4ee1-add8-55a5e84fcacc.png 438.5768974243682\n",
            "afb76cd9-5692-4c17-9c8c-7492c5d53121.png 489.8947286579481\n",
            "bf89e8fc-313a-4ab0-a1eb-2845492e9ff8.png 29.416480275132404\n",
            "d0cde6f2-a009-4b0f-8974-0bf3ac785e1d.png 170.61800829448418\n",
            "e98499f9-f452-4760-8188-55e50e4c3158.png 215.19874972780465\n",
            "ecb7053f-d167-4017-9241-dd87c4203b75.png 851.9128389952674\n",
            "ecec748c-d6ee-4e7c-a114-dc8bd8311d73.png 415.94031310228047\n",
            "ee2a9400-785c-4f0b-b4e2-eb4f27e6b988.png 867.086486874269\n",
            "f2168600-a764-4a58-a1ea-398f07381cc4.png 267.5121643925865\n",
            "f37b1986-862a-42aa-bbcd-d527b6a4f8bf.png 124.59969906703277\n",
            "f524f074-74f8-4700-bafb-89d44cd673ed.png 318.00106426673955\n",
            "f5f34679-f5fc-4be3-95de-026fc21d9a4a.png 398.3459748724033\n",
            "f7109110-95c3-4ba4-b4e2-460213445811.png 664.9907971211497\n",
            "f72857c5-325c-4f84-a1ed-c9ab0976a854.png 912.842056400765\n",
            "f7a45870-21f5-49de-9361-eef9780ad4ad.png 850.2752706376442\n",
            "f85b8cdc-de2b-46a9-9c4d-d5ac27ab9019.png 197.4400322885461\n",
            "f8ef8117-6af4-440b-9a0b-79aec67f0cf0.png 1089.2102218985767\n",
            "f9418eab-aab6-45ee-972e-cda057428367.png 722.4231589567361\n",
            "f952f28e-e38f-4418-8082-36714a287b27.png 500.158698839363\n",
            "f9d36fee-c504-49ba-8a87-a58737ba2420.png 53.67262532812462\n",
            "ff41d066-f970-438d-948e-ac32ebe10076.png 63.13412880813878\n"
          ]
        }
      ],
      "source": [
        "#loops to evaluate blurry\n",
        "images = [f for f in os.listdir(blurry_path) if os.path.isfile(os.path.join(blurry_path, f))]\n",
        "for i in images:\n",
        "    m=os.path.join(blurry_path,i)\n",
        "    print(i,variance_of_laplacian(m))"
      ]
    },
    {
      "cell_type": "code",
      "execution_count": null,
      "id": "4a562765",
      "metadata": {
        "id": "4a562765",
        "outputId": "56c47e96-1f3b-427a-d92f-75609131797e"
      },
      "outputs": [
        {
          "name": "stdout",
          "output_type": "stream",
          "text": [
            "0be6c603-17bb-481a-82d1-1511f020f4cc.png 580.5022799619585\n",
            "51c32cde-75b4-49f1-9ad9-d1deb8dfac3a.png 2105.584954400906\n",
            "6894fe60-f4ae-4673-aee0-f4f33f0c578b.png 1174.2778582704304\n",
            "a67f8b1e-d9df-4dbe-b7e1-ddc90f71ee0a.png 1673.5500912970856\n",
            "ad63c388-4d92-4070-93b9-21c783a1c216.png 1850.8375623893958\n",
            "adfb679a-1c7a-41bf-b3dd-d6ab8d5d6220.png 1213.1263780367983\n",
            "af5474c0-2937-49fe-a028-4744bb0f9b5f.png 2508.348254068116\n",
            "af95917c-37d4-4a8d-ba37-f5fa97c0199e.png 1501.995854710566\n",
            "cdad925e-4e0c-4849-81af-4d5aed1c8172.png 1789.071696238676\n",
            "d9ca036a-9c26-44ec-860f-f628a34faff3.png 2155.4634528075862\n",
            "dffadfaf-932c-4ecf-b7ec-90acca0dc4e6.png 1863.501214552816\n",
            "e7ed8bc7-ad21-4119-9f73-7016cb8dd3fe.png 2369.4197903783297\n",
            "ed4a7df9-145a-417c-9140-cb7b3dcf9e7a.png 1697.7656239711196\n",
            "edf5ee53-40f6-499c-892b-975198fc0453.png 1538.350672236987\n",
            "ee380080-aa03-42b8-ac13-115b2a495f7b.png 411.84722564674223\n",
            "eed95caa-9a1d-4722-8763-6ceb976f4d18.png 4365.940581835407\n",
            "eee4e8fd-e7a0-4c21-98c3-9aa1a39db975.png 3883.7703138261973\n",
            "f0705784-3b8e-4858-bd77-20be0fade413.png 3462.083572133053\n",
            "f929bd7c-bf75-416f-88bc-6b43cec5b902.png 1634.395172048602\n",
            "f92f967d-d607-4ac3-8004-c86c9819da14.png 1917.8889171123403\n",
            "fbecd8de-0786-48b9-bb94-cc6803f52afc.png 2263.641014282374\n",
            "fc5cb36a-2859-4086-a32e-bd4dad3ff6a8.png 2230.189633181323\n"
          ]
        }
      ],
      "source": [
        "images = [f for f in os.listdir(clean_path) if os.path.isfile(os.path.join(clean_path, f))]\n",
        "for i in images:\n",
        "    m=os.path.join(clean_path,i)\n",
        "    print(i,variance_of_laplacian(m))"
      ]
    },
    {
      "cell_type": "code",
      "execution_count": null,
      "id": "72c7103e",
      "metadata": {
        "id": "72c7103e",
        "outputId": "f8645d82-07d0-40cc-f08d-9733895a050d"
      },
      "outputs": [
        {
          "name": "stdout",
          "output_type": "stream",
          "text": [
            "0b96a541-d3b3-49c8-895d-e4c67effecef.png 361.5891310929663\n",
            "a0499e60-2504-47ce-a7be-6e321e8fdf1c.png 1002.6388149885756\n",
            "f2c01e4a-daab-4345-ba9c-7a5108d25c3e.png 770.6548844366498\n",
            "f82a6337-e751-4042-b5e8-6b9fd5e40d66.png 1059.80148677501\n",
            "f9a08d78-007f-469b-8f65-3e079e34da67.png 366.9317640217725\n",
            "f9a9cd56-2a10-4da8-bcd3-a3d3dbaf4e86.png 1022.7458113512452\n",
            "fa011fe7-e91d-433e-9057-71b260c8fe4b.png 723.9386491122436\n"
          ]
        }
      ],
      "source": [
        "images = [f for f in os.listdir(mix_path) if os.path.isfile(os.path.join(mix_path, f))]\n",
        "for i in images:\n",
        "    m=os.path.join(mix_path,i)\n",
        "    print(i,variance_of_laplacian(m))"
      ]
    },
    {
      "cell_type": "code",
      "source": [
        "values = np.empty(2)\n",
        "images = [f for f in os.listdir(mix_path) if os.path.isfile(os.path.join(mix_path, f))]\n",
        "for i in images:\n",
        "    m=os.path.join(mix_path,i)\n",
        "    v = variance_of_laplacian(m)\n",
        "    values.append([i, v])"
      ],
      "metadata": {
        "colab": {
          "base_uri": "https://localhost:8080/",
          "height": 235
        },
        "id": "XTftyoR_63xi",
        "outputId": "ea3c599e-9a60-4fbf-bca6-cc86c2a62cc0"
      },
      "id": "XTftyoR_63xi",
      "execution_count": null,
      "outputs": [
        {
          "output_type": "error",
          "ename": "FileNotFoundError",
          "evalue": "ignored",
          "traceback": [
            "\u001b[0;31m---------------------------------------------------------------------------\u001b[0m",
            "\u001b[0;31mFileNotFoundError\u001b[0m                         Traceback (most recent call last)",
            "\u001b[0;32m<ipython-input-5-924b4db930a4>\u001b[0m in \u001b[0;36m<module>\u001b[0;34m\u001b[0m\n\u001b[1;32m      1\u001b[0m \u001b[0mvalues\u001b[0m \u001b[0;34m=\u001b[0m \u001b[0mnp\u001b[0m\u001b[0;34m.\u001b[0m\u001b[0mempty\u001b[0m\u001b[0;34m(\u001b[0m\u001b[0;36m2\u001b[0m\u001b[0;34m)\u001b[0m\u001b[0;34m\u001b[0m\u001b[0;34m\u001b[0m\u001b[0m\n\u001b[0;32m----> 2\u001b[0;31m \u001b[0mimages\u001b[0m \u001b[0;34m=\u001b[0m \u001b[0;34m[\u001b[0m\u001b[0mf\u001b[0m \u001b[0;32mfor\u001b[0m \u001b[0mf\u001b[0m \u001b[0;32min\u001b[0m \u001b[0mos\u001b[0m\u001b[0;34m.\u001b[0m\u001b[0mlistdir\u001b[0m\u001b[0;34m(\u001b[0m\u001b[0mmix_path\u001b[0m\u001b[0;34m)\u001b[0m \u001b[0;32mif\u001b[0m \u001b[0mos\u001b[0m\u001b[0;34m.\u001b[0m\u001b[0mpath\u001b[0m\u001b[0;34m.\u001b[0m\u001b[0misfile\u001b[0m\u001b[0;34m(\u001b[0m\u001b[0mos\u001b[0m\u001b[0;34m.\u001b[0m\u001b[0mpath\u001b[0m\u001b[0;34m.\u001b[0m\u001b[0mjoin\u001b[0m\u001b[0;34m(\u001b[0m\u001b[0mmix_path\u001b[0m\u001b[0;34m,\u001b[0m \u001b[0mf\u001b[0m\u001b[0;34m)\u001b[0m\u001b[0;34m)\u001b[0m\u001b[0;34m]\u001b[0m\u001b[0;34m\u001b[0m\u001b[0;34m\u001b[0m\u001b[0m\n\u001b[0m\u001b[1;32m      3\u001b[0m \u001b[0;32mfor\u001b[0m \u001b[0mi\u001b[0m \u001b[0;32min\u001b[0m \u001b[0mimages\u001b[0m\u001b[0;34m:\u001b[0m\u001b[0;34m\u001b[0m\u001b[0;34m\u001b[0m\u001b[0m\n\u001b[1;32m      4\u001b[0m     \u001b[0mm\u001b[0m\u001b[0;34m=\u001b[0m\u001b[0mos\u001b[0m\u001b[0;34m.\u001b[0m\u001b[0mpath\u001b[0m\u001b[0;34m.\u001b[0m\u001b[0mjoin\u001b[0m\u001b[0;34m(\u001b[0m\u001b[0mmix_path\u001b[0m\u001b[0;34m,\u001b[0m\u001b[0mi\u001b[0m\u001b[0;34m)\u001b[0m\u001b[0;34m\u001b[0m\u001b[0;34m\u001b[0m\u001b[0m\n\u001b[1;32m      5\u001b[0m     \u001b[0mv\u001b[0m \u001b[0;34m=\u001b[0m \u001b[0mvariance_of_laplacian\u001b[0m\u001b[0;34m(\u001b[0m\u001b[0mm\u001b[0m\u001b[0;34m)\u001b[0m\u001b[0;34m\u001b[0m\u001b[0;34m\u001b[0m\u001b[0m\n",
            "\u001b[0;31mFileNotFoundError\u001b[0m: [Errno 2] No such file or directory: 'C:\\\\Users\\\\livin\\\\Desktop\\\\bbleap\\\\mix'"
          ]
        }
      ]
    },
    {
      "cell_type": "markdown",
      "id": "c610b1b4",
      "metadata": {
        "id": "c610b1b4"
      },
      "source": [
        "# cnn model"
      ]
    },
    {
      "cell_type": "code",
      "execution_count": null,
      "id": "da328c6a",
      "metadata": {
        "id": "da328c6a"
      },
      "outputs": [],
      "source": [
        "import keras\n",
        "model = keras.models.load_model(r\"C:\\Users\\livin\\Desktop\\bbleap\\motionblur.h5\")"
      ]
    },
    {
      "cell_type": "code",
      "execution_count": null,
      "id": "7047c6f5",
      "metadata": {
        "id": "7047c6f5",
        "outputId": "ac819407-5f55-4d5c-ab2f-8c627a526f28"
      },
      "outputs": [
        {
          "name": "stdout",
          "output_type": "stream",
          "text": [
            "Model: \"sequential_1\"\n",
            "_________________________________________________________________\n",
            " Layer (type)                Output Shape              Param #   \n",
            "=================================================================\n",
            " conv2d_1 (Conv2D)           (None, 96, 24, 24)        14208     \n",
            "                                                                 \n",
            " activation_1 (Activation)   (None, 96, 24, 24)        0         \n",
            "                                                                 \n",
            " max_pooling2d_1 (MaxPooling  (None, 96, 12, 12)       0         \n",
            " 2D)                                                             \n",
            "                                                                 \n",
            " dropout_1 (Dropout)         (None, 96, 12, 12)        0         \n",
            "                                                                 \n",
            " conv2d_2 (Conv2D)           (None, 256, 8, 8)         614656    \n",
            "                                                                 \n",
            " activation_2 (Activation)   (None, 256, 8, 8)         0         \n",
            "                                                                 \n",
            " max_pooling2d_2 (MaxPooling  (None, 256, 4, 4)        0         \n",
            " 2D)                                                             \n",
            "                                                                 \n",
            " dropout_2 (Dropout)         (None, 256, 4, 4)         0         \n",
            "                                                                 \n",
            " flatten_1 (Flatten)         (None, 4096)              0         \n",
            "                                                                 \n",
            " dense_1 (Dense)             (None, 1024)              4195328   \n",
            "                                                                 \n",
            " activation_3 (Activation)   (None, 1024)              0         \n",
            "                                                                 \n",
            " dropout_3 (Dropout)         (None, 1024)              0         \n",
            "                                                                 \n",
            " dense_2 (Dense)             (None, 2)                 2050      \n",
            "                                                                 \n",
            " activation_4 (Activation)   (None, 2)                 0         \n",
            "                                                                 \n",
            "=================================================================\n",
            "Total params: 4,826,242\n",
            "Trainable params: 4,826,242\n",
            "Non-trainable params: 0\n",
            "_________________________________________________________________\n"
          ]
        }
      ],
      "source": [
        "model.summary()"
      ]
    },
    {
      "cell_type": "code",
      "execution_count": null,
      "id": "68743dd7",
      "metadata": {
        "id": "68743dd7",
        "outputId": "d087c133-e8d2-4643-85b5-1d15d8f3a6ac"
      },
      "outputs": [
        {
          "name": "stdout",
          "output_type": "stream",
          "text": [
            "Found 24 images belonging to 1 classes.\n"
          ]
        },
        {
          "ename": "ValueError",
          "evalue": "in user code:\n\n    File \"C:\\Users\\livin\\AppData\\Local\\Programs\\Python\\Python39\\lib\\site-packages\\keras\\engine\\training.py\", line 1801, in predict_function  *\n        return step_function(self, iterator)\n    File \"C:\\Users\\livin\\AppData\\Local\\Programs\\Python\\Python39\\lib\\site-packages\\keras\\engine\\training.py\", line 1790, in step_function  **\n        outputs = model.distribute_strategy.run(run_step, args=(data,))\n    File \"C:\\Users\\livin\\AppData\\Local\\Programs\\Python\\Python39\\lib\\site-packages\\keras\\engine\\training.py\", line 1783, in run_step  **\n        outputs = model.predict_step(data)\n    File \"C:\\Users\\livin\\AppData\\Local\\Programs\\Python\\Python39\\lib\\site-packages\\keras\\engine\\training.py\", line 1751, in predict_step\n        return self(x, training=False)\n    File \"C:\\Users\\livin\\AppData\\Local\\Programs\\Python\\Python39\\lib\\site-packages\\keras\\utils\\traceback_utils.py\", line 67, in error_handler\n        raise e.with_traceback(filtered_tb) from None\n    File \"C:\\Users\\livin\\AppData\\Local\\Programs\\Python\\Python39\\lib\\site-packages\\keras\\engine\\input_spec.py\", line 264, in assert_input_compatibility\n        raise ValueError(f'Input {input_index} of layer \"{layer_name}\" is '\n\n    ValueError: Input 0 of layer \"sequential_1\" is incompatible with the layer: expected shape=(None, 3, 30, 30), found shape=(None, 3840, 3)\n",
          "output_type": "error",
          "traceback": [
            "\u001b[1;31m---------------------------------------------------------------------------\u001b[0m",
            "\u001b[1;31mValueError\u001b[0m                                Traceback (most recent call last)",
            "Input \u001b[1;32mIn [44]\u001b[0m, in \u001b[0;36m<module>\u001b[1;34m\u001b[0m\n\u001b[0;32m      2\u001b[0m gen \u001b[38;5;241m=\u001b[39m keras\u001b[38;5;241m.\u001b[39mpreprocessing\u001b[38;5;241m.\u001b[39mimage\u001b[38;5;241m.\u001b[39mImageDataGenerator()\n\u001b[0;32m      3\u001b[0m test \u001b[38;5;241m=\u001b[39m gen\u001b[38;5;241m.\u001b[39mflow_from_directory(\u001b[38;5;124mr\u001b[39m\u001b[38;5;124m\"\u001b[39m\u001b[38;5;124mC:\u001b[39m\u001b[38;5;124m\\\u001b[39m\u001b[38;5;124mUsers\u001b[39m\u001b[38;5;124m\\\u001b[39m\u001b[38;5;124mlivin\u001b[39m\u001b[38;5;124m\\\u001b[39m\u001b[38;5;124mDesktop\u001b[39m\u001b[38;5;124m\\\u001b[39m\u001b[38;5;124mbbleap\u001b[39m\u001b[38;5;124m\\\u001b[39m\u001b[38;5;124mblurry_up\u001b[39m\u001b[38;5;124m\"\u001b[39m)\n\u001b[1;32m----> 4\u001b[0m \u001b[43mmodel\u001b[49m\u001b[38;5;241;43m.\u001b[39;49m\u001b[43mpredict\u001b[49m\u001b[43m(\u001b[49m\u001b[43mimage\u001b[49m\u001b[43m)\u001b[49m\n",
            "File \u001b[1;32m~\\AppData\\Local\\Programs\\Python\\Python39\\lib\\site-packages\\keras\\utils\\traceback_utils.py:67\u001b[0m, in \u001b[0;36mfilter_traceback.<locals>.error_handler\u001b[1;34m(*args, **kwargs)\u001b[0m\n\u001b[0;32m     65\u001b[0m \u001b[38;5;28;01mexcept\u001b[39;00m \u001b[38;5;167;01mException\u001b[39;00m \u001b[38;5;28;01mas\u001b[39;00m e:  \u001b[38;5;66;03m# pylint: disable=broad-except\u001b[39;00m\n\u001b[0;32m     66\u001b[0m   filtered_tb \u001b[38;5;241m=\u001b[39m _process_traceback_frames(e\u001b[38;5;241m.\u001b[39m__traceback__)\n\u001b[1;32m---> 67\u001b[0m   \u001b[38;5;28;01mraise\u001b[39;00m e\u001b[38;5;241m.\u001b[39mwith_traceback(filtered_tb) \u001b[38;5;28;01mfrom\u001b[39;00m \u001b[38;5;28mNone\u001b[39m\n\u001b[0;32m     68\u001b[0m \u001b[38;5;28;01mfinally\u001b[39;00m:\n\u001b[0;32m     69\u001b[0m   \u001b[38;5;28;01mdel\u001b[39;00m filtered_tb\n",
            "File \u001b[1;32m~\\AppData\\Local\\Programs\\Python\\Python39\\lib\\site-packages\\tensorflow\\python\\framework\\func_graph.py:1147\u001b[0m, in \u001b[0;36mfunc_graph_from_py_func.<locals>.autograph_handler\u001b[1;34m(*args, **kwargs)\u001b[0m\n\u001b[0;32m   1145\u001b[0m \u001b[38;5;28;01mexcept\u001b[39;00m \u001b[38;5;167;01mException\u001b[39;00m \u001b[38;5;28;01mas\u001b[39;00m e:  \u001b[38;5;66;03m# pylint:disable=broad-except\u001b[39;00m\n\u001b[0;32m   1146\u001b[0m   \u001b[38;5;28;01mif\u001b[39;00m \u001b[38;5;28mhasattr\u001b[39m(e, \u001b[38;5;124m\"\u001b[39m\u001b[38;5;124mag_error_metadata\u001b[39m\u001b[38;5;124m\"\u001b[39m):\n\u001b[1;32m-> 1147\u001b[0m     \u001b[38;5;28;01mraise\u001b[39;00m e\u001b[38;5;241m.\u001b[39mag_error_metadata\u001b[38;5;241m.\u001b[39mto_exception(e)\n\u001b[0;32m   1148\u001b[0m   \u001b[38;5;28;01melse\u001b[39;00m:\n\u001b[0;32m   1149\u001b[0m     \u001b[38;5;28;01mraise\u001b[39;00m\n",
            "\u001b[1;31mValueError\u001b[0m: in user code:\n\n    File \"C:\\Users\\livin\\AppData\\Local\\Programs\\Python\\Python39\\lib\\site-packages\\keras\\engine\\training.py\", line 1801, in predict_function  *\n        return step_function(self, iterator)\n    File \"C:\\Users\\livin\\AppData\\Local\\Programs\\Python\\Python39\\lib\\site-packages\\keras\\engine\\training.py\", line 1790, in step_function  **\n        outputs = model.distribute_strategy.run(run_step, args=(data,))\n    File \"C:\\Users\\livin\\AppData\\Local\\Programs\\Python\\Python39\\lib\\site-packages\\keras\\engine\\training.py\", line 1783, in run_step  **\n        outputs = model.predict_step(data)\n    File \"C:\\Users\\livin\\AppData\\Local\\Programs\\Python\\Python39\\lib\\site-packages\\keras\\engine\\training.py\", line 1751, in predict_step\n        return self(x, training=False)\n    File \"C:\\Users\\livin\\AppData\\Local\\Programs\\Python\\Python39\\lib\\site-packages\\keras\\utils\\traceback_utils.py\", line 67, in error_handler\n        raise e.with_traceback(filtered_tb) from None\n    File \"C:\\Users\\livin\\AppData\\Local\\Programs\\Python\\Python39\\lib\\site-packages\\keras\\engine\\input_spec.py\", line 264, in assert_input_compatibility\n        raise ValueError(f'Input {input_index} of layer \"{layer_name}\" is '\n\n    ValueError: Input 0 of layer \"sequential_1\" is incompatible with the layer: expected shape=(None, 3, 30, 30), found shape=(None, 3840, 3)\n"
          ]
        }
      ],
      "source": [
        "#image = cv2.imread(imagePath)\n",
        "gen = keras.preprocessing.image.ImageDataGenerator()\n",
        "test = gen.flow_from_directory(r\"C:\\Users\\livin\\Desktop\\bbleap\\blurry_up\")\n",
        "model.predict(image)"
      ]
    },
    {
      "cell_type": "code",
      "execution_count": null,
      "id": "69027618",
      "metadata": {
        "id": "69027618"
      },
      "outputs": [],
      "source": []
    }
  ],
  "metadata": {
    "kernelspec": {
      "display_name": "Python 3 (ipykernel)",
      "language": "python",
      "name": "python3"
    },
    "language_info": {
      "codemirror_mode": {
        "name": "ipython",
        "version": 3
      },
      "file_extension": ".py",
      "mimetype": "text/x-python",
      "name": "python",
      "nbconvert_exporter": "python",
      "pygments_lexer": "ipython3",
      "version": "3.9.7"
    },
    "colab": {
      "provenance": [],
      "include_colab_link": true
    }
  },
  "nbformat": 4,
  "nbformat_minor": 5
}
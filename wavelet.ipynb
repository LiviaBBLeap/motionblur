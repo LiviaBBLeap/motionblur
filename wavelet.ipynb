{
  "nbformat": 4,
  "nbformat_minor": 0,
  "metadata": {
    "colab": {
      "provenance": [],
      "mount_file_id": "1R1_QzXZ1X4r2P6Pta52C1DA7dT0oEsgd",
      "authorship_tag": "ABX9TyMRDoOVIE8X3/RTh7a7KMMU",
      "include_colab_link": true
    },
    "kernelspec": {
      "name": "python3",
      "display_name": "Python 3"
    },
    "language_info": {
      "name": "python"
    }
  },
  "cells": [
    {
      "cell_type": "markdown",
      "metadata": {
        "id": "view-in-github",
        "colab_type": "text"
      },
      "source": [
        "<a href=\"https://colab.research.google.com/github/LiviaBBLeap/motionblur/blob/main/wavelet.ipynb\" target=\"_parent\"><img src=\"https://colab.research.google.com/assets/colab-badge.svg\" alt=\"Open In Colab\"/></a>"
      ]
    },
    {
      "cell_type": "markdown",
      "source": [
        "Per decides whether the image is blured or not based on the lack of a type of edges (they dissapear w haar wavelet transformation), blurred extent give the sharpness of the edges left(other type)"
      ],
      "metadata": {
        "id": "VW97box4ElCu"
      }
    },
    {
      "cell_type": "code",
      "source": [
        "#imports\n",
        "from os import listdir\n",
        "from os.path import isfile, join\n",
        "import pywt\n",
        "import cv2\n",
        "import numpy as np\n",
        "import os\n",
        "import argparse\n",
        "import json"
      ],
      "metadata": {
        "id": "Xqy2ZzLqAgZu"
      },
      "execution_count": null,
      "outputs": []
    },
    {
      "cell_type": "code",
      "source": [
        "#variables \n",
        "perThreshold = 0.02\n",
        "blurExtentThreshold = 2"
      ],
      "metadata": {
        "id": "BGvkEkwRBARo"
      },
      "execution_count": null,
      "outputs": []
    },
    {
      "cell_type": "code",
      "execution_count": null,
      "metadata": {
        "id": "RrQdDstyVoxT"
      },
      "outputs": [],
      "source": [
        "\"\"\"\n",
        "@author: pedrofRodenas\n",
        "\"\"\"\n",
        "\n",
        "def blur_detect(img, threshold):\n",
        "    \n",
        "    # Convert image to grayscale\n",
        "    Y = cv2.cvtColor(img, cv2.COLOR_BGR2GRAY)\n",
        "    \n",
        "    \n",
        "    M, N = Y.shape\n",
        "    \n",
        "    # Crop input image to be 3 divisible by 2\n",
        "    Y = Y[0:int(M/16)*16, 0:int(N/16)*16]\n",
        "    \n",
        "    # Step 1, compute Haar wavelet of input image\n",
        "    LL1,(LH1,HL1,HH1)= pywt.dwt2(Y, 'haar')\n",
        "    # Another application of 2D haar to LL1\n",
        "    LL2,(LH2,HL2,HH2)= pywt.dwt2(LL1, 'haar') \n",
        "    # Another application of 2D haar to LL2\n",
        "    LL3,(LH3,HL3,HH3)= pywt.dwt2(LL2, 'haar')\n",
        "    \n",
        "    # Construct the edge map in each scale Step 2\n",
        "    E1 = np.sqrt(np.power(LH1, 2)+np.power(HL1, 2)+np.power(HH1, 2))\n",
        "    E2 = np.sqrt(np.power(LH2, 2)+np.power(HL2, 2)+np.power(HH2, 2))\n",
        "    E3 = np.sqrt(np.power(LH3, 2)+np.power(HL3, 2)+np.power(HH3, 2))\n",
        "    \n",
        "    M1, N1 = E1.shape\n",
        "\n",
        "    # Sliding window size level 1\n",
        "    sizeM1 = 8\n",
        "    sizeN1 = 8\n",
        "    \n",
        "    # Sliding windows size level 2\n",
        "    sizeM2 = int(sizeM1/2)\n",
        "    sizeN2 = int(sizeN1/2)\n",
        "    \n",
        "    # Sliding windows size level 3\n",
        "    sizeM3 = int(sizeM2/2)\n",
        "    sizeN3 = int(sizeN2/2)\n",
        "    \n",
        "    # Number of edge maps, related to sliding windows size\n",
        "    N_iter = int((M1/sizeM1)*(N1/sizeN1))\n",
        "    \n",
        "    Emax1 = np.zeros((N_iter))\n",
        "    Emax2 = np.zeros((N_iter))\n",
        "    Emax3 = np.zeros((N_iter))\n",
        "    \n",
        "    \n",
        "    count = 0\n",
        "    \n",
        "    # Sliding windows index of level 1\n",
        "    x1 = 0\n",
        "    y1 = 0\n",
        "    # Sliding windows index of level 2\n",
        "    x2 = 0\n",
        "    y2 = 0\n",
        "    # Sliding windows index of level 3\n",
        "    x3 = 0\n",
        "    y3 = 0\n",
        "    \n",
        "    # Sliding windows limit on horizontal dimension\n",
        "    Y_limit = N1-sizeN1\n",
        "    \n",
        "    while count < N_iter:\n",
        "        # Get the maximum value of slicing windows over edge maps \n",
        "        # in each level\n",
        "        Emax1[count] = np.max(E1[x1:x1+sizeM1,y1:y1+sizeN1])\n",
        "        Emax2[count] = np.max(E2[x2:x2+sizeM2,y2:y2+sizeN2])\n",
        "        Emax3[count] = np.max(E3[x3:x3+sizeM3,y3:y3+sizeN3])\n",
        "        \n",
        "        # if sliding windows ends horizontal direction\n",
        "        # move along vertical direction and resets horizontal\n",
        "        # direction\n",
        "        if y1 == Y_limit:\n",
        "            x1 = x1 + sizeM1\n",
        "            y1 = 0\n",
        "            \n",
        "            x2 = x2 + sizeM2\n",
        "            y2 = 0\n",
        "            \n",
        "            x3 = x3 + sizeM3\n",
        "            y3 = 0\n",
        "            \n",
        "            count += 1\n",
        "        \n",
        "        # windows moves along horizontal dimension\n",
        "        else:\n",
        "                \n",
        "            y1 = y1 + sizeN1\n",
        "            y2 = y2 + sizeN2\n",
        "            y3 = y3 + sizeN3\n",
        "            count += 1\n",
        "    \n",
        "    # Step 3\n",
        "    EdgePoint1 = Emax1 > threshold;\n",
        "    EdgePoint2 = Emax2 > threshold;\n",
        "    EdgePoint3 = Emax3 > threshold;\n",
        "    \n",
        "    # Rule 1 Edge Pojnts\n",
        "    EdgePoint = EdgePoint1 + EdgePoint2 + EdgePoint3\n",
        "    \n",
        "    n_edges = EdgePoint.shape[0]\n",
        "    \n",
        "    # Rule 2 Dirak-Structure or Astep-Structure\n",
        "    DAstructure = (Emax1[EdgePoint] > Emax2[EdgePoint]) * (Emax2[EdgePoint] > Emax3[EdgePoint]);\n",
        "    \n",
        "    # Rule 3 Roof-Structure or Gstep-Structure\n",
        "    \n",
        "    RGstructure = np.zeros((n_edges))\n",
        "\n",
        "    for i in range(n_edges):\n",
        "    \n",
        "        if EdgePoint[i] == 1:\n",
        "        \n",
        "            if Emax1[i] < Emax2[i] and Emax2[i] < Emax3[i]:\n",
        "            \n",
        "                RGstructure[i] = 1\n",
        "                \n",
        "    # Rule 4 Roof-Structure\n",
        "    \n",
        "    RSstructure = np.zeros((n_edges))\n",
        "\n",
        "    for i in range(n_edges):\n",
        "    \n",
        "        if EdgePoint[i] == 1:\n",
        "        \n",
        "            if Emax2[i] > Emax1[i] and Emax2[i] > Emax3[i]:\n",
        "            \n",
        "                RSstructure[i] = 1\n",
        "\n",
        "    # Rule 5 Edge more likely to be in a blurred image \n",
        "\n",
        "    BlurC = np.zeros((n_edges));\n",
        "\n",
        "    for i in range(n_edges):\n",
        "    \n",
        "        if RGstructure[i] == 1 or RSstructure[i] == 1:\n",
        "        \n",
        "            if Emax1[i] < threshold:\n",
        "            \n",
        "                BlurC[i] = 1                        \n",
        "        \n",
        "    # Step 6\n",
        "    Per = np.sum(DAstructure)/np.sum(EdgePoint)\n",
        "    \n",
        "    # Step 7\n",
        "    if (np.sum(RGstructure) + np.sum(RSstructure)) == 0:\n",
        "        \n",
        "        BlurExtent = 100\n",
        "    else:\n",
        "        BlurExtent = np.sum(BlurC) / (np.sum(RGstructure) + np.sum(RSstructure))\n",
        "    \n",
        "    return Per, BlurExtent\n",
        "\n"
      ]
    },
    {
      "cell_type": "code",
      "source": [
        "#this loop takes an action based on  the Per \n",
        "def waveletLoopPer(folderPath,threshold=35):\n",
        "  files = [f for f in listdir(folderPath) if isfile(join(folderPath, f))]\n",
        "\n",
        "  all = len(files)\n",
        "  correct =0\n",
        "\n",
        "  for file in files:\n",
        "    img = cv2.imread(folderPath +'/' +file)\n",
        "    p, be = blur_detect(img,threshold)\n",
        "\n",
        "    actual = file[-5]\n",
        "\n",
        "    if p < perThreshold:\n",
        "      i = actionBlurry(actual)\n",
        "      correct +=i\n",
        "    else:\n",
        "      i = actionClean(actual)\n",
        "      correct+=i\n",
        "  return (all, correct)\n"
      ],
      "metadata": {
        "id": "MtD3xiRq8G0e"
      },
      "execution_count": null,
      "outputs": []
    },
    {
      "cell_type": "code",
      "source": [
        "#splits the images based on the blur extent\n",
        "def waveletLoopExtent(folderPath,threshold=35):\n",
        "  files = [f for f in listdir(folderPath) if isfile(join(folderPath, f))]\n",
        "\n",
        "  all = len(files)\n",
        "  correct =0\n",
        "\n",
        "  for file in files:\n",
        "    img = cv2.imread(folderPath +'/' +file)\n",
        "    p, be = blur_detect(img,threshold)\n",
        "\n",
        "    actual = file[-5]\n",
        "\n",
        "    if p < perThreshold:\n",
        "      i = actionBlurry(actual)\n",
        "      correct +=i\n",
        "    else:\n",
        "      i = actionClean(actual)\n",
        "      correct+=i\n",
        "  return (all, correct)"
      ],
      "metadata": {
        "id": "KQ976wdD_aEM"
      },
      "execution_count": null,
      "outputs": []
    },
    {
      "cell_type": "code",
      "source": [
        "#action to take place\n",
        "\n",
        "def actionClean(ac):\n",
        "  if ac == \"n\":\n",
        "    return 1\n",
        "  else:\n",
        "     return 0\n",
        "  print(\"clean\")\n",
        "def actionBlurry(ac):\n",
        "  if ac == \"y\":\n",
        "    \n",
        "    return 1\n",
        "  else:\n",
        "    return 0\n",
        "  \n",
        "  print(\"dirty\")"
      ],
      "metadata": {
        "id": "TWZAWIcd82mT"
      },
      "execution_count": null,
      "outputs": []
    },
    {
      "cell_type": "code",
      "source": [
        "#waveletLoopExtent(\"/content/drive/MyDrive/testmix\")"
      ],
      "metadata": {
        "colab": {
          "base_uri": "https://localhost:8080/"
        },
        "id": "PGijNvZ8qFOZ",
        "outputId": "072f47af-327b-43db-9902-a5c72649f3a5"
      },
      "execution_count": null,
      "outputs": [
        {
          "output_type": "execute_result",
          "data": {
            "text/plain": [
              "(106, 56)"
            ]
          },
          "metadata": {},
          "execution_count": 13
        }
      ]
    },
    {
      "cell_type": "code",
      "source": [],
      "metadata": {
        "id": "8zrhXMqxq9Db"
      },
      "execution_count": null,
      "outputs": []
    }
  ]
}
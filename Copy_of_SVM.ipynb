{
  "nbformat": 4,
  "nbformat_minor": 0,
  "metadata": {
    "colab": {
      "provenance": [],
      "mount_file_id": "1RgwsB7Nyw-AnK934GFLQkSg5ROTyOnc5",
      "authorship_tag": "ABX9TyNx+vO5POte5Uz+ASQ4c3i3",
      "include_colab_link": true
    },
    "kernelspec": {
      "name": "python3",
      "display_name": "Python 3"
    },
    "language_info": {
      "name": "python"
    },
    "gpuClass": "standard"
  },
  "cells": [
    {
      "cell_type": "markdown",
      "metadata": {
        "id": "view-in-github",
        "colab_type": "text"
      },
      "source": [
        "<a href=\"https://colab.research.google.com/github/LiviaBBLeap/motionblur/blob/main/Copy_of_SVM.ipynb\" target=\"_parent\"><img src=\"https://colab.research.google.com/assets/colab-badge.svg\" alt=\"Open In Colab\"/></a>"
      ]
    },
    {
      "cell_type": "markdown",
      "source": [
        "jupyter notebook --NotebookApp.allow_origin='https://colab.research.google.com'  --port=8888 --NotebookApp.port_retries=0 \n",
        "\n",
        "run in cp to be able to connect locally"
      ],
      "metadata": {
        "id": "BsSlQUo9TyHN"
      }
    },
    {
      "cell_type": "code",
      "execution_count": null,
      "metadata": {
        "id": "x9E-kgsc8S9G"
      },
      "outputs": [],
      "source": [
        "#imports\n",
        "from sklearn import svm\n",
        "from sklearn.model_selection import GridSearchCV\n",
        "from sklearn.model_selection import train_test_split\n",
        "import numpy as np\n",
        "from sklearn.metrics import accuracy_score\n"
      ]
    },
    {
      "cell_type": "code",
      "source": [
        "#varaiables"
      ],
      "metadata": {
        "id": "MhqIAkLR8Uvq"
      },
      "execution_count": null,
      "outputs": []
    },
    {
      "cell_type": "code",
      "source": [
        "cat /proc/sys/vm/overcommit_memory"
      ],
      "metadata": {
        "colab": {
          "base_uri": "https://localhost:8080/"
        },
        "id": "BPxJ9QAgIioH",
        "outputId": "07ce08a3-6809-423c-a093-384c6300ba0d"
      },
      "execution_count": null,
      "outputs": [
        {
          "output_type": "stream",
          "name": "stdout",
          "text": [
            "1\n"
          ]
        }
      ]
    },
    {
      "cell_type": "code",
      "source": [
        "from google.colab import drive\n",
        "drive.mount('/content/drive')"
      ],
      "metadata": {
        "id": "ntxhumB7Ufpr"
      },
      "execution_count": null,
      "outputs": []
    },
    {
      "cell_type": "code",
      "source": [
        "#reading of the data\n",
        "#counter makes sure not mor than 200 images are read(100 clean 100 blurry)\n",
        "#astype can be used to read the data as a different type\n",
        "from os import listdir\n",
        "from os.path import isfile, join\n",
        "from skimage.io import imread\n",
        "\n",
        "mypath = r\"C:\\Users\\livin\\Desktop\\bbleap\\whole_lap_divide\\clean\" # edit with the path to your data\n",
        "#mypath = \"/content/drive/MyDrive/whole_lap_divide/clean\"\n",
        "files = [f for f in listdir(mypath) if isfile(join(mypath, f))]\n",
        "\n",
        "x = []\n",
        "y = []\n",
        "label=['clean','blurry']\n",
        "counter = 0\n",
        "for file in files:\n",
        "    y.append(0)\n",
        "    img = imread(mypath +'/' +file).astype('int8')\n",
        "    x.append(img.flatten())\n",
        "    counter +=1\n",
        "    if counter>100:\n",
        "      break\n",
        "print(counter)\n",
        "\n",
        "mypath = r\"C:\\Users\\livin\\Desktop\\bbleap\\whole_lap_divide\\blurry\" # edit with the path to your data\n",
        "#mypath = \"/content/drive/MyDrive/whole_lap_divide/blurry\"\n",
        "files = [f for f in listdir(mypath) if isfile(join(mypath, f))]\n",
        "\n",
        "counter = 0\n",
        "for file in files:\n",
        "    label = \"blurry\"\n",
        "    y.append(1)\n",
        "    img = imread(mypath+'/'+file).astype('int8')\n",
        "    x.append(img.flatten())\n",
        "    counter+=1\n",
        "    if counter >100:\n",
        "      break\n",
        "x = np.array(x)\n",
        "y = np.array(y)\n",
        "print(counter)"
      ],
      "metadata": {
        "id": "6c39D0Xa-q8-",
        "colab": {
          "base_uri": "https://localhost:8080/"
        },
        "outputId": "8b36ac17-d1d8-476a-b99a-8b508747cb20"
      },
      "execution_count": null,
      "outputs": [
        {
          "output_type": "stream",
          "name": "stdout",
          "text": [
            "450\n",
            "330\n"
          ]
        }
      ]
    },
    {
      "cell_type": "code",
      "source": [
        "x[0]"
      ],
      "metadata": {
        "colab": {
          "base_uri": "https://localhost:8080/"
        },
        "id": "hqAjwuP6ApCs",
        "outputId": "544fd9a7-6a13-4bdc-e468-f04e225b87ba"
      },
      "execution_count": null,
      "outputs": [
        {
          "output_type": "execute_result",
          "data": {
            "text/plain": [
              "array([ 76, 113,  98, ...,  59,  70,  67], dtype=int8)"
            ]
          },
          "metadata": {},
          "execution_count": 6
        }
      ]
    },
    {
      "cell_type": "code",
      "source": [
        "#model definition, if gridsearch is used, it looks for the best hyperparameters\n",
        "\n",
        "#param_grid={'C':[0.1,1,10,100],'gamma':[0.0001,0.001,0.1,1],'kernel':['rbf','poly']}\n",
        "svc=svm.SVC(probability=True)\n",
        "#model=GridSearchCV(svc,param_grid)"
      ],
      "metadata": {
        "id": "5y61_rG08Uly"
      },
      "execution_count": null,
      "outputs": []
    },
    {
      "cell_type": "code",
      "source": [
        "#split the data and train\n",
        "x_train,x_test,y_train,y_test=train_test_split(x,y,test_size=0.20,random_state=77,stratify=y)\n",
        "print('Splitted Successfully')\n",
        "svc.fit(x_train,y_train)\n",
        "print('The Model is trained well with the given images')\n"
      ],
      "metadata": {
        "id": "AYOdYIQR8UaN"
      },
      "execution_count": null,
      "outputs": []
    },
    {
      "cell_type": "code",
      "source": [
        "y_pred=svc.predict(x_test)\n",
        "print(\"The predicted Data is :\")\n",
        "print(y_pred)\n",
        "print(\"The actual data is:\")\n",
        "print(np.array(y_test))\n",
        "print(f\"The model is {accuracy_score(y_pred,y_test)*100}% accurate\")"
      ],
      "metadata": {
        "id": "PysVdCj08UTL"
      },
      "execution_count": null,
      "outputs": []
    },
    {
      "cell_type": "code",
      "source": [
        "#used for saving and reloading of the model\n",
        "import pickle"
      ],
      "metadata": {
        "id": "WkZr1fBuvvZP"
      },
      "execution_count": null,
      "outputs": []
    },
    {
      "cell_type": "code",
      "source": [
        "pickle.dump(svc, open(r\"C:\\Users\\livin\\Desktop\\bbleap\\svm_allimg_int8.sav\", 'wb'))"
      ],
      "metadata": {
        "id": "85W9G5LD4owF"
      },
      "execution_count": null,
      "outputs": []
    },
    {
      "cell_type": "code",
      "source": [
        "loaded_model = pickle.load(open(\"/content/drive/MyDrive/models/svm_100img_int8.sav\", 'rb'))"
      ],
      "metadata": {
        "id": "AqWWEmGur7hU"
      },
      "execution_count": null,
      "outputs": []
    },
    {
      "cell_type": "code",
      "source": [
        "from os import listdir\n",
        "from os.path import isfile, join\n",
        "from skimage.io import imread"
      ],
      "metadata": {
        "id": "aR3PVWvnzdL7"
      },
      "execution_count": null,
      "outputs": []
    },
    {
      "cell_type": "code",
      "source": [
        "#re-running the mosel on a few images to see whether it works\n",
        "mypath = \"/content/drive/MyDrive/test/blurry\" \n",
        "files = [f for f in listdir(mypath) if isfile(join(mypath, f))]"
      ],
      "metadata": {
        "id": "oJOr9j3cyHG0"
      },
      "execution_count": null,
      "outputs": []
    },
    {
      "cell_type": "code",
      "source": [
        "x = []\n",
        "y = []\n",
        "label=['clean','blurry']\n",
        "counter = 0\n",
        "\n",
        "for file in files:\n",
        "    #print(file)\n",
        "    #label = file.split('_')[0] # assuming your img is named like this \"eight_1.png\" you want to get the label \"eight\"\n",
        "    #label1 = label[0]\n",
        "    y.append(0)\n",
        "    img = imread(mypath +'/' +file)#.astype('int8')\n",
        "    x.append(img.flatten())\n",
        "    counter +=1\n",
        "    print(file)\n",
        "    if counter>2:\n",
        "      break\n",
        "print(counter)"
      ],
      "metadata": {
        "colab": {
          "base_uri": "https://localhost:8080/"
        },
        "id": "bKiB8OM0y2F0",
        "outputId": "067c77f2-9161-4b31-9d21-fac3dba3ec25"
      },
      "execution_count": null,
      "outputs": [
        {
          "output_type": "stream",
          "name": "stdout",
          "text": [
            "2blurry.png\n",
            "3blurry.png\n",
            "4blurry.png\n",
            "3\n"
          ]
        }
      ]
    },
    {
      "cell_type": "code",
      "source": [
        "loaded_model.predict(x)"
      ],
      "metadata": {
        "colab": {
          "base_uri": "https://localhost:8080/"
        },
        "id": "io4UGyXcyDV8",
        "outputId": "27b11505-c13f-4f04-9be0-379872f364cb"
      },
      "execution_count": null,
      "outputs": [
        {
          "output_type": "execute_result",
          "data": {
            "text/plain": [
              "array([1, 1, 1])"
            ]
          },
          "metadata": {},
          "execution_count": 23
        }
      ]
    },
    {
      "cell_type": "code",
      "source": [
        "y_pred=loaded_model.predict(x)\n",
        "print(\"The predicted Data is :\")\n",
        "print(y_pred)\n",
        "print(\"The actual data is:\")\n",
        "print(np.array(y))\n",
        "print(f\"The model is {accuracy_score(y_pred,y_test)*100}% accurate\")"
      ],
      "metadata": {
        "id": "k-OeTUL6dqPM"
      },
      "execution_count": null,
      "outputs": []
    }
  ]
}
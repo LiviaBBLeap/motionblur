{
  "cells": [
    {
      "cell_type": "markdown",
      "metadata": {
        "id": "view-in-github",
        "colab_type": "text"
      },
      "source": [
        "<a href=\"https://colab.research.google.com/github/LiviaBBLeap/motionblur/blob/main/CNN.ipynb\" target=\"_parent\"><img src=\"https://colab.research.google.com/assets/colab-badge.svg\" alt=\"Open In Colab\"/></a>"
      ]
    },
    {
      "cell_type": "markdown",
      "source": [
        "jupyter notebook  --NotebookApp.allow_origin='https://colab.research.google.com'   --port=8888  --NotebookApp.port_retries=0\n",
        "\n",
        "run this in the comand prompt to connect to a local session"
      ],
      "metadata": {
        "id": "AZg_vFtTPEm-"
      }
    },
    {
      "cell_type": "code",
      "execution_count": null,
      "metadata": {
        "id": "47jC2MlheuN4"
      },
      "outputs": [],
      "source": [
        "#imports  \n",
        "from keras import layers\n",
        "from keras import Sequential\n",
        "from keras.preprocessing.image import ImageDataGenerator\n",
        "import numpy as np\n",
        "from keras import callbacks\n",
        "from keras import backend as k\n",
        "import pandas as pd\n",
        "from keras import optimizers\n",
        "import seaborn as sns"
      ]
    },
    {
      "cell_type": "code",
      "execution_count": null,
      "metadata": {
        "id": "qQO0BWyaeuHF"
      },
      "outputs": [],
      "source": [
        "#variables\n",
        "#train_data_dir= \"/content/drive/MyDrive/whole_lap_divide\"\n",
        "train_data_dir = r\"C:\\Users\\livin\\Desktop\\bbleap\\whole_lap_divide\"\n",
        "batch_size = 120\n",
        "image_size = 1080,1920"
      ]
    },
    {
      "cell_type": "code",
      "execution_count": null,
      "metadata": {
        "colab": {
          "base_uri": "https://localhost:8080/"
        },
        "id": "F_NKmS2tet32",
        "outputId": "cd1def81-be80-4656-990b-536957b2fd4c"
      },
      "outputs": [
        {
          "output_type": "stream",
          "name": "stdout",
          "text": [
            "Found 624 images belonging to 2 classes.\n",
            "Found 156 images belonging to 2 classes.\n"
          ]
        }
      ],
      "source": [
        "#read the data\n",
        "datagen = ImageDataGenerator(validation_split = 0.2, horizontal_flip=True, vertical_flip = True, rotation_range=90)\n",
        "\n",
        "train_generator = datagen.flow_from_directory(\n",
        "    train_data_dir,\n",
        "    target_size =image_size,\n",
        "    batch_size=batch_size,\n",
        "    class_mode='binary',\n",
        "    subset='training') # set as training data\n",
        "\n",
        "validation_generator = datagen.flow_from_directory(\n",
        "    train_data_dir, # same directory as training data\n",
        "    target_size =image_size,\n",
        "    batch_size=batch_size,\n",
        "    class_mode='binary',\n",
        "    subset='validation') # set as validation data\n",
        "\n"
      ]
    },
    {
      "cell_type": "code",
      "execution_count": null,
      "metadata": {
        "colab": {
          "base_uri": "https://localhost:8080/"
        },
        "id": "QYKoZHbPpCDq",
        "outputId": "cf77f8a6-5608-4802-e4e5-b770a46a018d"
      },
      "outputs": [
        {
          "output_type": "execute_result",
          "data": {
            "text/plain": [
              "(120, 1080, 1920, 3)"
            ]
          },
          "metadata": {},
          "execution_count": 4
        }
      ],
      "source": [
        "input_shape=train_generator[0][0].shape\n",
        "input_shape"
      ]
    },
    {
      "cell_type": "code",
      "execution_count": null,
      "metadata": {
        "id": "aIVYET4wuDQz"
      },
      "outputs": [],
      "source": [
        "#the input shape has to fit our images\n",
        "input_shape = (1080,1920,3)"
      ]
    },
    {
      "cell_type": "code",
      "execution_count": null,
      "metadata": {
        "id": "W8kM5DwyeYPL"
      },
      "outputs": [],
      "source": [
        "# Defining the model architecture\n",
        "\n",
        "\n",
        "model = Sequential()\n",
        "model.add(layers.Convolution2D(96, 7,7,input_shape=input_shape))\n",
        "model.add(layers.Activation('relu'))\n",
        "model.add(layers.MaxPooling2D(pool_size=(2, 2)))\n",
        "model.add(layers.Dropout(0.2))\n",
        "model.add(layers.Convolution2D(256, 5, 5))\n",
        "model.add(layers.Activation('relu'))\n",
        "model.add(layers.MaxPooling2D(pool_size=(2, 2)))\n",
        "model.add(layers.Dropout(0.2))\n",
        "\n",
        "model.add(layers.Flatten())\n",
        "model.add(layers.Dense(1024))\n",
        "model.add(layers.Activation('relu'))\n",
        "model.add(layers.Dropout(0.2))\n",
        "model.add(layers.Dense(1))\n",
        "model.add(layers.Activation('sigmoid'))\n",
        "\n"
      ]
    },
    {
      "cell_type": "code",
      "source": [
        "import tensorflow"
      ],
      "metadata": {
        "id": "hfMP4FxfZ5XX"
      },
      "execution_count": null,
      "outputs": []
    },
    {
      "cell_type": "code",
      "execution_count": null,
      "metadata": {
        "id": "watYUiutgwog"
      },
      "outputs": [],
      "source": [
        "#model variables\n",
        "\n",
        "epochs = 50\n",
        "learning_rate = 0.01\n",
        "decay = learning_rate / epochs\n",
        "adam = tensorflow.keras.optimizers.SGD(learning_rate=learning_rate)\n",
        "\n",
        "model.compile(loss='binary_crossentropy', optimizer='adam',metrics=[\"accuracy\"])"
      ]
    },
    {
      "cell_type": "code",
      "execution_count": null,
      "metadata": {
        "id": "yZJgQ1ocvXaj"
      },
      "outputs": [],
      "source": [
        "#cretes graphs for accuracy and loss\n",
        "def assess(history):\n",
        "    accur = history.history['accuracy']\n",
        "    df1 = pd.DataFrame({'ACCURACY':accur,'type':'TRAIN'})\n",
        "    df1['EPOCH'] = (df1.index)+1\n",
        "    val_accur = history.history['val_accuracy']\n",
        "    df2 = pd.DataFrame({'ACCURACY':val_accur,'type':'TEST'})\n",
        "    df2['EPOCH'] = (df1.index)+1\n",
        "    df = pd.concat([df1,df2]).reset_index(drop=True)\n",
        "    sns.relplot(data=df, x = 'EPOCH', y = 'ACCURACY', kind = 'line', hue = 'type', palette = ['red', 'blue']).set(title='CLASSIFICATION ACCURACY')\n",
        " \n",
        "    loss = history.history['loss']\n",
        "    df3 = pd.DataFrame({'LOSS':loss,'type':'TRAIN'})\n",
        "    df3['EPOCH'] = (df1.index)+1\n",
        "    val_l = history.history['val_loss']\n",
        "    df4 = pd.DataFrame({'LOSS':val_l,'type':'TEST'})\n",
        "    df4['EPOCH'] = (df1.index)+1\n",
        "    df = pd.concat([df3,df4]).reset_index(drop=True)\n",
        "    sns.relplot(data=df, x = 'EPOCH', y = 'LOSS', kind = 'line', hue = 'type', palette = ['red', 'blue']).set(title='CROSS ENTROPHY LOSS')\n"
      ]
    },
    {
      "cell_type": "code",
      "execution_count": null,
      "metadata": {
        "colab": {
          "base_uri": "https://localhost:8080/",
          "height": 1000
        },
        "id": "0KMr7FdGgRYe",
        "outputId": "3a405c6a-5739-419f-d869-9aa4c1ed2191"
      },
      "outputs": [
        {
          "output_type": "stream",
          "name": "stdout",
          "text": [
            "Epoch 1/50\n",
            "6/6 [==============================] - 513s 98s/step - loss: 433.1696 - accuracy: 0.5176 - val_loss: 18.0877 - val_accuracy: 0.5769\n",
            "Epoch 2/50\n",
            "6/6 [==============================] - 463s 81s/step - loss: 11.9062 - accuracy: 0.5192 - val_loss: 1.5374 - val_accuracy: 0.5769\n",
            "Epoch 3/50\n",
            "6/6 [==============================] - 382s 64s/step - loss: 1.2995 - accuracy: 0.5256 - val_loss: 0.6713 - val_accuracy: 0.5769\n",
            "Epoch 4/50\n",
            "6/6 [==============================] - 397s 67s/step - loss: 0.6779 - accuracy: 0.5881 - val_loss: 0.6514 - val_accuracy: 0.5769\n",
            "Epoch 5/50\n",
            "6/6 [==============================] - 400s 67s/step - loss: 1.0181 - accuracy: 0.5529 - val_loss: 1.6049 - val_accuracy: 0.4231\n",
            "Epoch 6/50\n",
            "6/6 [==============================] - 413s 69s/step - loss: 1.0398 - accuracy: 0.5577 - val_loss: 0.4793 - val_accuracy: 0.6987\n",
            "Epoch 7/50\n",
            "6/6 [==============================] - 460s 76s/step - loss: 1.0989 - accuracy: 0.5817 - val_loss: 0.7387 - val_accuracy: 0.5769\n",
            "Epoch 8/50\n",
            "6/6 [==============================] - 464s 78s/step - loss: 0.7984 - accuracy: 0.6202 - val_loss: 0.7023 - val_accuracy: 0.5321\n",
            "Epoch 9/50\n",
            "6/6 [==============================] - 430s 72s/step - loss: 0.3999 - accuracy: 0.8061 - val_loss: 0.6759 - val_accuracy: 0.5705\n",
            "Epoch 10/50\n",
            "6/6 [==============================] - 406s 68s/step - loss: 0.2680 - accuracy: 0.8990 - val_loss: 0.1795 - val_accuracy: 0.9551\n",
            "Epoch 11/50\n",
            "6/6 [==============================] - 412s 69s/step - loss: 0.1691 - accuracy: 0.9343 - val_loss: 0.0691 - val_accuracy: 0.9872\n",
            "Epoch 12/50\n",
            "6/6 [==============================] - 533s 88s/step - loss: 0.1635 - accuracy: 0.9343 - val_loss: 0.0567 - val_accuracy: 0.9936\n",
            "Epoch 13/50\n",
            "6/6 [==============================] - 618s 103s/step - loss: 0.1003 - accuracy: 0.9615 - val_loss: 0.0357 - val_accuracy: 1.0000\n",
            "Epoch 14/50\n",
            "6/6 [==============================] - 454s 73s/step - loss: 0.1074 - accuracy: 0.9583 - val_loss: 0.0597 - val_accuracy: 0.9808\n",
            "Epoch 15/50\n",
            "6/6 [==============================] - 430s 73s/step - loss: 0.1133 - accuracy: 0.9631 - val_loss: 0.0493 - val_accuracy: 0.9808\n",
            "Epoch 16/50\n",
            "6/6 [==============================] - 501s 82s/step - loss: 0.2187 - accuracy: 0.9247 - val_loss: 0.2746 - val_accuracy: 0.8974\n",
            "Epoch 17/50\n",
            "6/6 [==============================] - 538s 105s/step - loss: 0.6158 - accuracy: 0.7308 - val_loss: 0.3261 - val_accuracy: 0.8077\n",
            "Epoch 18/50\n",
            "6/6 [==============================] - 471s 92s/step - loss: 0.4221 - accuracy: 0.8061 - val_loss: 0.2891 - val_accuracy: 0.9231\n",
            "Epoch 19/50\n",
            "6/6 [==============================] - 428s 72s/step - loss: 0.3469 - accuracy: 0.8670 - val_loss: 0.4953 - val_accuracy: 0.7949\n",
            "Epoch 20/50\n",
            "6/6 [==============================] - 384s 64s/step - loss: 0.2873 - accuracy: 0.9295 - val_loss: 0.2672 - val_accuracy: 0.9487\n",
            "Epoch 21/50\n",
            "6/6 [==============================] - 384s 65s/step - loss: 0.1861 - accuracy: 0.9535 - val_loss: 0.1666 - val_accuracy: 0.9679\n",
            "Epoch 22/50\n",
            "6/6 [==============================] - 482s 84s/step - loss: 0.1010 - accuracy: 0.9679 - val_loss: 0.0973 - val_accuracy: 0.9808\n",
            "Epoch 23/50\n",
            "6/6 [==============================] - 433s 72s/step - loss: 0.1002 - accuracy: 0.9583 - val_loss: 0.0676 - val_accuracy: 0.9936\n",
            "Epoch 24/50\n",
            "6/6 [==============================] - 420s 70s/step - loss: 0.1090 - accuracy: 0.9519 - val_loss: 0.1187 - val_accuracy: 0.9551\n",
            "Epoch 25/50\n",
            "6/6 [==============================] - 462s 89s/step - loss: 0.1561 - accuracy: 0.9407 - val_loss: 0.2796 - val_accuracy: 0.9038\n",
            "Epoch 26/50\n",
            "6/6 [==============================] - 419s 70s/step - loss: 0.1722 - accuracy: 0.9359 - val_loss: 0.2447 - val_accuracy: 0.9167\n",
            "Epoch 27/50\n",
            "6/6 [==============================] - 550s 95s/step - loss: 0.1170 - accuracy: 0.9583 - val_loss: 0.0621 - val_accuracy: 0.9936\n",
            "Epoch 28/50\n",
            "6/6 [==============================] - 518s 86s/step - loss: 0.0974 - accuracy: 0.9647 - val_loss: 0.0944 - val_accuracy: 0.9679\n",
            "Epoch 29/50\n",
            "6/6 [==============================] - 487s 82s/step - loss: 0.0868 - accuracy: 0.9599 - val_loss: 0.0453 - val_accuracy: 0.9872\n",
            "Epoch 30/50\n",
            "6/6 [==============================] - 473s 79s/step - loss: 0.1075 - accuracy: 0.9535 - val_loss: 0.0504 - val_accuracy: 0.9744\n",
            "Epoch 31/50\n",
            "6/6 [==============================] - 478s 79s/step - loss: 0.0818 - accuracy: 0.9647 - val_loss: 0.0586 - val_accuracy: 0.9872\n",
            "Epoch 32/50\n",
            "6/6 [==============================] - 535s 90s/step - loss: 0.0684 - accuracy: 0.9696 - val_loss: 0.0388 - val_accuracy: 1.0000\n",
            "Epoch 33/50\n",
            "6/6 [==============================] - 593s 101s/step - loss: 0.0629 - accuracy: 0.9728 - val_loss: 0.0671 - val_accuracy: 0.9744\n",
            "Epoch 34/50\n",
            "6/6 [==============================] - 964s 163s/step - loss: 0.0704 - accuracy: 0.9728 - val_loss: 0.0472 - val_accuracy: 0.9808\n",
            "Epoch 35/50\n",
            "6/6 [==============================] - 903s 149s/step - loss: 0.0643 - accuracy: 0.9728 - val_loss: 0.0567 - val_accuracy: 0.9872\n",
            "Epoch 36/50\n",
            "6/6 [==============================] - 682s 131s/step - loss: 0.0842 - accuracy: 0.9583 - val_loss: 0.1293 - val_accuracy: 0.9359\n",
            "Epoch 37/50\n",
            "6/6 [==============================] - 512s 88s/step - loss: 0.0785 - accuracy: 0.9647 - val_loss: 0.1579 - val_accuracy: 0.9295\n",
            "Epoch 38/50\n",
            "6/6 [==============================] - 514s 85s/step - loss: 0.0587 - accuracy: 0.9712 - val_loss: 0.0652 - val_accuracy: 0.9679\n",
            "Epoch 39/50\n",
            "6/6 [==============================] - 492s 95s/step - loss: 0.0627 - accuracy: 0.9728 - val_loss: 0.0793 - val_accuracy: 0.9744\n",
            "Epoch 40/50\n",
            "6/6 [==============================] - 466s 79s/step - loss: 0.0672 - accuracy: 0.9712 - val_loss: 0.0733 - val_accuracy: 0.9744\n",
            "Epoch 41/50\n",
            "6/6 [==============================] - 489s 81s/step - loss: 0.0722 - accuracy: 0.9647 - val_loss: 0.0587 - val_accuracy: 0.9872\n",
            "Epoch 42/50\n",
            "6/6 [==============================] - 481s 80s/step - loss: 0.1144 - accuracy: 0.9535 - val_loss: 0.0572 - val_accuracy: 0.9872\n",
            "Epoch 43/50\n",
            "6/6 [==============================] - 449s 75s/step - loss: 0.0570 - accuracy: 0.9760 - val_loss: 0.0625 - val_accuracy: 0.9808\n",
            "Epoch 44/50\n",
            "6/6 [==============================] - 493s 96s/step - loss: 0.0544 - accuracy: 0.9792 - val_loss: 0.0440 - val_accuracy: 0.9808\n",
            "Epoch 45/50\n",
            "6/6 [==============================] - 508s 85s/step - loss: 0.0518 - accuracy: 0.9744 - val_loss: 0.1313 - val_accuracy: 0.9487\n",
            "Epoch 46/50\n",
            "6/6 [==============================] - 488s 81s/step - loss: 0.0677 - accuracy: 0.9728 - val_loss: 0.0364 - val_accuracy: 1.0000\n",
            "Epoch 47/50\n",
            "6/6 [==============================] - 492s 81s/step - loss: 0.0618 - accuracy: 0.9712 - val_loss: 0.1106 - val_accuracy: 0.9679\n",
            "Epoch 48/50\n",
            "6/6 [==============================] - 472s 81s/step - loss: 0.0780 - accuracy: 0.9647 - val_loss: 0.8361 - val_accuracy: 0.6859\n",
            "Epoch 49/50\n",
            "6/6 [==============================] - 395s 66s/step - loss: 0.1143 - accuracy: 0.9519 - val_loss: 0.0956 - val_accuracy: 0.9679\n",
            "Epoch 50/50\n",
            "6/6 [==============================] - 563s 93s/step - loss: 0.0479 - accuracy: 0.9856 - val_loss: 0.1043 - val_accuracy: 0.9615\n"
          ]
        },
        {
          "output_type": "error",
          "ename": "NameError",
          "evalue": "ignored",
          "traceback": [
            "\u001b[1;31m---------------------------------------------------------------------------\u001b[0m",
            "\u001b[1;31mNameError\u001b[0m                                 Traceback (most recent call last)",
            "Input \u001b[1;32mIn [10]\u001b[0m, in \u001b[0;36m<module>\u001b[1;34m\u001b[0m\n\u001b[0;32m      7\u001b[0m csv_log\u001b[38;5;241m=\u001b[39mcallbacks\u001b[38;5;241m.\u001b[39mCSVLogger(filename, separator\u001b[38;5;241m=\u001b[39m\u001b[38;5;124m'\u001b[39m\u001b[38;5;124m,\u001b[39m\u001b[38;5;124m'\u001b[39m, append\u001b[38;5;241m=\u001b[39m\u001b[38;5;28;01mFalse\u001b[39;00m)\n\u001b[0;32m      9\u001b[0m early_stopping\u001b[38;5;241m=\u001b[39mcallbacks\u001b[38;5;241m.\u001b[39mEarlyStopping(monitor\u001b[38;5;241m=\u001b[39m\u001b[38;5;124m'\u001b[39m\u001b[38;5;124mval_loss\u001b[39m\u001b[38;5;124m'\u001b[39m, min_delta\u001b[38;5;241m=\u001b[39m\u001b[38;5;241m0\u001b[39m, patience\u001b[38;5;241m=\u001b[39m\u001b[38;5;241m0\u001b[39m, verbose\u001b[38;5;241m=\u001b[39m\u001b[38;5;241m0\u001b[39m, mode\u001b[38;5;241m=\u001b[39m\u001b[38;5;124m'\u001b[39m\u001b[38;5;124mmin\u001b[39m\u001b[38;5;124m'\u001b[39m)\n\u001b[1;32m---> 11\u001b[0m checkpoint \u001b[38;5;241m=\u001b[39m callbacks\u001b[38;5;241m.\u001b[39mModelCheckpoint(\u001b[43mfilepath\u001b[49m, monitor\u001b[38;5;241m=\u001b[39m\u001b[38;5;124m'\u001b[39m\u001b[38;5;124mval_loss\u001b[39m\u001b[38;5;124m'\u001b[39m, verbose\u001b[38;5;241m=\u001b[39m\u001b[38;5;241m1\u001b[39m, save_best_only\u001b[38;5;241m=\u001b[39m\u001b[38;5;28;01mTrue\u001b[39;00m, mode\u001b[38;5;241m=\u001b[39m\u001b[38;5;124m'\u001b[39m\u001b[38;5;124mmin\u001b[39m\u001b[38;5;124m'\u001b[39m)\n\u001b[0;32m     13\u001b[0m \u001b[38;5;66;03m# tensorboard callback\u001b[39;00m\n\u001b[0;32m     14\u001b[0m tensorboard_callback \u001b[38;5;241m=\u001b[39m k\u001b[38;5;241m.\u001b[39mcallbacks\u001b[38;5;241m.\u001b[39mTensorBoard(log_dir\u001b[38;5;241m=\u001b[39m\u001b[38;5;124m'\u001b[39m\u001b[38;5;124m./logs\u001b[39m\u001b[38;5;124m'\u001b[39m, histogram_freq\u001b[38;5;241m=\u001b[39m\u001b[38;5;241m0\u001b[39m, batch_size\u001b[38;5;241m=\u001b[39m\u001b[38;5;241m32\u001b[39m, write_graph\u001b[38;5;241m=\u001b[39m\u001b[38;5;28;01mTrue\u001b[39;00m, write_grads\u001b[38;5;241m=\u001b[39m\u001b[38;5;28;01mFalse\u001b[39;00m, write_images\u001b[38;5;241m=\u001b[39m\u001b[38;5;28;01mFalse\u001b[39;00m, embeddings_freq\u001b[38;5;241m=\u001b[39m\u001b[38;5;241m0\u001b[39m, embeddings_layer_names\u001b[38;5;241m=\u001b[39m\u001b[38;5;28;01mNone\u001b[39;00m, embeddings_metadata\u001b[38;5;241m=\u001b[39m\u001b[38;5;28;01mNone\u001b[39;00m)\n",
            "\u001b[1;31mNameError\u001b[0m: name 'filepath' is not defined"
          ]
        },
        {
          "output_type": "display_data",
          "data": {
            "text/plain": [
              "<Figure size 425.75x360 with 1 Axes>"
            ],
            "image/png": "[encoded data removed]"
          },
          "metadata": {
            "needs_background": "light"
          }
        },
        {
          "output_type": "display_data",
          "data": {
            "text/plain": [
              "<Figure size 425.75x360 with 1 Axes>"
            ],
            "image/png": "[encoded data removed]"
          },
          "metadata": {
            "needs_background": "light"
          }
        }
      ],
      "source": [
        "# Training\n",
        "hist = model.fit(train_generator,  batch_size=120, epochs=epochs, verbose=1, validation_data=validation_generator)\n",
        "assess(hist)\n",
        "\n",
        "\n"
      ]
    },
    {
      "cell_type": "code",
      "execution_count": null,
      "metadata": {
        "id": "4Q1LhvOFgR8n"
      },
      "outputs": [],
      "source": [
        "# Evaluating the model\n",
        "\n",
        "score = model.evaluate(X_test, y_test, show_accuracy=True, verbose=0)\n",
        "print('Test Loss:', score[0])\n",
        "print('Test accuracy:', score[1])\n",
        "\n",
        "test_image = X_test[0:1]\n",
        "print (test_image.shape)\n",
        "\n",
        "print(model.predict(test_image))\n",
        "print(model.predict_classes(test_image))\n",
        "print(y_test[0:1])\n",
        "\n",
        "# Save our model here\n",
        "file = open(filepath+\"motionblur.h5\", 'a')\n",
        "model.save(filepath+\"motionblur.h5\")\n",
        "file.close()"
      ]
    },
    {
      "cell_type": "code",
      "source": [
        "model.save(r\"C:\\Users\\livin\\Desktop\\bbleap\\cnn_50_epoch\")"
      ],
      "metadata": {
        "id": "4E9bc8fN5S4a",
        "colab": {
          "base_uri": "https://localhost:8080/"
        },
        "outputId": "50567cac-6f4f-4bd8-8837-62f0e1dd49ac"
      },
      "execution_count": null,
      "outputs": [
        {
          "output_type": "stream",
          "name": "stdout",
          "text": [
            "INFO:tensorflow:Assets written to: C:\\Users\\livin\\Desktop\\bbleap\\cnn_50_epoch\\assets\n"
          ]
        }
      ]
    },
    {
      "cell_type": "code",
      "source": [
        "import keras\n",
        "reconstructed_model = keras.models.load_model(r\"C:\\Users\\livin\\Desktop\\bbleap\\cnn_saved_3\")"
      ],
      "metadata": {
        "id": "l58Oe9tpVeOA"
      },
      "execution_count": null,
      "outputs": []
    },
    {
      "cell_type": "code",
      "source": [
        "#prediction\n",
        "from cv2 import imread\n",
        "import numpy as np\n",
        "i = imread(r\"C:\\Users\\livin\\Desktop\\bbleap\\whole_lap_divide\\clean\\4clean.png\")\n",
        "#i = np.swapaxes(i,0,1)\n",
        "print(i.shape)\n",
        "x = np.expand_dims(i, axis=0)\n",
        "print(x.shape)\n",
        "model.predict(x)"
      ],
      "metadata": {
        "colab": {
          "base_uri": "https://localhost:8080/"
        },
        "id": "sGWKLGtnjquL",
        "outputId": "52ad3998-94ed-4013-ddd2-ff53de4d1595"
      },
      "execution_count": null,
      "outputs": [
        {
          "output_type": "stream",
          "name": "stdout",
          "text": [
            "(1080, 1920, 3)\n",
            "(1, 1080, 1920, 3)\n"
          ]
        },
        {
          "output_type": "execute_result",
          "data": {
            "text/plain": [
              "array([[0.90780735]], dtype=float32)"
            ]
          },
          "metadata": {},
          "execution_count": 20
        }
      ]
    },
    {
      "cell_type": "code",
      "source": [],
      "metadata": {
        "id": "0dyb9EhGogUc"
      },
      "execution_count": null,
      "outputs": []
    }
  ],
  "metadata": {
    "colab": {
      "provenance": [],
      "mount_file_id": "1c4-LbEXpedWkgu2q2grY9imyLqveL9xe",
      "authorship_tag": "ABX9TyPhEV8U2ERh6K6Gv2n7nXBJ",
      "include_colab_link": true
    },
    "kernelspec": {
      "display_name": "Python 3",
      "name": "python3"
    },
    "language_info": {
      "name": "python"
    },
    "accelerator": "GPU",
    "gpuClass": "standard"
  },
  "nbformat": 4,
  "nbformat_minor": 0
}
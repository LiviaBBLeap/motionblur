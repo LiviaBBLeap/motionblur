{
  "nbformat": 4,
  "nbformat_minor": 0,
  "metadata": {
    "colab": {
      "provenance": [],
      "mount_file_id": "1OTkb3JDIEgXz2KuXC3q_GP6WcKb_X64V",
      "authorship_tag": "ABX9TyOsIJdsLUYHwPq9NeSFaAut",
      "include_colab_link": true
    },
    "kernelspec": {
      "name": "python3",
      "display_name": "Python 3"
    },
    "language_info": {
      "name": "python"
    }
  },
  "cells": [
    {
      "cell_type": "markdown",
      "metadata": {
        "id": "view-in-github",
        "colab_type": "text"
      },
      "source": [
        "<a href=\"https://colab.research.google.com/github/LiviaBBLeap/motionblur/blob/main/wavelet_playground.ipynb\" target=\"_parent\"><img src=\"https://colab.research.google.com/assets/colab-badge.svg\" alt=\"Open In Colab\"/></a>"
      ]
    },
    {
      "cell_type": "markdown",
      "source": [
        "Per decides whether the image is blured or not based on the lack of a type of edges (they dissapear w haar wavelet transformation), blurred extent give the sharpness of the edges left(other type)"
      ],
      "metadata": {
        "id": "VW97box4ElCu"
      }
    },
    {
      "cell_type": "code",
      "execution_count": null,
      "metadata": {
        "colab": {
          "base_uri": "https://localhost:8080/",
          "height": 123
        },
        "id": "RrQdDstyVoxT",
        "outputId": "46f49a44-6cd8-4eb4-d386-a5e6e5704275"
      },
      "outputs": [
        {
          "output_type": "execute_result",
          "data": {
            "text/plain": [
              "'\\ndef find_images(input_dir):\\n    extensions = [\".jpg\", \".png\", \".jpeg\"]\\n\\n    for root, dirs, files in os.walk(input_dir):\\n        for file in files:\\n            if os.path.splitext(file)[1].lower() in extensions:\\n                yield os.path.join(root, file)\\n                \\n                \\nif __name__ == \\'__main__\\':                \\n    parser = argparse.ArgumentParser(description=\\'run Haar Wavelet blur detection on a folder\\')\\n    parser.add_argument(\\'-i\\', \\'--input_dir\\', dest=\"input_dir\", type=str, required=True, help=\"directory of images\")\\n    parser.add_argument(\\'-s\\', \\'--save_path\\', dest=\\'save_path\\', type=str, help=\"path to save output\")\\n    parser.add_argument(\"-t\", \"--threshold\", dest=\\'threshold\\', type=float, default=35, help=\"blurry threshold\")\\n    parser.add_argument(\"-d\", \"--decision\", dest=\\'MinZero\\', type=float, default=0.001, help=\"MinZero Decision Threshold\")\\n    args = parser.parse_args()\\n    \\n    results = []\\n    \\n    for input_path in find_images(args.input_dir):\\n        try:\\n            I = cv2.imread(input_path)\\n            per, blurext = blur_detect(I, args.threshold)\\n            if per < args.MinZero:\\n                classification = True\\n            else:\\n                classification = False\\n            results.append({\"input_path\": input_path, \"per\": per, \"blur extent\": blurext, \"is blur\": classification})\\n            print(\"{0}, Per: {1:.5f}, blur extent: {2:.3f}, is blur: {3}\".format(input_path, per, blurext, classification))\\n            \\n            \\n        except Exception as e:\\n            print(e)\\n            pass\\n        \\n    if args.save_path:\\n        \\n        assert os.path.splitext(args.save_path)[1] == \".json\", \"You must include the extension .json on the end of the save path\"\\n        \\n        with open(args.save_path, \\'w\\') as outfile:\\n            json.dump(results, outfile, sort_keys=True, indent=4)\\n            outfile.write(\"\\n\")\\n        \\n'"
            ],
            "application/vnd.google.colaboratory.intrinsic+json": {
              "type": "string"
            }
          },
          "metadata": {},
          "execution_count": 2
        }
      ],
      "source": [
        "\"\"\"\n",
        "@author: pedrofRodenas\n",
        "\"\"\"\n",
        "\n",
        "import pywt\n",
        "import cv2\n",
        "import numpy as np\n",
        "import os\n",
        "import argparse\n",
        "import json\n",
        "\n",
        "def blur_detect(img, threshold):\n",
        "    \n",
        "    # Convert image to grayscale\n",
        "    Y = cv2.cvtColor(img, cv2.COLOR_BGR2GRAY)\n",
        "    \n",
        "    \n",
        "    M, N = Y.shape\n",
        "    \n",
        "    # Crop input image to be 3 divisible by 2\n",
        "    Y = Y[0:int(M/16)*16, 0:int(N/16)*16]\n",
        "    \n",
        "    # Step 1, compute Haar wavelet of input image\n",
        "    LL1,(LH1,HL1,HH1)= pywt.dwt2(Y, 'haar')\n",
        "    # Another application of 2D haar to LL1\n",
        "    LL2,(LH2,HL2,HH2)= pywt.dwt2(LL1, 'haar') \n",
        "    # Another application of 2D haar to LL2\n",
        "    LL3,(LH3,HL3,HH3)= pywt.dwt2(LL2, 'haar')\n",
        "    \n",
        "    # Construct the edge map in each scale Step 2\n",
        "    E1 = np.sqrt(np.power(LH1, 2)+np.power(HL1, 2)+np.power(HH1, 2))\n",
        "    E2 = np.sqrt(np.power(LH2, 2)+np.power(HL2, 2)+np.power(HH2, 2))\n",
        "    E3 = np.sqrt(np.power(LH3, 2)+np.power(HL3, 2)+np.power(HH3, 2))\n",
        "    \n",
        "    M1, N1 = E1.shape\n",
        "\n",
        "    # Sliding window size level 1\n",
        "    sizeM1 = 8\n",
        "    sizeN1 = 8\n",
        "    \n",
        "    # Sliding windows size level 2\n",
        "    sizeM2 = int(sizeM1/2)\n",
        "    sizeN2 = int(sizeN1/2)\n",
        "    \n",
        "    # Sliding windows size level 3\n",
        "    sizeM3 = int(sizeM2/2)\n",
        "    sizeN3 = int(sizeN2/2)\n",
        "    \n",
        "    # Number of edge maps, related to sliding windows size\n",
        "    N_iter = int((M1/sizeM1)*(N1/sizeN1))\n",
        "    \n",
        "    Emax1 = np.zeros((N_iter))\n",
        "    Emax2 = np.zeros((N_iter))\n",
        "    Emax3 = np.zeros((N_iter))\n",
        "    \n",
        "    \n",
        "    count = 0\n",
        "    \n",
        "    # Sliding windows index of level 1\n",
        "    x1 = 0\n",
        "    y1 = 0\n",
        "    # Sliding windows index of level 2\n",
        "    x2 = 0\n",
        "    y2 = 0\n",
        "    # Sliding windows index of level 3\n",
        "    x3 = 0\n",
        "    y3 = 0\n",
        "    \n",
        "    # Sliding windows limit on horizontal dimension\n",
        "    Y_limit = N1-sizeN1\n",
        "    \n",
        "    while count < N_iter:\n",
        "        # Get the maximum value of slicing windows over edge maps \n",
        "        # in each level\n",
        "        Emax1[count] = np.max(E1[x1:x1+sizeM1,y1:y1+sizeN1])\n",
        "        Emax2[count] = np.max(E2[x2:x2+sizeM2,y2:y2+sizeN2])\n",
        "        Emax3[count] = np.max(E3[x3:x3+sizeM3,y3:y3+sizeN3])\n",
        "        \n",
        "        # if sliding windows ends horizontal direction\n",
        "        # move along vertical direction and resets horizontal\n",
        "        # direction\n",
        "        if y1 == Y_limit:\n",
        "            x1 = x1 + sizeM1\n",
        "            y1 = 0\n",
        "            \n",
        "            x2 = x2 + sizeM2\n",
        "            y2 = 0\n",
        "            \n",
        "            x3 = x3 + sizeM3\n",
        "            y3 = 0\n",
        "            \n",
        "            count += 1\n",
        "        \n",
        "        # windows moves along horizontal dimension\n",
        "        else:\n",
        "                \n",
        "            y1 = y1 + sizeN1\n",
        "            y2 = y2 + sizeN2\n",
        "            y3 = y3 + sizeN3\n",
        "            count += 1\n",
        "    \n",
        "    # Step 3\n",
        "    EdgePoint1 = Emax1 > threshold;\n",
        "    EdgePoint2 = Emax2 > threshold;\n",
        "    EdgePoint3 = Emax3 > threshold;\n",
        "    \n",
        "    # Rule 1 Edge Pojnts\n",
        "    EdgePoint = EdgePoint1 + EdgePoint2 + EdgePoint3\n",
        "    \n",
        "    n_edges = EdgePoint.shape[0]\n",
        "    \n",
        "    # Rule 2 Dirak-Structure or Astep-Structure\n",
        "    DAstructure = (Emax1[EdgePoint] > Emax2[EdgePoint]) * (Emax2[EdgePoint] > Emax3[EdgePoint]);\n",
        "    \n",
        "    # Rule 3 Roof-Structure or Gstep-Structure\n",
        "    \n",
        "    RGstructure = np.zeros((n_edges))\n",
        "\n",
        "    for i in range(n_edges):\n",
        "    \n",
        "        if EdgePoint[i] == 1:\n",
        "        \n",
        "            if Emax1[i] < Emax2[i] and Emax2[i] < Emax3[i]:\n",
        "            \n",
        "                RGstructure[i] = 1\n",
        "                \n",
        "    # Rule 4 Roof-Structure\n",
        "    \n",
        "    RSstructure = np.zeros((n_edges))\n",
        "\n",
        "    for i in range(n_edges):\n",
        "    \n",
        "        if EdgePoint[i] == 1:\n",
        "        \n",
        "            if Emax2[i] > Emax1[i] and Emax2[i] > Emax3[i]:\n",
        "            \n",
        "                RSstructure[i] = 1\n",
        "\n",
        "    # Rule 5 Edge more likely to be in a blurred image \n",
        "\n",
        "    BlurC = np.zeros((n_edges));\n",
        "\n",
        "    for i in range(n_edges):\n",
        "    \n",
        "        if RGstructure[i] == 1 or RSstructure[i] == 1:\n",
        "        \n",
        "            if Emax1[i] < threshold:\n",
        "            \n",
        "                BlurC[i] = 1                        \n",
        "        \n",
        "    # Step 6\n",
        "    Per = np.sum(DAstructure)/np.sum(EdgePoint)\n",
        "    \n",
        "    # Step 7\n",
        "    if (np.sum(RGstructure) + np.sum(RSstructure)) == 0:\n",
        "        \n",
        "        BlurExtent = 100\n",
        "    else:\n",
        "        BlurExtent = np.sum(BlurC) / (np.sum(RGstructure) + np.sum(RSstructure))\n",
        "    \n",
        "    return Per, BlurExtent\n",
        "'''\n",
        "def find_images(input_dir):\n",
        "    extensions = [\".jpg\", \".png\", \".jpeg\"]\n",
        "\n",
        "    for root, dirs, files in os.walk(input_dir):\n",
        "        for file in files:\n",
        "            if os.path.splitext(file)[1].lower() in extensions:\n",
        "                yield os.path.join(root, file)\n",
        "                \n",
        "                \n",
        "if __name__ == '__main__':                \n",
        "    parser = argparse.ArgumentParser(description='run Haar Wavelet blur detection on a folder')\n",
        "    parser.add_argument('-i', '--input_dir', dest=\"input_dir\", type=str, required=True, help=\"directory of images\")\n",
        "    parser.add_argument('-s', '--save_path', dest='save_path', type=str, help=\"path to save output\")\n",
        "    parser.add_argument(\"-t\", \"--threshold\", dest='threshold', type=float, default=35, help=\"blurry threshold\")\n",
        "    parser.add_argument(\"-d\", \"--decision\", dest='MinZero', type=float, default=0.001, help=\"MinZero Decision Threshold\")\n",
        "    args = parser.parse_args()\n",
        "    \n",
        "    results = []\n",
        "    \n",
        "    for input_path in find_images(args.input_dir):\n",
        "        try:\n",
        "            I = cv2.imread(input_path)\n",
        "            per, blurext = blur_detect(I, args.threshold)\n",
        "            if per < args.MinZero:\n",
        "                classification = True\n",
        "            else:\n",
        "                classification = False\n",
        "            results.append({\"input_path\": input_path, \"per\": per, \"blur extent\": blurext, \"is blur\": classification})\n",
        "            print(\"{0}, Per: {1:.5f}, blur extent: {2:.3f}, is blur: {3}\".format(input_path, per, blurext, classification))\n",
        "            \n",
        "            \n",
        "        except Exception as e:\n",
        "            print(e)\n",
        "            pass\n",
        "        \n",
        "    if args.save_path:\n",
        "        \n",
        "        assert os.path.splitext(args.save_path)[1] == \".json\", \"You must include the extension .json on the end of the save path\"\n",
        "        \n",
        "        with open(args.save_path, 'w') as outfile:\n",
        "            json.dump(results, outfile, sort_keys=True, indent=4)\n",
        "            outfile.write(\"\\n\")\n",
        "'''\n"
      ]
    },
    {
      "cell_type": "code",
      "source": [
        "img = cv2.imread(\"/content/drive/MyDrive/00ad9c99-b81c-4c48-82e7-14ed1c3c07dc.png\")\n",
        "blur_detect(img,35)"
      ],
      "metadata": {
        "colab": {
          "base_uri": "https://localhost:8080/"
        },
        "id": "QLvCJKt7lNzg",
        "outputId": "48efc875-38fe-4748-c1b5-40a32bf54bc6"
      },
      "execution_count": null,
      "outputs": [
        {
          "output_type": "execute_result",
          "data": {
            "text/plain": [
              "(0.0007572889057175312, 0.3272890946502058)"
            ]
          },
          "metadata": {},
          "execution_count": 5
        }
      ]
    },
    {
      "cell_type": "code",
      "source": [
        "img = cv2.imread(\"/content/drive/MyDrive/clean/a67f8b1e-d9df-4dbe-b7e1-ddc90f71ee0a.png\")\n",
        "blur_detect(img, 35)"
      ],
      "metadata": {
        "colab": {
          "base_uri": "https://localhost:8080/"
        },
        "id": "gcxx1jW2lg7-",
        "outputId": "c561e91a-ad42-4cb0-b370-66f5e6e312ff"
      },
      "execution_count": null,
      "outputs": [
        {
          "output_type": "execute_result",
          "data": {
            "text/plain": [
              "(0.0025552486187845305, 0.1856430427758657)"
            ]
          },
          "metadata": {},
          "execution_count": 7
        }
      ]
    },
    {
      "cell_type": "code",
      "source": [
        "img = cv2.imread(\"/content/drive/MyDrive/blurry/a73a2c3c-5a4e-4ee1-add8-55a5e84fcacc.png\")\n",
        "blur_detect(img, 35)"
      ],
      "metadata": {
        "colab": {
          "base_uri": "https://localhost:8080/"
        },
        "id": "cgEiDqjNqqGc",
        "outputId": "4579db80-450d-45b8-a270-3b7e49765867"
      },
      "execution_count": null,
      "outputs": [
        {
          "output_type": "execute_result",
          "data": {
            "text/plain": [
              "(0.0005832037325038881, 0.6243396724775488)"
            ]
          },
          "metadata": {},
          "execution_count": 8
        }
      ]
    },
    {
      "cell_type": "code",
      "source": [
        "from os import listdir\n",
        "from os.path import isfile, join\n",
        "import re\n",
        "import numpy as np\n",
        "\n",
        "mypath = \"/content/drive/MyDrive/blurry\"\n",
        "files = [f for f in listdir(mypath) if isfile(join(mypath, f))]\n",
        "extent =[]\n",
        "blur = []\n",
        "for file in files:\n",
        "    img = cv2.imread(mypath +'/' +file)#.astype('int8')\n",
        "    p, be = blur_detect(img,35)\n",
        "    print(file, p)\n",
        "    extent.append(p)\n",
        "    blur.append(be)\n",
        "np.median(extent)\n"
      ],
      "metadata": {
        "colab": {
          "base_uri": "https://localhost:8080/"
        },
        "id": "NFg9uCkErWrx",
        "outputId": "6bdfb1a2-9a44-4572-872c-35b31011f7d1"
      },
      "execution_count": null,
      "outputs": [
        {
          "output_type": "stream",
          "name": "stdout",
          "text": [
            "0b52ae12-abc6-42bb-94c1-85393d87d8e6.png 0.0058634650286192936\n",
            "ecb7053f-d167-4017-9241-dd87c4203b75.png 0.0013785497656465398\n",
            "e98499f9-f452-4760-8188-55e50e4c3158.png 0.00021753317380900588\n",
            "ff41d066-f970-438d-948e-ac32ebe10076.png 0.010033444816053512\n",
            "f9418eab-aab6-45ee-972e-cda057428367.png 0.00616827041697508\n",
            "f2168600-a764-4a58-a1ea-398f07381cc4.png 0.002980505880457548\n",
            "d0cde6f2-a009-4b0f-8974-0bf3ac785e1d.png 0.003958156629912355\n",
            "bf89e8fc-313a-4ab0-a1eb-2845492e9ff8.png 0.0\n",
            "f524f074-74f8-4700-bafb-89d44cd673ed.png 0.002424426092885825\n",
            "f85b8cdc-de2b-46a9-9c4d-d5ac27ab9019.png 0.0009394572025052192\n",
            "f37b1986-862a-42aa-bbcd-d527b6a4f8bf.png 0.0022363026462914647\n",
            "f9d36fee-c504-49ba-8a87-a58737ba2420.png 0.0001694053870913095\n",
            "f7a45870-21f5-49de-9361-eef9780ad4ad.png 0.005443483829650976\n",
            "afb76cd9-5692-4c17-9c8c-7492c5d53121.png 0.0022665457842248413\n",
            "f7109110-95c3-4ba4-b4e2-460213445811.png 0.0008213292898660602\n",
            "f72857c5-325c-4f84-a1ed-c9ab0976a854.png 0.0009971953879713306\n",
            "f952f28e-e38f-4418-8082-36714a287b27.png 0.0013025921583952064\n",
            "f8ef8117-6af4-440b-9a0b-79aec67f0cf0.png 0.0006912587192861182\n",
            "f5f34679-f5fc-4be3-95de-026fc21d9a4a.png 0.0007703171138785466\n",
            "a73a2c3c-5a4e-4ee1-add8-55a5e84fcacc.png 0.0005832037325038881\n",
            "27119b12-cfbe-46ba-a0e4-81f835850d4d.png 0.0005159958720330237\n",
            "ee2a9400-785c-4f0b-b4e2-eb4f27e6b988.png 0.004019586348023094\n",
            "ecec748c-d6ee-4e7c-a114-dc8bd8311d73.png 0.003040900106431504\n",
            "1b727e80-8d23-41a6-bf96-7a613169502c.png 0.004138311568879897\n"
          ]
        },
        {
          "output_type": "execute_result",
          "data": {
            "text/plain": [
              "0.0018074262059690023"
            ]
          },
          "metadata": {},
          "execution_count": 5
        }
      ]
    },
    {
      "cell_type": "code",
      "source": [
        "\n",
        "\n",
        "mypath = \"/content/drive/MyDrive/clean\"\n",
        "files = [f for f in listdir(mypath) if isfile(join(mypath, f))]\n",
        "\n",
        "for file in files:\n",
        "    img = cv2.imread(mypath +'/' +file)#.astype('int8')\n",
        "    p, be = blur_detect(img,35)\n",
        "    print(file, p)\n",
        "    extent.append(p)\n",
        "np.median(extent)\n"
      ],
      "metadata": {
        "colab": {
          "base_uri": "https://localhost:8080/"
        },
        "id": "Y_VZC6n1r_bw",
        "outputId": "f89a75c8-118b-49f1-a288-4361a3148002"
      },
      "execution_count": null,
      "outputs": [
        {
          "output_type": "stream",
          "name": "stdout",
          "text": [
            "f0705784-3b8e-4858-bd77-20be0fade413.png 0.004440320763470077\n",
            "eed95caa-9a1d-4722-8763-6ceb976f4d18.png 0.0029920645245219203\n",
            "eee4e8fd-e7a0-4c21-98c3-9aa1a39db975.png 0.0037433155080213902\n",
            "edf5ee53-40f6-499c-892b-975198fc0453.png 0.00625222024866785\n",
            "dffadfaf-932c-4ecf-b7ec-90acca0dc4e6.png 0.0072997976293726514\n",
            "af5474c0-2937-49fe-a028-4744bb0f9b5f.png 0.006269813314547376\n",
            "ee380080-aa03-42b8-ac13-115b2a495f7b.png 0.0031490015360983105\n",
            "af95917c-37d4-4a8d-ba37-f5fa97c0199e.png 0.0077738515901060075\n",
            "adfb679a-1c7a-41bf-b3dd-d6ab8d5d6220.png 0.01700747149036571\n",
            "ad63c388-4d92-4070-93b9-21c783a1c216.png 0.011920865742306391\n",
            "fc5cb36a-2859-4086-a32e-bd4dad3ff6a8.png 0.0033121722329561135\n",
            "f929bd7c-bf75-416f-88bc-6b43cec5b902.png 0.0036509162395562734\n",
            "a67f8b1e-d9df-4dbe-b7e1-ddc90f71ee0a.png 0.0025552486187845305\n",
            "6894fe60-f4ae-4673-aee0-f4f33f0c578b.png 0.0010424131865268095\n",
            "51c32cde-75b4-49f1-9ad9-d1deb8dfac3a.png 0.0036256514842510764\n",
            "d9ca036a-9c26-44ec-860f-f628a34faff3.png 0.007419354838709678\n",
            "fbecd8de-0786-48b9-bb94-cc6803f52afc.png 0.0042132679638425\n",
            "f92f967d-d607-4ac3-8004-c86c9819da14.png 0.004208874304465687\n",
            "ed4a7df9-145a-417c-9140-cb7b3dcf9e7a.png 0.004077471967380225\n",
            "e7ed8bc7-ad21-4119-9f73-7016cb8dd3fe.png 0.006031646561178129\n",
            "cdad925e-4e0c-4849-81af-4d5aed1c8172.png 0.00416852761649546\n",
            "0be6c603-17bb-481a-82d1-1511f020f4cc.png 0.017895367754088534\n"
          ]
        },
        {
          "output_type": "execute_result",
          "data": {
            "text/plain": [
              "0.003638283861903675"
            ]
          },
          "metadata": {},
          "execution_count": 6
        }
      ]
    },
    {
      "cell_type": "code",
      "source": [
        "mypath = \"/content/drive/MyDrive/whole_lap_divide/clean\"\n",
        "files = [f for f in listdir(mypath) if isfile(join(mypath, f))]\n",
        "counter = 0 \n",
        "\n",
        "extent = []\n",
        "blur =[]\n",
        "for file in files:\n",
        "    img = cv2.imread(mypath +'/' +file)#.astype('int8')\n",
        "    p, be = blur_detect(img,35)\n",
        "    print(file, p,be)\n",
        "    extent.append(p)\n",
        "    blur.append(be)\n",
        "    counter+=1\n",
        "    if counter >10:\n",
        "      break\n",
        "print(np.median(extent))\n",
        "print(np.median(blur))\n"
      ],
      "metadata": {
        "id": "gxFQSRXEsNBD",
        "colab": {
          "base_uri": "https://localhost:8080/"
        },
        "outputId": "c0e39252-b5c5-47e1-eb23-3a4f9e72610a"
      },
      "execution_count": null,
      "outputs": [
        {
          "output_type": "stream",
          "name": "stdout",
          "text": [
            "4clean.png 0.0013866128828942392 0.09147206812024256\n",
            "5clean.png 0.0020199469763918696 0.09908516943692823\n",
            "6clean.png 0.002687140115163148 0.050780737436032015\n",
            "7clean.png 0.0031879622545269064 0.05770988379684032\n",
            "8clean.png 0.004313725490196078 0.04711551331816356\n",
            "9clean.png 0.006154249050674349 0.05393801153897759\n",
            "10clean.png 0.006608209429406532 0.03048065650644783\n",
            "11clean.png 0.005735406576599541 0.034330299089726915\n",
            "12clean.png 0.00297349709114415 0.07617161716171617\n",
            "13clean.png 0.002331002331002331 0.0775907417148869\n",
            "14clean.png 0.003945329012258701 0.19464544138929088\n",
            "0.0031879622545269064\n",
            "0.05770988379684032\n"
          ]
        }
      ]
    },
    {
      "cell_type": "code",
      "source": [
        "mypath = \"/content/drive/MyDrive/whole_lap_divide/blurry\"\n",
        "files = [f for f in listdir(mypath) if isfile(join(mypath, f))]\n",
        "counter = 0 \n",
        "\n",
        "extent = []\n",
        "blur =[]\n",
        "for file in files:\n",
        "    img = cv2.imread(mypath +'/' +file)#.astype('int8')\n",
        "    p, be = blur_detect(img,35)\n",
        "    print(file, p,be)\n",
        "    extent.append(p)\n",
        "    blur.append(be)\n",
        "    counter+=1\n",
        "    if counter >10:\n",
        "      break\n",
        "print(np.median(extent))\n",
        "print(np.median(blur))\n"
      ],
      "metadata": {
        "colab": {
          "base_uri": "https://localhost:8080/"
        },
        "id": "DXv-HtkTHFdr",
        "outputId": "163f201d-d38e-4e63-9bb0-1781351f4984"
      },
      "execution_count": null,
      "outputs": [
        {
          "output_type": "stream",
          "name": "stdout",
          "text": [
            "396blurry.png 0.0013128528291978469 0.2861337248098225\n",
            "397blurry.png 0.000792393026941363 0.32743125419181757\n",
            "398blurry.png 0.001380071763731714 0.48088813940415964\n",
            "399blurry.png 0.0006975446428571429 0.48992622020431326\n",
            "400blurry.png 0.001429128231778615 0.20879989461204057\n",
            "401blurry.png 0.0003913894324853229 0.23541061526274096\n",
            "436blurry.png 0.014339058999253173 0.39036755386565275\n",
            "437blurry.png 0.012462006079027355 0.45428156748911463\n",
            "438blurry.png 0.010625326598153632 0.5652335063009637\n",
            "439blurry.png 0.011609773002945764 0.6014359351988218\n",
            "440blurry.png 0.013539088659193479 0.3470597410700359\n",
            "0.001429128231778615\n",
            "0.39036755386565275\n"
          ]
        }
      ]
    }
  ]
}
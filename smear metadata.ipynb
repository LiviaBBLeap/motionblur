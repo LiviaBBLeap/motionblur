{
 "cells": [
  {
   "cell_type": "code",
   "execution_count": 65,
   "id": "cde8373d",
   "metadata": {},
   "outputs": [],
   "source": [
    "#imports\n",
    "import os\n",
    "from PIL.PngImagePlugin import PngImageFile, PngInfo\n",
    "import cv2\n",
    "import numpy as np\n",
    "img_name = r\"C:\\Users\\livin\\Desktop\\bbleap\\smear\\smearselection\\attempt_2\\blurry_1.png\"\n",
    "\n",
    "\n",
    "import blur_detector\n"
   ]
  },
  {
   "cell_type": "code",
   "execution_count": 108,
   "id": "88ab79f6",
   "metadata": {},
   "outputs": [],
   "source": [
    "#THRESHOLDS\n",
    "LAP_CLEAN = 900\n",
    "LAP_HOMOGENEITY_VARIANCE = 10000"
   ]
  },
  {
   "cell_type": "code",
   "execution_count": null,
   "id": "acbee51e",
   "metadata": {},
   "outputs": [],
   "source": []
  },
  {
   "cell_type": "markdown",
   "id": "d4ca8717",
   "metadata": {},
   "source": [
    "TO DO \n",
    "homogenous? - map\n",
    "parial what?\n",
    "\n",
    "THRESHOLDS\n",
    "laplacian\n",
    "variance of the lap in an image as homogeneity measure\n"
   ]
  },
  {
   "cell_type": "markdown",
   "id": "ab069472",
   "metadata": {},
   "source": [
    "#basically you will receive an png image and to get the metadata from that image you need those two lines:\n",
    "targetImage = PngImageFile(img_name)\n",
    "\n",
    "print(targetImage.text)"
   ]
  },
  {
   "cell_type": "code",
   "execution_count": 30,
   "id": "df890652",
   "metadata": {},
   "outputs": [
    {
     "name": "stdout",
     "output_type": "stream",
     "text": [
      "{'count': '309', 'camera_SN': 'ZED 37261831', 'longitude': '5.182566', 'latitude': '51.35232', 'Speed': '1811.0', 'Spray': 'TRUE', 'Gain': '34', 'Exposure': '65', 'Fps': '15'}\n"
     ]
    }
   ],
   "source": [
    "#order \"C:\\Users\\livin\\Desktop\\bbleap\\smear\\08-29\\ea1bb829-c098-43bc-8ddf-aad83f5a5f95.png\"\n",
    "#with open('filename.txt','rb') as f:\n",
    "img_name = r\"C:\\Users\\livin\\Desktop\\bbleap\\smear\\smearselection\\attempt_2\\blurry_1.png\"\n",
    "with open(img_name,'rb') as f:\n",
    "        filecontent = f.read()\n",
    "        targetImage = PngImageFile(img_name)\n",
    "\n",
    "        print(targetImage.text)\n",
    "\n",
    "        f.close()\n",
    "        \n"
   ]
  },
  {
   "cell_type": "code",
   "execution_count": 29,
   "id": "c4449588",
   "metadata": {
    "collapsed": true
   },
   "outputs": [
    {
     "name": "stdout",
     "output_type": "stream",
     "text": [
      "{'count': '4', 'camera_SN': 'ZED 35715283', 'longitude': '0.0', 'latitude': '0.0', 'Speed': '0.0', 'Gain': '1', 'Exposure': '43', 'Fps': '15'}\n",
      "{'count': '5', 'camera_SN': 'ZED 39766301', 'longitude': '0.0', 'latitude': '0.0', 'Speed': '0.0', 'Gain': '-1', 'Exposure': '-1', 'Fps': '15'}\n",
      "{'count': '7', 'camera_SN': 'ZED 39766301', 'longitude': '0.0', 'latitude': '0.0', 'Speed': '0.0', 'Gain': '1', 'Exposure': '65', 'Fps': '15'}\n",
      "{'count': '2', 'camera_SN': 'ZED 35715283', 'longitude': '0.0', 'latitude': '0.0', 'Speed': '0.0', 'Gain': '21', 'Exposure': '65', 'Fps': '15'}\n",
      "{'count': '9', 'camera_SN': 'ZED 39766301', 'longitude': '0.0', 'latitude': '0.0', 'Speed': '0.0', 'Gain': '-1', 'Exposure': '-1', 'Fps': '15'}\n",
      "{'count': '10', 'camera_SN': 'ZED 35715283', 'longitude': '0.0', 'latitude': '0.0', 'Speed': '0.0', 'Gain': '6', 'Exposure': '33', 'Fps': '15'}\n",
      "{'count': '13', 'camera_SN': 'ZED 39766301', 'longitude': '0.0', 'latitude': '0.0', 'Speed': '0.0', 'Gain': '-1', 'Exposure': '-1', 'Fps': '15'}\n",
      "{'count': '3', 'camera_SN': 'ZED 39766301', 'longitude': '0.0', 'latitude': '0.0', 'Speed': '0.0', 'Gain': '-1', 'Exposure': '-1', 'Fps': '15'}\n",
      "{'count': '1', 'camera_SN': 'ZED 39766301', 'longitude': '0.0', 'latitude': '0.0', 'Speed': '0.0', 'Gain': '-1', 'Exposure': '-1', 'Fps': '15'}\n",
      "{'count': '12', 'camera_SN': 'ZED 35715283', 'longitude': '0.0', 'latitude': '0.0', 'Speed': '0.0', 'Gain': '97', 'Exposure': '65', 'Fps': '15'}\n"
     ]
    }
   ],
   "source": [
    "#select\n",
    "folder_dir = r\"C:\\Users\\livin\\Desktop\\bbleap\\smear\\08-27\"\n",
    "for images in os.listdir(folder_dir):\n",
    " \n",
    "    # check if the image ends with png\n",
    "    if (images.endswith(\".png\")):\n",
    "        with open(os.path.join(folder_dir,images),'rb') as f:\n",
    "            filecontent = f.read()\n",
    "            targetImage = PngImageFile(os.path.join(folder_dir,images))\n",
    "\n",
    "            print(targetImage.text)\n",
    "            #ff.close()\n",
    "            f.close()"
   ]
  },
  {
   "cell_type": "code",
   "execution_count": 24,
   "id": "1973d61d",
   "metadata": {
    "collapsed": true
   },
   "outputs": [
    {
     "name": "stdout",
     "output_type": "stream",
     "text": [
      "blurry_1.png\n",
      "{'count': '309', 'camera_SN': 'ZED 37261831', 'longitude': '5.182566', 'latitude': '51.35232', 'Speed': '1811.0', 'Spray': 'TRUE', 'Gain': '34', 'Exposure': '65', 'Fps': '15'}\n",
      "blurry_10.png\n",
      "{'count': '320', 'camera_SN': 'ZED 36986408', 'longitude': '5.184902', 'latitude': '51.35386', 'Speed': '3069.0', 'Spray': 'TRUE', 'Gain': '46', 'Exposure': '65', 'Fps': '15'}\n",
      "blurry_11.png\n",
      "{'count': '321', 'camera_SN': 'ZED 37261831', 'longitude': '5.184226', 'latitude': '51.35363', 'Speed': '1450.0', 'Spray': 'FALSE', 'Gain': '42', 'Exposure': '65', 'Fps': '15'}\n",
      "blurry_12.png\n",
      "{'count': '323', 'camera_SN': 'ZED 37261831', 'longitude': '5.184146', 'latitude': '51.35398', 'Speed': '3019.0', 'Spray': 'TRUE', 'Gain': '43', 'Exposure': '65', 'Fps': '15'}\n",
      "blurry_13.png\n",
      "{'count': '324', 'camera_SN': 'ZED 36986408', 'longitude': '5.185007', 'latitude': '51.35428', 'Speed': '3063.0', 'Spray': 'TRUE', 'Gain': '43', 'Exposure': '65', 'Fps': '15'}\n",
      "blurry_2.png\n",
      "{'count': '310', 'camera_SN': 'ZED 36986408', 'longitude': '5.182186', 'latitude': '51.35246', 'Speed': '1719.0', 'Spray': 'FALSE', 'Gain': '40', 'Exposure': '65', 'Fps': '15'}\n",
      "blurry_3.png\n",
      "{'count': '312', 'camera_SN': 'ZED 36986408', 'longitude': '5.183084', 'latitude': '51.3529', 'Speed': '3063.0', 'Spray': 'TRUE', 'Gain': '40', 'Exposure': '65', 'Fps': '15'}\n",
      "blurry_4.png\n",
      "{'count': '313', 'camera_SN': 'ZED 37261831', 'longitude': '5.1839', 'latitude': '51.3532', 'Speed': '3058.0', 'Spray': 'TRUE', 'Gain': '40', 'Exposure': '65', 'Fps': '15'}\n",
      "blurry_5.png\n",
      "{'count': '314', 'camera_SN': 'ZED 36986408', 'longitude': '5.18463', 'latitude': '51.35346', 'Speed': '3086.0', 'Spray': 'TRUE', 'Gain': '40', 'Exposure': '65', 'Fps': '15'}\n",
      "blurry_6.png\n",
      "{'count': '315', 'camera_SN': 'ZED 37261831', 'longitude': '5.18542', 'latitude': '51.35374', 'Speed': '3063.0', 'Spray': 'TRUE', 'Gain': '40', 'Exposure': '65', 'Fps': '15'}\n",
      "blurry_7.png\n",
      "{'count': '316', 'camera_SN': 'ZED 36986408', 'longitude': '5.186308', 'latitude': '51.35406', 'Speed': '2877.0', 'Spray': 'TRUE', 'Gain': '40', 'Exposure': '65', 'Fps': '15'}\n",
      "blurry_8.png\n",
      "{'count': '317', 'camera_SN': 'ZED 37261831', 'longitude': '5.18669', 'latitude': '51.35432', 'Speed': '1975.0', 'Spray': 'FALSE', 'Gain': '40', 'Exposure': '65', 'Fps': '15'}\n",
      "blurry_9.png\n",
      "{'count': '319', 'camera_SN': 'ZED 37261831', 'longitude': '5.18578', 'latitude': '51.35419', 'Speed': '3063.0', 'Spray': 'TRUE', 'Gain': '42', 'Exposure': '65', 'Fps': '15'}\n",
      "clean_1.png\n",
      "{'count': '226', 'camera_SN': 'ZED 36986408', 'longitude': '5.195782', 'latitude': '51.31374', 'Speed': '686.0', 'Spray': 'FALSE', 'Gain': '1', 'Exposure': '2', 'Fps': '15'}\n",
      "clean_10.png\n",
      "{'count': '245', 'camera_SN': 'ZED 37261831', 'longitude': '5.197322', 'latitude': '51.31312', 'Speed': '1850.0', 'Spray': 'TRUE', 'Gain': '1', 'Exposure': '3', 'Fps': '15'}\n",
      "clean_2.png\n",
      "{'count': '233', 'camera_SN': 'ZED 37261831', 'longitude': '5.196312', 'latitude': '51.31416', 'Speed': '4141.0', 'Spray': 'TRUE', 'Gain': '1', 'Exposure': '3', 'Fps': '15'}\n",
      "clean_3.png\n",
      "{'count': '234', 'camera_SN': 'ZED 36986408', 'longitude': '5.195568', 'latitude': '51.31364', 'Speed': '4152.0', 'Spray': 'TRUE', 'Gain': '1', 'Exposure': '2', 'Fps': '15'}\n",
      "clean_4.png\n",
      "{'count': '235', 'camera_SN': 'ZED 37261831', 'longitude': '5.194778', 'latitude': '51.31316', 'Speed': '3894.0', 'Spray': 'TRUE', 'Gain': '1', 'Exposure': '2', 'Fps': '15'}\n",
      "clean_5.png\n",
      "{'count': '236', 'camera_SN': 'ZED 36986408', 'longitude': '5.194112', 'latitude': '51.31268', 'Speed': '4158.0', 'Spray': 'TRUE', 'Gain': '1', 'Exposure': '2', 'Fps': '15'}\n",
      "clean_6.png\n",
      "{'count': '238', 'camera_SN': 'ZED 36986408', 'longitude': '5.19226', 'latitude': '51.31208', 'Speed': '1511.0', 'Spray': 'TRUE', 'Gain': '1', 'Exposure': '2', 'Fps': '15'}\n",
      "clean_7.png\n",
      "{'count': '240', 'camera_SN': 'ZED 36986408', 'longitude': '5.192801', 'latitude': '51.31156', 'Speed': '3933.0', 'Spray': 'TRUE', 'Gain': '1', 'Exposure': '2', 'Fps': '15'}\n",
      "clean_8.png\n",
      "{'count': '242', 'camera_SN': 'ZED 36986408', 'longitude': '5.194989', 'latitude': '51.31224', 'Speed': '4147.0', 'Spray': 'TRUE', 'Gain': '1', 'Exposure': '2', 'Fps': '15'}\n",
      "clean_9.png\n",
      "{'count': '244', 'camera_SN': 'ZED 36986408', 'longitude': '5.197028', 'latitude': '51.31292', 'Speed': '2763.0', 'Spray': 'TRUE', 'Gain': '1', 'Exposure': '3', 'Fps': '15'}\n",
      "compl_s_1.png\n",
      "{'count': '655', 'camera_SN': 'ZED 34266973', 'longitude': '0.0', 'latitude': '0.0', 'Speed': '0.0', 'Gain': '1', 'Exposure': '2', 'Fps': '15'}\n",
      "compl_s_10.png\n",
      "{'count': '666', 'camera_SN': 'ZED 35715283', 'longitude': '0.0', 'latitude': '0.0', 'Speed': '0.0', 'Gain': '1', 'Exposure': '2', 'Fps': '15'}\n",
      "compl_s_11.png\n",
      "{'count': '667', 'camera_SN': 'ZED 34266973', 'longitude': '0.0', 'latitude': '0.0', 'Speed': '0.0', 'Gain': '1', 'Exposure': '3', 'Fps': '15'}\n",
      "compl_s_12.png\n",
      "{'count': '668', 'camera_SN': 'ZED 35715283', 'longitude': '0.0', 'latitude': '0.0', 'Speed': '0.0', 'Gain': '1', 'Exposure': '2', 'Fps': '15'}\n",
      "compl_s_13.png\n",
      "{'count': '670', 'camera_SN': 'ZED 35715283', 'longitude': '0.0', 'latitude': '0.0', 'Speed': '0.0', 'Gain': '1', 'Exposure': '2', 'Fps': '15'}\n",
      "compl_s_14.png\n",
      "{'count': '672', 'camera_SN': 'ZED 35715283', 'longitude': '0.0', 'latitude': '0.0', 'Speed': '0.0', 'Gain': '1', 'Exposure': '2', 'Fps': '15'}\n",
      "compl_s_15.png\n",
      "{'count': '673', 'camera_SN': 'ZED 34266973', 'longitude': '0.0', 'latitude': '0.0', 'Speed': '0.0', 'Gain': '1', 'Exposure': '3', 'Fps': '15'}\n",
      "compl_s_2.png\n",
      "{'count': '656', 'camera_SN': 'ZED 35715283', 'longitude': '0.0', 'latitude': '0.0', 'Speed': '0.0', 'Gain': '1', 'Exposure': '2', 'Fps': '15'}\n",
      "compl_s_3.png\n",
      "{'count': '657', 'camera_SN': 'ZED 34266973', 'longitude': '0.0', 'latitude': '0.0', 'Speed': '0.0', 'Gain': '1', 'Exposure': '2', 'Fps': '15'}\n",
      "compl_s_4.png\n",
      "{'count': '658', 'camera_SN': 'ZED 35715283', 'longitude': '0.0', 'latitude': '0.0', 'Speed': '0.0', 'Gain': '1', 'Exposure': '2', 'Fps': '15'}\n",
      "compl_s_5.png\n",
      "{'count': '659', 'camera_SN': 'ZED 34266973', 'longitude': '0.0', 'latitude': '0.0', 'Speed': '0.0', 'Gain': '1', 'Exposure': '2', 'Fps': '15'}\n",
      "compl_s_6.png\n",
      "{'count': '660', 'camera_SN': 'ZED 35715283', 'longitude': '0.0', 'latitude': '0.0', 'Speed': '0.0', 'Gain': '1', 'Exposure': '2', 'Fps': '15'}\n",
      "compl_s_7.png\n",
      "{'count': '661', 'camera_SN': 'ZED 34266973', 'longitude': '0.0', 'latitude': '0.0', 'Speed': '0.0', 'Gain': '1', 'Exposure': '2', 'Fps': '15'}\n",
      "compl_s_8.png\n",
      "{'count': '663', 'camera_SN': 'ZED 34266973', 'longitude': '0.0', 'latitude': '0.0', 'Speed': '0.0', 'Gain': '1', 'Exposure': '3', 'Fps': '15'}\n",
      "compl_s_9.png\n",
      "{'count': '665', 'camera_SN': 'ZED 34266973', 'longitude': '0.0', 'latitude': '0.0', 'Speed': '0.0', 'Gain': '1', 'Exposure': '3', 'Fps': '15'}\n",
      "partial_s_1.png\n",
      "{'count': '40', 'camera_SN': 'ZED 35715283', 'longitude': '0.0', 'latitude': '0.0', 'Speed': '0.0', 'Gain': '1', 'Exposure': '2', 'Fps': '15'}\n",
      "partial_s_10.png\n",
      "{'count': '49', 'camera_SN': 'ZED 35715283', 'longitude': '0.0', 'latitude': '0.0', 'Speed': '0.0', 'Gain': '1', 'Exposure': '2', 'Fps': '15'}\n",
      "partial_s_11.png\n",
      "{'count': '50', 'camera_SN': 'ZED 35715283', 'longitude': '0.0', 'latitude': '0.0', 'Speed': '0.0', 'Gain': '1', 'Exposure': '1', 'Fps': '15'}\n",
      "partial_s_12.png\n",
      "{'count': '51', 'camera_SN': 'ZED 35715283', 'longitude': '0.0', 'latitude': '0.0', 'Speed': '0.0', 'Gain': '3', 'Exposure': '1', 'Fps': '15'}\n",
      "partial_s_13.png\n",
      "{'count': '52', 'camera_SN': 'ZED 35715283', 'longitude': '0.0', 'latitude': '0.0', 'Speed': '0.0', 'Gain': '1', 'Exposure': '2', 'Fps': '15'}\n",
      "partial_s_14.png\n",
      "{'count': '53', 'camera_SN': 'ZED 35715283', 'longitude': '0.0', 'latitude': '0.0', 'Speed': '0.0', 'Gain': '1', 'Exposure': '3', 'Fps': '15'}\n",
      "partial_s_15.png\n",
      "{'count': '54', 'camera_SN': 'ZED 35715283', 'longitude': '0.0', 'latitude': '0.0', 'Speed': '0.0', 'Gain': '1', 'Exposure': '3', 'Fps': '15'}\n",
      "partial_s_16.png\n",
      "{'count': '55', 'camera_SN': 'ZED 35715283', 'longitude': '0.0', 'latitude': '0.0', 'Speed': '0.0', 'Gain': '1', 'Exposure': '3', 'Fps': '15'}\n",
      "partial_s_2.png\n",
      "{'count': '41', 'camera_SN': 'ZED 35715283', 'longitude': '0.0', 'latitude': '0.0', 'Speed': '0.0', 'Gain': '1', 'Exposure': '3', 'Fps': '15'}\n",
      "partial_s_3.png\n",
      "{'count': '42', 'camera_SN': 'ZED 35715283', 'longitude': '0.0', 'latitude': '0.0', 'Speed': '0.0', 'Gain': '1', 'Exposure': '4', 'Fps': '15'}\n",
      "partial_s_4.png\n",
      "{'count': '43', 'camera_SN': 'ZED 35715283', 'longitude': '0.0', 'latitude': '0.0', 'Speed': '0.0', 'Gain': '1', 'Exposure': '3', 'Fps': '15'}\n",
      "partial_s_5.png\n"
     ]
    },
    {
     "name": "stdout",
     "output_type": "stream",
     "text": [
      "{'count': '44', 'camera_SN': 'ZED 35715283', 'longitude': '0.0', 'latitude': '0.0', 'Speed': '0.0', 'Gain': '1', 'Exposure': '3', 'Fps': '15'}\n",
      "partial_s_6.png\n",
      "{'count': '45', 'camera_SN': 'ZED 35715283', 'longitude': '0.0', 'latitude': '0.0', 'Speed': '0.0', 'Gain': '1', 'Exposure': '2', 'Fps': '15'}\n",
      "partial_s_7.png\n",
      "{'count': '46', 'camera_SN': 'ZED 35715283', 'longitude': '0.0', 'latitude': '0.0', 'Speed': '0.0', 'Gain': '1', 'Exposure': '2', 'Fps': '15'}\n",
      "partial_s_8.png\n",
      "{'count': '47', 'camera_SN': 'ZED 35715283', 'longitude': '0.0', 'latitude': '0.0', 'Speed': '0.0', 'Gain': '1', 'Exposure': '2', 'Fps': '15'}\n",
      "partial_s_9.png\n",
      "{'count': '48', 'camera_SN': 'ZED 35715283', 'longitude': '0.0', 'latitude': '0.0', 'Speed': '0.0', 'Gain': '1', 'Exposure': '2', 'Fps': '15'}\n"
     ]
    }
   ],
   "source": [
    "#copy\n",
    "folder_dir = r\"C:\\Users\\livin\\Desktop\\bbleap\\smear\\smearselection\\attempt_2\"\n",
    "for images in os.listdir(folder_dir):\n",
    " \n",
    "    # check if the image ends with png\n",
    "    if (images.endswith(\".png\")):\n",
    "        targetImage = PngImageFile(os.path.join(folder_dir,images))\n",
    "        print(images)\n",
    "        print(targetImage.text)\n"
   ]
  },
  {
   "cell_type": "code",
   "execution_count": 104,
   "id": "2cdfb3bf",
   "metadata": {},
   "outputs": [],
   "source": [
    "#splits given image into grids\n",
    "def imageGridSplit(gray=[], amount_width = 8, amount_height = 2):\n",
    "    height, width = gray.shape\n",
    "    increment_height= height//amount_height#270\n",
    "    increment_width = width//amount_width#460\n",
    "    grid_collection = []\n",
    "    for h in range(amount_height):  \n",
    "        for w in range(amount_width):\n",
    "            im = gray[h*increment_height:h*increment_height+increment_height,w*increment_width:w*increment_width+increment_width]\n",
    "            grid_collection.append(im)\n",
    "\n",
    "  #returns a collection of cut images\n",
    "    return grid_collection"
   ]
  },
  {
   "cell_type": "code",
   "execution_count": 102,
   "id": "92cfc88e",
   "metadata": {},
   "outputs": [],
   "source": [
    "#maybe check that they are images\n",
    "\n",
    "def count_images(dir_path):\n",
    "    #l = os.listdir(dir_path)\n",
    "    \n",
    "    l = [i for i in os.listdir(dir_path) if os.path.isfile(os.path.join(dir_path,i))]\n",
    "    count = len(l)\n",
    "    return count,l"
   ]
  },
  {
   "cell_type": "code",
   "execution_count": 100,
   "id": "ea0c21b4",
   "metadata": {},
   "outputs": [],
   "source": [
    "def create_batches(names,length):\n",
    "    big_batch = []\n",
    "    start = 0\n",
    "    #end = length\n",
    "    step = 10\n",
    "    for i in range (start,length,step):\n",
    "        x = i\n",
    "        big_batch.append(names[x:x+step])\n",
    "    print(big_batch)\n",
    "    return big_batch\n",
    "    "
   ]
  },
  {
   "cell_type": "code",
   "execution_count": 40,
   "id": "0f00ae98",
   "metadata": {},
   "outputs": [],
   "source": [
    "#maybe make sure they are read by the date?\n",
    "\n",
    "#splits the folder into batches\n",
    "def batches_split(dir_path):\n",
    "    c,names = count_images(dir_path)\n",
    "    if c>10:\n",
    "        return create_batches(names,c) \n",
    "    else:\n",
    "        return names"
   ]
  },
  {
   "cell_type": "code",
   "execution_count": 73,
   "id": "e0059fea",
   "metadata": {},
   "outputs": [],
   "source": [
    "def laplacian(img):\n",
    "    return cv2.Laplacian(img, cv2.CV_64F).var()\n"
   ]
  },
  {
   "cell_type": "code",
   "execution_count": 64,
   "id": "ec38e4d6",
   "metadata": {},
   "outputs": [],
   "source": [
    "def isClean(imgs):\n",
    "    #later can be changed to more specific version of lap\n",
    "    l = []\n",
    "    for i in imgs:\n",
    "        l.append(laplacian(i))\n",
    "        \n",
    "    avg = np.average(l)\n",
    "    \n",
    "    if avg >LAP_CLEAN:\n",
    "        print(\"clean\")\n",
    "        return True\n",
    "    else:\n",
    "        print(\"dirty\")\n",
    "        return False"
   ]
  },
  {
   "cell_type": "code",
   "execution_count": 67,
   "id": "3dab300c",
   "metadata": {},
   "outputs": [],
   "source": []
  },
  {
   "cell_type": "code",
   "execution_count": null,
   "id": "3716c66f",
   "metadata": {},
   "outputs": [],
   "source": []
  },
  {
   "cell_type": "code",
   "execution_count": 110,
   "id": "869120f4",
   "metadata": {},
   "outputs": [],
   "source": [
    "def isPartial(imgs): \n",
    "    homogenous=0\n",
    "    hetero=0\n",
    "    for i in imgs:\n",
    "        \n",
    "        #calculate laplacian per grid\n",
    "        c = imageGridSplit(i)\n",
    "        l = []\n",
    "        for g in c:\n",
    "            l.append(laplacian(g))\n",
    "        var = np.var(l)\n",
    "\n",
    "        #create the map\n",
    "        blur_map = blur_detector.detectBlur(img, downsampling_factor=3, num_scales=4, scale_start=2, num_iterations_RF_filter=3)\n",
    "        hist = cv2.calcHist([image], [0], None, [256], [0, 256])\n",
    "        \n",
    "        \n",
    "        if var >=LAP_HOMOGENEITY_VARIANCE:\n",
    "            hetero+=1\n",
    "        else:\n",
    "            homogenous+=1\n",
    "\n",
    "    if  homogenous>hetero:\n",
    "        return True\n",
    "    else:\n",
    "        return False"
   ]
  },
  {
   "cell_type": "code",
   "execution_count": 6,
   "id": "2c8143e4",
   "metadata": {},
   "outputs": [],
   "source": [
    "#just one to distinguish smear/blur\n",
    "\n",
    "def isPartialSmear(value):\n",
    "    return value\n",
    "    "
   ]
  },
  {
   "cell_type": "code",
   "execution_count": 7,
   "id": "373d6c15",
   "metadata": {},
   "outputs": [],
   "source": [
    "def isPartialBlur(value):\n",
    "    return value"
   ]
  },
  {
   "cell_type": "code",
   "execution_count": 8,
   "id": "05f8d75f",
   "metadata": {},
   "outputs": [],
   "source": [
    "#just one to distinguish smear/blur\n",
    "def isSmear(value):\n",
    "    return value"
   ]
  },
  {
   "cell_type": "code",
   "execution_count": 9,
   "id": "34ffcada",
   "metadata": {},
   "outputs": [],
   "source": [
    "def isBlur(value):\n",
    "    return value"
   ]
  },
  {
   "cell_type": "code",
   "execution_count": 111,
   "id": "d79b4f7b",
   "metadata": {},
   "outputs": [
    {
     "name": "stdout",
     "output_type": "stream",
     "text": [
      "[['blurry_1.png', 'blurry_10.png', 'blurry_11.png', 'blurry_12.png', 'blurry_13.png', 'blurry_2.png', 'blurry_3.png', 'blurry_4.png', 'blurry_5.png', 'blurry_6.png'], ['blurry_7.png', 'blurry_8.png', 'blurry_9.png', 'clean_1.png', 'clean_10.png', 'clean_2.png', 'clean_3.png', 'clean_4.png', 'clean_5.png', 'clean_6.png'], ['clean_7.png', 'clean_8.png', 'clean_9.png', 'compl_s_1.png', 'compl_s_10.png', 'compl_s_11.png', 'compl_s_12.png', 'compl_s_13.png', 'compl_s_14.png', 'compl_s_15.png'], ['compl_s_2.png', 'compl_s_3.png', 'compl_s_4.png', 'compl_s_5.png', 'compl_s_6.png', 'compl_s_7.png', 'compl_s_8.png', 'compl_s_9.png', 'partial_s_1.png', 'partial_s_10.png'], ['partial_s_11.png', 'partial_s_12.png', 'partial_s_13.png', 'partial_s_14.png', 'partial_s_15.png', 'partial_s_16.png', 'partial_s_2.png', 'partial_s_3.png', 'partial_s_4.png', 'partial_s_5.png'], ['partial_s_6.png', 'partial_s_7.png', 'partial_s_8.png', 'partial_s_9.png']]\n",
      "dirty\n",
      "0\n",
      "10\n",
      "clean\n",
      "8\n",
      "2\n",
      "dirty\n",
      "3\n",
      "7\n",
      "dirty\n",
      "1\n",
      "9\n",
      "dirty\n",
      "2\n",
      "8\n",
      "dirty\n",
      "4\n",
      "0\n"
     ]
    }
   ],
   "source": [
    "#logic, should take in several images\n",
    "dir_path = r\"C:\\Users\\livin\\Desktop\\bbleap\\smear\\smearselection\\attempt_2\"\n",
    "\n",
    "batchess = batches_split(dir_path)\n",
    "#loop for batch at a time\n",
    "for batch in batchess:\n",
    "    #read the images in black and white\n",
    "    imgs = []\n",
    "    for i in batch:\n",
    "        imgs.append(cv2.imread(os.path.join(dir_path, i),0))\n",
    "\n",
    "\n",
    "    #all of the images are above laplacian value\n",
    "    if isClean(imgs):\n",
    "        if isPartial(imgs):\n",
    "            pass #put images into the cloud\n",
    "\n",
    "\n",
    "    else:\n",
    "        if isPartial(imgs):\n",
    "            if isPartialSmear(True):\n",
    "                pass\n",
    "        else:\n",
    "            if isSmear(True):\n",
    "                pass\n",
    "    \n",
    "        \n"
   ]
  },
  {
   "cell_type": "code",
   "execution_count": 34,
   "id": "37383dd8",
   "metadata": {},
   "outputs": [],
   "source": [
    "batches = None "
   ]
  },
  {
   "cell_type": "code",
   "execution_count": null,
   "id": "b4b6e422",
   "metadata": {},
   "outputs": [],
   "source": []
  },
  {
   "cell_type": "code",
   "execution_count": null,
   "id": "c20e6d0d",
   "metadata": {},
   "outputs": [],
   "source": []
  }
 ],
 "metadata": {
  "kernelspec": {
   "display_name": "Python 3 (ipykernel)",
   "language": "python",
   "name": "python3"
  },
  "language_info": {
   "codemirror_mode": {
    "name": "ipython",
    "version": 3
   },
   "file_extension": ".py",
   "mimetype": "text/x-python",
   "name": "python",
   "nbconvert_exporter": "python",
   "pygments_lexer": "ipython3",
   "version": "3.9.7"
  }
 },
 "nbformat": 4,
 "nbformat_minor": 5
}

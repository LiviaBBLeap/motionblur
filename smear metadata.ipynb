{
 "cells": [
  {
   "cell_type": "code",
   "execution_count": 9,
   "id": "cde8373d",
   "metadata": {},
   "outputs": [],
   "source": [
    "#imports\n",
    "import os\n",
    "from PIL.PngImagePlugin import PngImageFile, PngInfo\n",
    "img_name = r\"C:\\Users\\livin\\Desktop\\bbleap\\smear\\smearselection\\attempt_2\\blurry_1.png\"\n"
   ]
  },
  {
   "cell_type": "code",
   "execution_count": 10,
   "id": "ebb1b5a7",
   "metadata": {},
   "outputs": [],
   "source": [
    "#read"
   ]
  },
  {
   "cell_type": "markdown",
   "id": "ab069472",
   "metadata": {},
   "source": [
    "#basically you will receive an png image and to get the metadata from that image you need those two lines:\n",
    "targetImage = PngImageFile(img_name)\n",
    "\n",
    "print(targetImage.text)"
   ]
  },
  {
   "cell_type": "code",
   "execution_count": 30,
   "id": "df890652",
   "metadata": {},
   "outputs": [
    {
     "name": "stdout",
     "output_type": "stream",
     "text": [
      "{'count': '309', 'camera_SN': 'ZED 37261831', 'longitude': '5.182566', 'latitude': '51.35232', 'Speed': '1811.0', 'Spray': 'TRUE', 'Gain': '34', 'Exposure': '65', 'Fps': '15'}\n"
     ]
    }
   ],
   "source": [
    "#order \"C:\\Users\\livin\\Desktop\\bbleap\\smear\\08-29\\ea1bb829-c098-43bc-8ddf-aad83f5a5f95.png\"\n",
    "#with open('filename.txt','rb') as f:\n",
    "img_name = r\"C:\\Users\\livin\\Desktop\\bbleap\\smear\\smearselection\\attempt_2\\blurry_1.png\"\n",
    "with open(img_name,'rb') as f:\n",
    "        filecontent = f.read()\n",
    "        targetImage = PngImageFile(img_name)\n",
    "\n",
    "        print(targetImage.text)\n",
    "\n",
    "        f.close()\n",
    "        \n"
   ]
  },
  {
   "cell_type": "code",
   "execution_count": 29,
   "id": "c4449588",
   "metadata": {},
   "outputs": [
    {
     "name": "stdout",
     "output_type": "stream",
     "text": [
      "{'count': '4', 'camera_SN': 'ZED 35715283', 'longitude': '0.0', 'latitude': '0.0', 'Speed': '0.0', 'Gain': '1', 'Exposure': '43', 'Fps': '15'}\n",
      "{'count': '5', 'camera_SN': 'ZED 39766301', 'longitude': '0.0', 'latitude': '0.0', 'Speed': '0.0', 'Gain': '-1', 'Exposure': '-1', 'Fps': '15'}\n",
      "{'count': '7', 'camera_SN': 'ZED 39766301', 'longitude': '0.0', 'latitude': '0.0', 'Speed': '0.0', 'Gain': '1', 'Exposure': '65', 'Fps': '15'}\n",
      "{'count': '2', 'camera_SN': 'ZED 35715283', 'longitude': '0.0', 'latitude': '0.0', 'Speed': '0.0', 'Gain': '21', 'Exposure': '65', 'Fps': '15'}\n",
      "{'count': '9', 'camera_SN': 'ZED 39766301', 'longitude': '0.0', 'latitude': '0.0', 'Speed': '0.0', 'Gain': '-1', 'Exposure': '-1', 'Fps': '15'}\n",
      "{'count': '10', 'camera_SN': 'ZED 35715283', 'longitude': '0.0', 'latitude': '0.0', 'Speed': '0.0', 'Gain': '6', 'Exposure': '33', 'Fps': '15'}\n",
      "{'count': '13', 'camera_SN': 'ZED 39766301', 'longitude': '0.0', 'latitude': '0.0', 'Speed': '0.0', 'Gain': '-1', 'Exposure': '-1', 'Fps': '15'}\n",
      "{'count': '3', 'camera_SN': 'ZED 39766301', 'longitude': '0.0', 'latitude': '0.0', 'Speed': '0.0', 'Gain': '-1', 'Exposure': '-1', 'Fps': '15'}\n",
      "{'count': '1', 'camera_SN': 'ZED 39766301', 'longitude': '0.0', 'latitude': '0.0', 'Speed': '0.0', 'Gain': '-1', 'Exposure': '-1', 'Fps': '15'}\n",
      "{'count': '12', 'camera_SN': 'ZED 35715283', 'longitude': '0.0', 'latitude': '0.0', 'Speed': '0.0', 'Gain': '97', 'Exposure': '65', 'Fps': '15'}\n"
     ]
    }
   ],
   "source": [
    "#select\n",
    "folder_dir = r\"C:\\Users\\livin\\Desktop\\bbleap\\smear\\08-27\"\n",
    "for images in os.listdir(folder_dir):\n",
    " \n",
    "    # check if the image ends with png\n",
    "    if (images.endswith(\".png\")):\n",
    "        with open(os.path.join(folder_dir,images),'rb') as f:\n",
    "            filecontent = f.read()\n",
    "            targetImage = PngImageFile(os.path.join(folder_dir,images))\n",
    "\n",
    "            print(targetImage.text)\n",
    "            #ff.close()\n",
    "            f.close()"
   ]
  },
  {
   "cell_type": "code",
   "execution_count": 24,
   "id": "1973d61d",
   "metadata": {},
   "outputs": [
    {
     "name": "stdout",
     "output_type": "stream",
     "text": [
      "blurry_1.png\n",
      "{'count': '309', 'camera_SN': 'ZED 37261831', 'longitude': '5.182566', 'latitude': '51.35232', 'Speed': '1811.0', 'Spray': 'TRUE', 'Gain': '34', 'Exposure': '65', 'Fps': '15'}\n",
      "blurry_10.png\n",
      "{'count': '320', 'camera_SN': 'ZED 36986408', 'longitude': '5.184902', 'latitude': '51.35386', 'Speed': '3069.0', 'Spray': 'TRUE', 'Gain': '46', 'Exposure': '65', 'Fps': '15'}\n",
      "blurry_11.png\n",
      "{'count': '321', 'camera_SN': 'ZED 37261831', 'longitude': '5.184226', 'latitude': '51.35363', 'Speed': '1450.0', 'Spray': 'FALSE', 'Gain': '42', 'Exposure': '65', 'Fps': '15'}\n",
      "blurry_12.png\n",
      "{'count': '323', 'camera_SN': 'ZED 37261831', 'longitude': '5.184146', 'latitude': '51.35398', 'Speed': '3019.0', 'Spray': 'TRUE', 'Gain': '43', 'Exposure': '65', 'Fps': '15'}\n",
      "blurry_13.png\n",
      "{'count': '324', 'camera_SN': 'ZED 36986408', 'longitude': '5.185007', 'latitude': '51.35428', 'Speed': '3063.0', 'Spray': 'TRUE', 'Gain': '43', 'Exposure': '65', 'Fps': '15'}\n",
      "blurry_2.png\n",
      "{'count': '310', 'camera_SN': 'ZED 36986408', 'longitude': '5.182186', 'latitude': '51.35246', 'Speed': '1719.0', 'Spray': 'FALSE', 'Gain': '40', 'Exposure': '65', 'Fps': '15'}\n",
      "blurry_3.png\n",
      "{'count': '312', 'camera_SN': 'ZED 36986408', 'longitude': '5.183084', 'latitude': '51.3529', 'Speed': '3063.0', 'Spray': 'TRUE', 'Gain': '40', 'Exposure': '65', 'Fps': '15'}\n",
      "blurry_4.png\n",
      "{'count': '313', 'camera_SN': 'ZED 37261831', 'longitude': '5.1839', 'latitude': '51.3532', 'Speed': '3058.0', 'Spray': 'TRUE', 'Gain': '40', 'Exposure': '65', 'Fps': '15'}\n",
      "blurry_5.png\n",
      "{'count': '314', 'camera_SN': 'ZED 36986408', 'longitude': '5.18463', 'latitude': '51.35346', 'Speed': '3086.0', 'Spray': 'TRUE', 'Gain': '40', 'Exposure': '65', 'Fps': '15'}\n",
      "blurry_6.png\n",
      "{'count': '315', 'camera_SN': 'ZED 37261831', 'longitude': '5.18542', 'latitude': '51.35374', 'Speed': '3063.0', 'Spray': 'TRUE', 'Gain': '40', 'Exposure': '65', 'Fps': '15'}\n",
      "blurry_7.png\n",
      "{'count': '316', 'camera_SN': 'ZED 36986408', 'longitude': '5.186308', 'latitude': '51.35406', 'Speed': '2877.0', 'Spray': 'TRUE', 'Gain': '40', 'Exposure': '65', 'Fps': '15'}\n",
      "blurry_8.png\n",
      "{'count': '317', 'camera_SN': 'ZED 37261831', 'longitude': '5.18669', 'latitude': '51.35432', 'Speed': '1975.0', 'Spray': 'FALSE', 'Gain': '40', 'Exposure': '65', 'Fps': '15'}\n",
      "blurry_9.png\n",
      "{'count': '319', 'camera_SN': 'ZED 37261831', 'longitude': '5.18578', 'latitude': '51.35419', 'Speed': '3063.0', 'Spray': 'TRUE', 'Gain': '42', 'Exposure': '65', 'Fps': '15'}\n",
      "clean_1.png\n",
      "{'count': '226', 'camera_SN': 'ZED 36986408', 'longitude': '5.195782', 'latitude': '51.31374', 'Speed': '686.0', 'Spray': 'FALSE', 'Gain': '1', 'Exposure': '2', 'Fps': '15'}\n",
      "clean_10.png\n",
      "{'count': '245', 'camera_SN': 'ZED 37261831', 'longitude': '5.197322', 'latitude': '51.31312', 'Speed': '1850.0', 'Spray': 'TRUE', 'Gain': '1', 'Exposure': '3', 'Fps': '15'}\n",
      "clean_2.png\n",
      "{'count': '233', 'camera_SN': 'ZED 37261831', 'longitude': '5.196312', 'latitude': '51.31416', 'Speed': '4141.0', 'Spray': 'TRUE', 'Gain': '1', 'Exposure': '3', 'Fps': '15'}\n",
      "clean_3.png\n",
      "{'count': '234', 'camera_SN': 'ZED 36986408', 'longitude': '5.195568', 'latitude': '51.31364', 'Speed': '4152.0', 'Spray': 'TRUE', 'Gain': '1', 'Exposure': '2', 'Fps': '15'}\n",
      "clean_4.png\n",
      "{'count': '235', 'camera_SN': 'ZED 37261831', 'longitude': '5.194778', 'latitude': '51.31316', 'Speed': '3894.0', 'Spray': 'TRUE', 'Gain': '1', 'Exposure': '2', 'Fps': '15'}\n",
      "clean_5.png\n",
      "{'count': '236', 'camera_SN': 'ZED 36986408', 'longitude': '5.194112', 'latitude': '51.31268', 'Speed': '4158.0', 'Spray': 'TRUE', 'Gain': '1', 'Exposure': '2', 'Fps': '15'}\n",
      "clean_6.png\n",
      "{'count': '238', 'camera_SN': 'ZED 36986408', 'longitude': '5.19226', 'latitude': '51.31208', 'Speed': '1511.0', 'Spray': 'TRUE', 'Gain': '1', 'Exposure': '2', 'Fps': '15'}\n",
      "clean_7.png\n",
      "{'count': '240', 'camera_SN': 'ZED 36986408', 'longitude': '5.192801', 'latitude': '51.31156', 'Speed': '3933.0', 'Spray': 'TRUE', 'Gain': '1', 'Exposure': '2', 'Fps': '15'}\n",
      "clean_8.png\n",
      "{'count': '242', 'camera_SN': 'ZED 36986408', 'longitude': '5.194989', 'latitude': '51.31224', 'Speed': '4147.0', 'Spray': 'TRUE', 'Gain': '1', 'Exposure': '2', 'Fps': '15'}\n",
      "clean_9.png\n",
      "{'count': '244', 'camera_SN': 'ZED 36986408', 'longitude': '5.197028', 'latitude': '51.31292', 'Speed': '2763.0', 'Spray': 'TRUE', 'Gain': '1', 'Exposure': '3', 'Fps': '15'}\n",
      "compl_s_1.png\n",
      "{'count': '655', 'camera_SN': 'ZED 34266973', 'longitude': '0.0', 'latitude': '0.0', 'Speed': '0.0', 'Gain': '1', 'Exposure': '2', 'Fps': '15'}\n",
      "compl_s_10.png\n",
      "{'count': '666', 'camera_SN': 'ZED 35715283', 'longitude': '0.0', 'latitude': '0.0', 'Speed': '0.0', 'Gain': '1', 'Exposure': '2', 'Fps': '15'}\n",
      "compl_s_11.png\n",
      "{'count': '667', 'camera_SN': 'ZED 34266973', 'longitude': '0.0', 'latitude': '0.0', 'Speed': '0.0', 'Gain': '1', 'Exposure': '3', 'Fps': '15'}\n",
      "compl_s_12.png\n",
      "{'count': '668', 'camera_SN': 'ZED 35715283', 'longitude': '0.0', 'latitude': '0.0', 'Speed': '0.0', 'Gain': '1', 'Exposure': '2', 'Fps': '15'}\n",
      "compl_s_13.png\n",
      "{'count': '670', 'camera_SN': 'ZED 35715283', 'longitude': '0.0', 'latitude': '0.0', 'Speed': '0.0', 'Gain': '1', 'Exposure': '2', 'Fps': '15'}\n",
      "compl_s_14.png\n",
      "{'count': '672', 'camera_SN': 'ZED 35715283', 'longitude': '0.0', 'latitude': '0.0', 'Speed': '0.0', 'Gain': '1', 'Exposure': '2', 'Fps': '15'}\n",
      "compl_s_15.png\n",
      "{'count': '673', 'camera_SN': 'ZED 34266973', 'longitude': '0.0', 'latitude': '0.0', 'Speed': '0.0', 'Gain': '1', 'Exposure': '3', 'Fps': '15'}\n",
      "compl_s_2.png\n",
      "{'count': '656', 'camera_SN': 'ZED 35715283', 'longitude': '0.0', 'latitude': '0.0', 'Speed': '0.0', 'Gain': '1', 'Exposure': '2', 'Fps': '15'}\n",
      "compl_s_3.png\n",
      "{'count': '657', 'camera_SN': 'ZED 34266973', 'longitude': '0.0', 'latitude': '0.0', 'Speed': '0.0', 'Gain': '1', 'Exposure': '2', 'Fps': '15'}\n",
      "compl_s_4.png\n",
      "{'count': '658', 'camera_SN': 'ZED 35715283', 'longitude': '0.0', 'latitude': '0.0', 'Speed': '0.0', 'Gain': '1', 'Exposure': '2', 'Fps': '15'}\n",
      "compl_s_5.png\n",
      "{'count': '659', 'camera_SN': 'ZED 34266973', 'longitude': '0.0', 'latitude': '0.0', 'Speed': '0.0', 'Gain': '1', 'Exposure': '2', 'Fps': '15'}\n",
      "compl_s_6.png\n",
      "{'count': '660', 'camera_SN': 'ZED 35715283', 'longitude': '0.0', 'latitude': '0.0', 'Speed': '0.0', 'Gain': '1', 'Exposure': '2', 'Fps': '15'}\n",
      "compl_s_7.png\n",
      "{'count': '661', 'camera_SN': 'ZED 34266973', 'longitude': '0.0', 'latitude': '0.0', 'Speed': '0.0', 'Gain': '1', 'Exposure': '2', 'Fps': '15'}\n",
      "compl_s_8.png\n",
      "{'count': '663', 'camera_SN': 'ZED 34266973', 'longitude': '0.0', 'latitude': '0.0', 'Speed': '0.0', 'Gain': '1', 'Exposure': '3', 'Fps': '15'}\n",
      "compl_s_9.png\n",
      "{'count': '665', 'camera_SN': 'ZED 34266973', 'longitude': '0.0', 'latitude': '0.0', 'Speed': '0.0', 'Gain': '1', 'Exposure': '3', 'Fps': '15'}\n",
      "partial_s_1.png\n",
      "{'count': '40', 'camera_SN': 'ZED 35715283', 'longitude': '0.0', 'latitude': '0.0', 'Speed': '0.0', 'Gain': '1', 'Exposure': '2', 'Fps': '15'}\n",
      "partial_s_10.png\n",
      "{'count': '49', 'camera_SN': 'ZED 35715283', 'longitude': '0.0', 'latitude': '0.0', 'Speed': '0.0', 'Gain': '1', 'Exposure': '2', 'Fps': '15'}\n",
      "partial_s_11.png\n",
      "{'count': '50', 'camera_SN': 'ZED 35715283', 'longitude': '0.0', 'latitude': '0.0', 'Speed': '0.0', 'Gain': '1', 'Exposure': '1', 'Fps': '15'}\n",
      "partial_s_12.png\n",
      "{'count': '51', 'camera_SN': 'ZED 35715283', 'longitude': '0.0', 'latitude': '0.0', 'Speed': '0.0', 'Gain': '3', 'Exposure': '1', 'Fps': '15'}\n",
      "partial_s_13.png\n",
      "{'count': '52', 'camera_SN': 'ZED 35715283', 'longitude': '0.0', 'latitude': '0.0', 'Speed': '0.0', 'Gain': '1', 'Exposure': '2', 'Fps': '15'}\n",
      "partial_s_14.png\n",
      "{'count': '53', 'camera_SN': 'ZED 35715283', 'longitude': '0.0', 'latitude': '0.0', 'Speed': '0.0', 'Gain': '1', 'Exposure': '3', 'Fps': '15'}\n",
      "partial_s_15.png\n",
      "{'count': '54', 'camera_SN': 'ZED 35715283', 'longitude': '0.0', 'latitude': '0.0', 'Speed': '0.0', 'Gain': '1', 'Exposure': '3', 'Fps': '15'}\n",
      "partial_s_16.png\n",
      "{'count': '55', 'camera_SN': 'ZED 35715283', 'longitude': '0.0', 'latitude': '0.0', 'Speed': '0.0', 'Gain': '1', 'Exposure': '3', 'Fps': '15'}\n",
      "partial_s_2.png\n",
      "{'count': '41', 'camera_SN': 'ZED 35715283', 'longitude': '0.0', 'latitude': '0.0', 'Speed': '0.0', 'Gain': '1', 'Exposure': '3', 'Fps': '15'}\n",
      "partial_s_3.png\n",
      "{'count': '42', 'camera_SN': 'ZED 35715283', 'longitude': '0.0', 'latitude': '0.0', 'Speed': '0.0', 'Gain': '1', 'Exposure': '4', 'Fps': '15'}\n",
      "partial_s_4.png\n",
      "{'count': '43', 'camera_SN': 'ZED 35715283', 'longitude': '0.0', 'latitude': '0.0', 'Speed': '0.0', 'Gain': '1', 'Exposure': '3', 'Fps': '15'}\n",
      "partial_s_5.png\n"
     ]
    },
    {
     "name": "stdout",
     "output_type": "stream",
     "text": [
      "{'count': '44', 'camera_SN': 'ZED 35715283', 'longitude': '0.0', 'latitude': '0.0', 'Speed': '0.0', 'Gain': '1', 'Exposure': '3', 'Fps': '15'}\n",
      "partial_s_6.png\n",
      "{'count': '45', 'camera_SN': 'ZED 35715283', 'longitude': '0.0', 'latitude': '0.0', 'Speed': '0.0', 'Gain': '1', 'Exposure': '2', 'Fps': '15'}\n",
      "partial_s_7.png\n",
      "{'count': '46', 'camera_SN': 'ZED 35715283', 'longitude': '0.0', 'latitude': '0.0', 'Speed': '0.0', 'Gain': '1', 'Exposure': '2', 'Fps': '15'}\n",
      "partial_s_8.png\n",
      "{'count': '47', 'camera_SN': 'ZED 35715283', 'longitude': '0.0', 'latitude': '0.0', 'Speed': '0.0', 'Gain': '1', 'Exposure': '2', 'Fps': '15'}\n",
      "partial_s_9.png\n",
      "{'count': '48', 'camera_SN': 'ZED 35715283', 'longitude': '0.0', 'latitude': '0.0', 'Speed': '0.0', 'Gain': '1', 'Exposure': '2', 'Fps': '15'}\n"
     ]
    }
   ],
   "source": [
    "#copy\n",
    "folder_dir = r\"C:\\Users\\livin\\Desktop\\bbleap\\smear\\smearselection\\attempt_2\"\n",
    "for images in os.listdir(folder_dir):\n",
    " \n",
    "    # check if the image ends with png\n",
    "    if (images.endswith(\".png\")):\n",
    "        targetImage = PngImageFile(os.path.join(folder_dir,images))\n",
    "        print(images)\n",
    "        print(targetImage.text)\n"
   ]
  },
  {
   "cell_type": "markdown",
   "id": "a7f2ecd5",
   "metadata": {},
   "source": [
    "Functions that output True/false in order to make a decision on"
   ]
  },
  {
   "cell_type": "code",
   "execution_count": 1,
   "id": "ec38e4d6",
   "metadata": {},
   "outputs": [],
   "source": [
    "def isClean():\n",
    "    return False"
   ]
  },
  {
   "cell_type": "code",
   "execution_count": 11,
   "id": "cb7536f7",
   "metadata": {},
   "outputs": [],
   "source": [
    "def isPartial(value):\n",
    "    return value"
   ]
  },
  {
   "cell_type": "code",
   "execution_count": 3,
   "id": "cc97f767",
   "metadata": {},
   "outputs": [],
   "source": [
    "#just one to distinguish smear/blur\n",
    "\n",
    "def isPartialSmear(value):\n",
    "    return value\n",
    "    "
   ]
  },
  {
   "cell_type": "code",
   "execution_count": 4,
   "id": "4ceac551",
   "metadata": {},
   "outputs": [],
   "source": [
    "def isPartialBlur(value):\n",
    "    return value"
   ]
  },
  {
   "cell_type": "code",
   "execution_count": 5,
   "id": "f9542998",
   "metadata": {},
   "outputs": [],
   "source": [
    "#just one to distinguish smear/blur\n",
    "def isSmear(value):\n",
    "    return value"
   ]
  },
  {
   "cell_type": "code",
   "execution_count": 6,
   "id": "10351173",
   "metadata": {},
   "outputs": [],
   "source": [
    "def isBlur(value):\n",
    "    return value"
   ]
  },
  {
   "cell_type": "code",
   "execution_count": 12,
   "id": "92d88bae",
   "metadata": {},
   "outputs": [],
   "source": [
    "#logic\n",
    "ditry = True\n",
    "if isClean():\n",
    "    pass #put images into the cloud\n",
    "\n",
    "\n",
    "else:\n",
    "    if isPartial(True):\n",
    "        if isPartialSmear(True):\n",
    "            pass\n",
    "    else:\n",
    "        if isSmear(True):\n",
    "            pass\n",
    "    \n",
    "        \n"
   ]
  },
  {
   "cell_type": "code",
   "execution_count": null,
   "id": "bc259a70",
   "metadata": {},
   "outputs": [],
   "source": []
  }
 ],
 "metadata": {
  "kernelspec": {
   "display_name": "Python 3 (ipykernel)",
   "language": "python",
   "name": "python3"
  },
  "language_info": {
   "codemirror_mode": {
    "name": "ipython",
    "version": 3
   },
   "file_extension": ".py",
   "mimetype": "text/x-python",
   "name": "python",
   "nbconvert_exporter": "python",
   "pygments_lexer": "ipython3",
   "version": "3.9.7"
  }
 },
 "nbformat": 4,
 "nbformat_minor": 5
}
